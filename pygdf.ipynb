{
 "cells": [
  {
   "cell_type": "code",
   "execution_count": 1,
   "metadata": {},
   "outputs": [],
   "source": [
    "import pygdf\n",
    "import numpy as np\n",
    "from pygdf.dataframe import DataFrame"
   ]
  },
  {
   "cell_type": "code",
   "execution_count": 2,
   "metadata": {},
   "outputs": [],
   "source": [
    "import pyarrow as pa, sys, pandas as pd"
   ]
  },
  {
   "cell_type": "code",
   "execution_count": 3,
   "metadata": {},
   "outputs": [],
   "source": [
    "def readArrowToDF(source):\n",
    "    reader = pa.RecordBatchStreamReader(source)\n",
    "    pa_df = reader.read_all()\n",
    "    return pa_df.to_pandas()"
   ]
  },
  {
   "cell_type": "code",
   "execution_count": 4,
   "metadata": {},
   "outputs": [],
   "source": [
    "df = readArrowToDF(\"node-server/uploads/uber-dataset.arrow\")"
   ]
  },
  {
   "cell_type": "code",
   "execution_count": 5,
   "metadata": {},
   "outputs": [],
   "source": [
    "gpu_df = DataFrame.from_pandas(df)"
   ]
  },
  {
   "cell_type": "code",
   "execution_count": null,
   "metadata": {},
   "outputs": [],
   "source": []
  },
  {
   "cell_type": "code",
   "execution_count": 8,
   "metadata": {},
   "outputs": [],
   "source": [
    "df = DataFrame()\n",
    "nelem = 10**6  # A million item\n",
    "df['key1'] = np.random.randint(0, 5, nelem)\n",
    "df['key2'] = np.random.randint(0, 3, nelem)\n",
    "df['val1'] = np.arange(1, 1 + nelem)\n",
    "df['val2'] = np.random.random(nelem)"
   ]
  },
  {
   "cell_type": "code",
   "execution_count": 4,
   "metadata": {},
   "outputs": [
    {
     "data": {
      "text/html": [
       "<div>\n",
       "<style scoped>\n",
       "    .dataframe tbody tr th:only-of-type {\n",
       "        vertical-align: middle;\n",
       "    }\n",
       "\n",
       "    .dataframe tbody tr th {\n",
       "        vertical-align: top;\n",
       "    }\n",
       "\n",
       "    .dataframe thead th {\n",
       "        text-align: right;\n",
       "    }\n",
       "</style>\n",
       "<table border=\"1\" class=\"dataframe\">\n",
       "  <thead>\n",
       "    <tr style=\"text-align: right;\">\n",
       "      <th></th>\n",
       "      <th>key1</th>\n",
       "      <th>key2</th>\n",
       "      <th>val1</th>\n",
       "      <th>val2</th>\n",
       "    </tr>\n",
       "  </thead>\n",
       "  <tbody>\n",
       "    <tr>\n",
       "      <th>0</th>\n",
       "      <td>1</td>\n",
       "      <td>0</td>\n",
       "      <td>1</td>\n",
       "      <td>0.832418</td>\n",
       "    </tr>\n",
       "    <tr>\n",
       "      <th>1</th>\n",
       "      <td>0</td>\n",
       "      <td>1</td>\n",
       "      <td>2</td>\n",
       "      <td>0.702720</td>\n",
       "    </tr>\n",
       "    <tr>\n",
       "      <th>2</th>\n",
       "      <td>2</td>\n",
       "      <td>1</td>\n",
       "      <td>3</td>\n",
       "      <td>0.814997</td>\n",
       "    </tr>\n",
       "    <tr>\n",
       "      <th>3</th>\n",
       "      <td>4</td>\n",
       "      <td>0</td>\n",
       "      <td>4</td>\n",
       "      <td>0.698803</td>\n",
       "    </tr>\n",
       "    <tr>\n",
       "      <th>4</th>\n",
       "      <td>2</td>\n",
       "      <td>2</td>\n",
       "      <td>5</td>\n",
       "      <td>0.632527</td>\n",
       "    </tr>\n",
       "  </tbody>\n",
       "</table>\n",
       "</div>"
      ],
      "text/plain": [
       "   key1  key2  val1      val2\n",
       "0     1     0     1  0.832418\n",
       "1     0     1     2  0.702720\n",
       "2     2     1     3  0.814997\n",
       "3     4     0     4  0.698803\n",
       "4     2     2     5  0.632527"
      ]
     },
     "execution_count": 4,
     "metadata": {},
     "output_type": "execute_result"
    }
   ],
   "source": [
    "df.head().to_pandas()"
   ]
  },
  {
   "cell_type": "code",
   "execution_count": 5,
   "metadata": {},
   "outputs": [
    {
     "name": "stderr",
     "output_type": "stream",
     "text": [
      "/conda/envs/gdf/lib/python3.6/site-packages/numba/cuda/compiler.py:236: UserWarning: Could not autotune, using default tpb of 128\n",
      "  warnings.warn('Could not autotune, using default tpb of 128')\n",
      "/conda/envs/gdf/lib/python3.6/site-packages/numba/cuda/compiler.py:236: UserWarning: Could not autotune, using default tpb of 128\n",
      "  warnings.warn('Could not autotune, using default tpb of 128')\n",
      "/conda/envs/gdf/lib/python3.6/site-packages/numba/cuda/compiler.py:236: UserWarning: Could not autotune, using default tpb of 128\n",
      "  warnings.warn('Could not autotune, using default tpb of 128')\n",
      "/conda/envs/gdf/lib/python3.6/site-packages/numba/cuda/compiler.py:236: UserWarning: Could not autotune, using default tpb of 128\n",
      "  warnings.warn('Could not autotune, using default tpb of 128')\n",
      "/conda/envs/gdf/lib/python3.6/site-packages/numba/cuda/compiler.py:236: UserWarning: Could not autotune, using default tpb of 128\n",
      "  warnings.warn('Could not autotune, using default tpb of 128')\n",
      "/conda/envs/gdf/lib/python3.6/site-packages/numba/cuda/compiler.py:236: UserWarning: Could not autotune, using default tpb of 128\n",
      "  warnings.warn('Could not autotune, using default tpb of 128')\n",
      "/conda/envs/gdf/lib/python3.6/site-packages/numba/cuda/compiler.py:236: UserWarning: Could not autotune, using default tpb of 128\n",
      "  warnings.warn('Could not autotune, using default tpb of 128')\n",
      "/conda/envs/gdf/lib/python3.6/site-packages/numba/cuda/compiler.py:236: UserWarning: Could not autotune, using default tpb of 128\n",
      "  warnings.warn('Could not autotune, using default tpb of 128')\n",
      "/conda/envs/gdf/lib/python3.6/site-packages/numba/cuda/compiler.py:236: UserWarning: Could not autotune, using default tpb of 128\n",
      "  warnings.warn('Could not autotune, using default tpb of 128')\n"
     ]
    },
    {
     "data": {
      "text/plain": [
       "   key1 key2               val1                val2\n",
       " 0    0    0 499991.13897751615   0.500500273341694\n",
       " 1    0    1 498149.71224435116 0.49915224768559957\n",
       " 2    0    2   500246.831658405 0.49932934396900014\n",
       " 3    1    0  499929.9718701189  0.4997970229389601\n",
       " 4    1    1  501476.9940390855  0.5006826483188622\n",
       " 5    1    2  500412.3009169631  0.5002174350180542\n",
       " 6    2    0  499810.1914909582  0.5017281713406735\n",
       " 7    2    1  500080.0818064206  0.5018919081998916\n",
       " 8    2    2  500726.5189073721 0.49894799193962097\n",
       " 9    3    0  500682.3600508145 0.49976123494834945\n",
       "10    3    1 499071.18907015416 0.49736679651401494\n",
       "11    3    2  500453.4085117837   0.500835048713539\n",
       "12    4    0 499907.88592142676  0.5009347385916217\n",
       "13    4    1 500420.31843726116  0.5011883284453145\n",
       "14    4    2  498677.7382152609 0.49821989306868103"
      ]
     },
     "execution_count": 5,
     "metadata": {},
     "output_type": "execute_result"
    }
   ],
   "source": [
    "df.groupby(by=['key1', 'key2']).mean()"
   ]
  },
  {
   "cell_type": "code",
   "execution_count": null,
   "metadata": {
    "collapsed": true
   },
   "outputs": [],
   "source": []
  }
 ],
 "metadata": {
  "anaconda-cloud": {},
  "kernelspec": {
   "display_name": "Python 3",
   "language": "python",
   "name": "python3"
  },
  "language_info": {
   "codemirror_mode": {
    "name": "ipython",
    "version": 3
   },
   "file_extension": ".py",
   "mimetype": "text/x-python",
   "name": "python",
   "nbconvert_exporter": "python",
   "pygments_lexer": "ipython3",
   "version": "3.6.5"
  }
 },
 "nbformat": 4,
 "nbformat_minor": 1
}
