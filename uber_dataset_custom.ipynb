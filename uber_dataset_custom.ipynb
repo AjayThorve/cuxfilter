{
 "cells": [
  {
   "cell_type": "code",
   "execution_count": 43,
   "metadata": {},
   "outputs": [],
   "source": [
    "import pyarrow as pa"
   ]
  },
  {
   "cell_type": "code",
   "execution_count": 44,
   "metadata": {},
   "outputs": [],
   "source": [
    "from pygdf.dataframe import DataFrame"
   ]
  },
  {
   "cell_type": "code",
   "execution_count": 45,
   "metadata": {},
   "outputs": [],
   "source": [
    "import pandas as pd\n",
    "import json\n",
    "from shapely.geometry import MultiPoint,mapping\n",
    "import numpy as np"
   ]
  },
  {
   "cell_type": "code",
   "execution_count": 46,
   "metadata": {},
   "outputs": [],
   "source": [
    "uber_dataset = pd.read_csv(\"node_server/uploads/uber-dataset\")"
   ]
  },
  {
   "cell_type": "code",
   "execution_count": 47,
   "metadata": {},
   "outputs": [
    {
     "data": {
      "text/plain": [
       "sourceid                                      int64\n",
       "dstid                                         int64\n",
       "hod                                           int64\n",
       "mean_travel_time                            float64\n",
       "standard_deviation_travel_time              float64\n",
       "geometric_mean_travel_time                  float64\n",
       "geometric_standard_deviation_travel_time    float64\n",
       "dtype: object"
      ]
     },
     "execution_count": 47,
     "metadata": {},
     "output_type": "execute_result"
    }
   ],
   "source": [
    "uber_dataset.dtypes"
   ]
  },
  {
   "cell_type": "code",
   "execution_count": 48,
   "metadata": {},
   "outputs": [],
   "source": [
    "def getCentroid(l):\n",
    "    return mapping(MultiPoint(l).centroid)['coordinates']"
   ]
  },
  {
   "cell_type": "code",
   "execution_count": 49,
   "metadata": {},
   "outputs": [],
   "source": [
    "mappings = pd.read_json(\"data/1_censustracts.json\")"
   ]
  },
  {
   "cell_type": "markdown",
   "metadata": {},
   "source": [
    "### Creating mappings dataframe from the json file"
   ]
  },
  {
   "cell_type": "code",
   "execution_count": 50,
   "metadata": {},
   "outputs": [],
   "source": [
    "df_mappings = pd.DataFrame(columns=[\"id\",\"lat\",\"long\"])\n",
    "\n",
    "for key,val in mappings.features.iteritems():\n",
    "    id = val['properties']['MOVEMENT_ID']\n",
    "    lat,long = getCentroid(val['geometry']['coordinates'][0][0])\n",
    "#     address = val['properties']['DISPLAY_NAME']\n",
    "    data = np.array([id,lat,long])\n",
    "    temp = pd.Series(data,index = [\"id\",\"lat\",\"long\"])\n",
    "    df_mappings = df_mappings.append(temp,ignore_index=True)\n",
    "df_mappings['id'] = df_mappings['id'].apply(np.int64)\n",
    "df_mappings['lat'] = df_mappings['lat'].apply(np.float32)\n",
    "df_mappings['long'] = df_mappings['long'].apply(np.float32)\n",
    "# df_mappings['address'] = df_mappings['address'].apply(str)"
   ]
  },
  {
   "cell_type": "markdown",
   "metadata": {},
   "source": [
    "## Converting "
   ]
  },
  {
   "cell_type": "code",
   "execution_count": 51,
   "metadata": {},
   "outputs": [],
   "source": [
    "sources_uber_dataset = pd.merge(uber_dataset,df_mappings,how = 'left',left_on ='sourceid', right_on='id');\n",
    "sources_uber_dataset.rename(columns={'lat':'source_lat', 'long':'source_long'},inplace=True)\n",
    "del sources_uber_dataset['id']\n",
    "\n",
    "dst_uber_dataset = pd.merge(sources_uber_dataset,df_mappings,how = 'left',left_on ='dstid', right_on='id');\n",
    "dst_uber_dataset.rename(columns={'lat':'dst_lat', 'long':'dst_long'},inplace=True)\n",
    "del dst_uber_dataset['id']"
   ]
  },
  {
   "cell_type": "code",
   "execution_count": 52,
   "metadata": {},
   "outputs": [
    {
     "data": {
      "text/html": [
       "<div>\n",
       "<style scoped>\n",
       "    .dataframe tbody tr th:only-of-type {\n",
       "        vertical-align: middle;\n",
       "    }\n",
       "\n",
       "    .dataframe tbody tr th {\n",
       "        vertical-align: top;\n",
       "    }\n",
       "\n",
       "    .dataframe thead th {\n",
       "        text-align: right;\n",
       "    }\n",
       "</style>\n",
       "<table border=\"1\" class=\"dataframe\">\n",
       "  <thead>\n",
       "    <tr style=\"text-align: right;\">\n",
       "      <th></th>\n",
       "      <th>sourceid</th>\n",
       "      <th>dstid</th>\n",
       "      <th>hod</th>\n",
       "      <th>mean_travel_time</th>\n",
       "      <th>standard_deviation_travel_time</th>\n",
       "      <th>geometric_mean_travel_time</th>\n",
       "      <th>geometric_standard_deviation_travel_time</th>\n",
       "      <th>source_lat</th>\n",
       "      <th>source_long</th>\n",
       "      <th>dst_lat</th>\n",
       "      <th>dst_long</th>\n",
       "    </tr>\n",
       "  </thead>\n",
       "  <tbody>\n",
       "    <tr>\n",
       "      <th>0</th>\n",
       "      <td>6</td>\n",
       "      <td>5</td>\n",
       "      <td>17</td>\n",
       "      <td>2917.18</td>\n",
       "      <td>790.28</td>\n",
       "      <td>2810.98</td>\n",
       "      <td>1.32</td>\n",
       "      <td>-121.948433</td>\n",
       "      <td>38.366653</td>\n",
       "      <td>-121.361717</td>\n",
       "      <td>38.554436</td>\n",
       "    </tr>\n",
       "    <tr>\n",
       "      <th>1</th>\n",
       "      <td>3</td>\n",
       "      <td>38</td>\n",
       "      <td>20</td>\n",
       "      <td>339.74</td>\n",
       "      <td>254.41</td>\n",
       "      <td>287.54</td>\n",
       "      <td>1.67</td>\n",
       "      <td>-121.660217</td>\n",
       "      <td>37.150475</td>\n",
       "      <td>-121.481194</td>\n",
       "      <td>37.205841</td>\n",
       "    </tr>\n",
       "    <tr>\n",
       "      <th>2</th>\n",
       "      <td>2</td>\n",
       "      <td>61</td>\n",
       "      <td>7</td>\n",
       "      <td>1443.36</td>\n",
       "      <td>374.62</td>\n",
       "      <td>1397.73</td>\n",
       "      <td>1.29</td>\n",
       "      <td>-122.219406</td>\n",
       "      <td>37.469585</td>\n",
       "      <td>-122.050941</td>\n",
       "      <td>37.561699</td>\n",
       "    </tr>\n",
       "    <tr>\n",
       "      <th>3</th>\n",
       "      <td>7</td>\n",
       "      <td>25</td>\n",
       "      <td>2</td>\n",
       "      <td>152.00</td>\n",
       "      <td>180.40</td>\n",
       "      <td>95.34</td>\n",
       "      <td>2.61</td>\n",
       "      <td>-121.996101</td>\n",
       "      <td>38.325848</td>\n",
       "      <td>-121.979637</td>\n",
       "      <td>38.343208</td>\n",
       "    </tr>\n",
       "    <tr>\n",
       "      <th>4</th>\n",
       "      <td>2</td>\n",
       "      <td>79</td>\n",
       "      <td>22</td>\n",
       "      <td>2320.41</td>\n",
       "      <td>324.85</td>\n",
       "      <td>2299.22</td>\n",
       "      <td>1.14</td>\n",
       "      <td>-122.219406</td>\n",
       "      <td>37.469585</td>\n",
       "      <td>-122.419426</td>\n",
       "      <td>37.790886</td>\n",
       "    </tr>\n",
       "  </tbody>\n",
       "</table>\n",
       "</div>"
      ],
      "text/plain": [
       "   sourceid  dstid  hod  mean_travel_time  standard_deviation_travel_time  \\\n",
       "0         6      5   17           2917.18                          790.28   \n",
       "1         3     38   20            339.74                          254.41   \n",
       "2         2     61    7           1443.36                          374.62   \n",
       "3         7     25    2            152.00                          180.40   \n",
       "4         2     79   22           2320.41                          324.85   \n",
       "\n",
       "   geometric_mean_travel_time  geometric_standard_deviation_travel_time  \\\n",
       "0                     2810.98                                      1.32   \n",
       "1                      287.54                                      1.67   \n",
       "2                     1397.73                                      1.29   \n",
       "3                       95.34                                      2.61   \n",
       "4                     2299.22                                      1.14   \n",
       "\n",
       "   source_lat  source_long     dst_lat   dst_long  \n",
       "0 -121.948433    38.366653 -121.361717  38.554436  \n",
       "1 -121.660217    37.150475 -121.481194  37.205841  \n",
       "2 -122.219406    37.469585 -122.050941  37.561699  \n",
       "3 -121.996101    38.325848 -121.979637  38.343208  \n",
       "4 -122.219406    37.469585 -122.419426  37.790886  "
      ]
     },
     "execution_count": 52,
     "metadata": {},
     "output_type": "execute_result"
    }
   ],
   "source": [
    "dst_uber_dataset.head()"
   ]
  },
  {
   "cell_type": "code",
   "execution_count": 53,
   "metadata": {},
   "outputs": [],
   "source": [
    "pa_df = pa.RecordBatch.from_pandas(dst_uber_dataset)"
   ]
  },
  {
   "cell_type": "code",
   "execution_count": 54,
   "metadata": {},
   "outputs": [],
   "source": [
    "path = 'node_server/uploads/uber-dataset-v1'"
   ]
  },
  {
   "cell_type": "code",
   "execution_count": 55,
   "metadata": {},
   "outputs": [],
   "source": [
    "path = path+\".arrow\"\n",
    "file = open(path, 'wb')\n",
    "writer = pa.ipc.RecordBatchStreamWriter(file, pa_df.schema)\n",
    "writer.write_batch(pa_df)\n",
    "writer.close()\n",
    "file.close()"
   ]
  },
  {
   "cell_type": "code",
   "execution_count": 57,
   "metadata": {},
   "outputs": [],
   "source": [
    "def readArrowToDF(source):\n",
    "    reader = pa.RecordBatchStreamReader(source)\n",
    "    pa_df = reader.read_all()\n",
    "    return pa_df.to_pandas()"
   ]
  },
  {
   "cell_type": "code",
   "execution_count": 58,
   "metadata": {},
   "outputs": [],
   "source": [
    "tempdf = readArrowToDF('node_server/uploads/uber-dataset-v1.arrow')\n",
    "#converting to csv\n",
    "tempdf.to_csv('uber-dataset-v1.csv',index=False)"
   ]
  },
  {
   "cell_type": "markdown",
   "metadata": {},
   "source": [
    "### Some test groupby functions on the dataframe using pygdf"
   ]
  },
  {
   "cell_type": "code",
   "execution_count": 5,
   "metadata": {},
   "outputs": [],
   "source": [
    "df2 = readArrowToDF(\"node_server/uploads/uber-dataset-v1.arrow\")"
   ]
  },
  {
   "cell_type": "code",
   "execution_count": 6,
   "metadata": {},
   "outputs": [],
   "source": [
    "g_df = DataFrame.from_pandas(df2)"
   ]
  },
  {
   "cell_type": "code",
   "execution_count": 7,
   "metadata": {},
   "outputs": [
    {
     "name": "stderr",
     "output_type": "stream",
     "text": [
      "/conda/envs/gdf/lib/python3.6/site-packages/numba/cuda/compiler.py:236: UserWarning: Could not autotune, using default tpb of 128\n",
      "  warnings.warn('Could not autotune, using default tpb of 128')\n",
      "/conda/envs/gdf/lib/python3.6/site-packages/numba/cuda/compiler.py:236: UserWarning: Could not autotune, using default tpb of 128\n",
      "  warnings.warn('Could not autotune, using default tpb of 128')\n",
      "/conda/envs/gdf/lib/python3.6/site-packages/numba/cuda/compiler.py:236: UserWarning: Could not autotune, using default tpb of 128\n",
      "  warnings.warn('Could not autotune, using default tpb of 128')\n",
      "/conda/envs/gdf/lib/python3.6/site-packages/numba/cuda/compiler.py:236: UserWarning: Could not autotune, using default tpb of 128\n",
      "  warnings.warn('Could not autotune, using default tpb of 128')\n",
      "/conda/envs/gdf/lib/python3.6/site-packages/numba/cuda/compiler.py:236: UserWarning: Could not autotune, using default tpb of 128\n",
      "  warnings.warn('Could not autotune, using default tpb of 128')\n",
      "/conda/envs/gdf/lib/python3.6/site-packages/numba/cuda/compiler.py:236: UserWarning: Could not autotune, using default tpb of 128\n",
      "  warnings.warn('Could not autotune, using default tpb of 128')\n",
      "/conda/envs/gdf/lib/python3.6/site-packages/numba/cuda/compiler.py:236: UserWarning: Could not autotune, using default tpb of 128\n",
      "  warnings.warn('Could not autotune, using default tpb of 128')\n",
      "/conda/envs/gdf/lib/python3.6/site-packages/numba/cuda/compiler.py:236: UserWarning: Could not autotune, using default tpb of 128\n",
      "  warnings.warn('Could not autotune, using default tpb of 128')\n"
     ]
    },
    {
     "data": {
      "text/plain": [
       "   hod hod_count\n",
       "0    0  381642.0\n",
       "1    1  349338.0\n",
       "2    2  304540.0\n",
       "3    3  274982.0\n",
       "4    4  273401.0"
      ]
     },
     "execution_count": 7,
     "metadata": {},
     "output_type": "execute_result"
    }
   ],
   "source": [
    "g_df.groupby(by=['hod']).agg({'hod':['count','count']}).head()"
   ]
  },
  {
   "cell_type": "code",
   "execution_count": 8,
   "metadata": {},
   "outputs": [
    {
     "data": {
      "text/html": [
       "<div>\n",
       "<style scoped>\n",
       "    .dataframe tbody tr th:only-of-type {\n",
       "        vertical-align: middle;\n",
       "    }\n",
       "\n",
       "    .dataframe tbody tr th {\n",
       "        vertical-align: top;\n",
       "    }\n",
       "\n",
       "    .dataframe thead th {\n",
       "        text-align: right;\n",
       "    }\n",
       "</style>\n",
       "<table border=\"1\" class=\"dataframe\">\n",
       "  <thead>\n",
       "    <tr style=\"text-align: right;\">\n",
       "      <th></th>\n",
       "      <th>sourceid</th>\n",
       "      <th>dstid</th>\n",
       "      <th>hod</th>\n",
       "      <th>mean_travel_time</th>\n",
       "      <th>standard_deviation_travel_time</th>\n",
       "      <th>geometric_mean_travel_time</th>\n",
       "      <th>geometric_standard_deviation_travel_time</th>\n",
       "      <th>source_lat</th>\n",
       "      <th>source_long</th>\n",
       "      <th>dst_lat</th>\n",
       "      <th>dst_long</th>\n",
       "    </tr>\n",
       "  </thead>\n",
       "  <tbody>\n",
       "    <tr>\n",
       "      <th>0</th>\n",
       "      <td>6</td>\n",
       "      <td>5</td>\n",
       "      <td>17</td>\n",
       "      <td>2917.18</td>\n",
       "      <td>790.28</td>\n",
       "      <td>2810.98</td>\n",
       "      <td>1.32</td>\n",
       "      <td>-121.948433</td>\n",
       "      <td>38.366653</td>\n",
       "      <td>-121.361717</td>\n",
       "      <td>38.554436</td>\n",
       "    </tr>\n",
       "    <tr>\n",
       "      <th>1</th>\n",
       "      <td>3</td>\n",
       "      <td>38</td>\n",
       "      <td>20</td>\n",
       "      <td>339.74</td>\n",
       "      <td>254.41</td>\n",
       "      <td>287.54</td>\n",
       "      <td>1.67</td>\n",
       "      <td>-121.660217</td>\n",
       "      <td>37.150475</td>\n",
       "      <td>-121.481194</td>\n",
       "      <td>37.205841</td>\n",
       "    </tr>\n",
       "    <tr>\n",
       "      <th>2</th>\n",
       "      <td>2</td>\n",
       "      <td>61</td>\n",
       "      <td>7</td>\n",
       "      <td>1443.36</td>\n",
       "      <td>374.62</td>\n",
       "      <td>1397.73</td>\n",
       "      <td>1.29</td>\n",
       "      <td>-122.219406</td>\n",
       "      <td>37.469585</td>\n",
       "      <td>-122.050941</td>\n",
       "      <td>37.561699</td>\n",
       "    </tr>\n",
       "    <tr>\n",
       "      <th>3</th>\n",
       "      <td>7</td>\n",
       "      <td>25</td>\n",
       "      <td>2</td>\n",
       "      <td>152.00</td>\n",
       "      <td>180.40</td>\n",
       "      <td>95.34</td>\n",
       "      <td>2.61</td>\n",
       "      <td>-121.996101</td>\n",
       "      <td>38.325848</td>\n",
       "      <td>-121.979637</td>\n",
       "      <td>38.343208</td>\n",
       "    </tr>\n",
       "    <tr>\n",
       "      <th>4</th>\n",
       "      <td>2</td>\n",
       "      <td>79</td>\n",
       "      <td>22</td>\n",
       "      <td>2320.41</td>\n",
       "      <td>324.85</td>\n",
       "      <td>2299.22</td>\n",
       "      <td>1.14</td>\n",
       "      <td>-122.219406</td>\n",
       "      <td>37.469585</td>\n",
       "      <td>-122.419426</td>\n",
       "      <td>37.790886</td>\n",
       "    </tr>\n",
       "  </tbody>\n",
       "</table>\n",
       "</div>"
      ],
      "text/plain": [
       "   sourceid  dstid  hod  mean_travel_time  standard_deviation_travel_time  \\\n",
       "0         6      5   17           2917.18                          790.28   \n",
       "1         3     38   20            339.74                          254.41   \n",
       "2         2     61    7           1443.36                          374.62   \n",
       "3         7     25    2            152.00                          180.40   \n",
       "4         2     79   22           2320.41                          324.85   \n",
       "\n",
       "   geometric_mean_travel_time  geometric_standard_deviation_travel_time  \\\n",
       "0                     2810.98                                      1.32   \n",
       "1                      287.54                                      1.67   \n",
       "2                     1397.73                                      1.29   \n",
       "3                       95.34                                      2.61   \n",
       "4                     2299.22                                      1.14   \n",
       "\n",
       "   source_lat  source_long     dst_lat   dst_long  \n",
       "0 -121.948433    38.366653 -121.361717  38.554436  \n",
       "1 -121.660217    37.150475 -121.481194  37.205841  \n",
       "2 -122.219406    37.469585 -122.050941  37.561699  \n",
       "3 -121.996101    38.325848 -121.979637  38.343208  \n",
       "4 -122.219406    37.469585 -122.419426  37.790886  "
      ]
     },
     "execution_count": 8,
     "metadata": {},
     "output_type": "execute_result"
    }
   ],
   "source": [
    "g_df.head().to_pandas()"
   ]
  },
  {
   "cell_type": "code",
   "execution_count": 9,
   "metadata": {},
   "outputs": [],
   "source": [
    "a = g_df['hod']+g_df['hod']"
   ]
  },
  {
   "cell_type": "code",
   "execution_count": 10,
   "metadata": {},
   "outputs": [],
   "source": [
    "g_df.add_column('hod*2',a)"
   ]
  },
  {
   "cell_type": "code",
   "execution_count": 11,
   "metadata": {},
   "outputs": [
    {
     "data": {
      "text/html": [
       "<div>\n",
       "<style scoped>\n",
       "    .dataframe tbody tr th:only-of-type {\n",
       "        vertical-align: middle;\n",
       "    }\n",
       "\n",
       "    .dataframe tbody tr th {\n",
       "        vertical-align: top;\n",
       "    }\n",
       "\n",
       "    .dataframe thead th {\n",
       "        text-align: right;\n",
       "    }\n",
       "</style>\n",
       "<table border=\"1\" class=\"dataframe\">\n",
       "  <thead>\n",
       "    <tr style=\"text-align: right;\">\n",
       "      <th></th>\n",
       "      <th>sourceid</th>\n",
       "      <th>dstid</th>\n",
       "      <th>hod</th>\n",
       "      <th>mean_travel_time</th>\n",
       "      <th>standard_deviation_travel_time</th>\n",
       "      <th>geometric_mean_travel_time</th>\n",
       "      <th>geometric_standard_deviation_travel_time</th>\n",
       "      <th>source_lat</th>\n",
       "      <th>source_long</th>\n",
       "      <th>dst_lat</th>\n",
       "      <th>dst_long</th>\n",
       "      <th>hod*2</th>\n",
       "    </tr>\n",
       "  </thead>\n",
       "  <tbody>\n",
       "    <tr>\n",
       "      <th>0</th>\n",
       "      <td>6</td>\n",
       "      <td>5</td>\n",
       "      <td>17</td>\n",
       "      <td>2917.18</td>\n",
       "      <td>790.28</td>\n",
       "      <td>2810.98</td>\n",
       "      <td>1.32</td>\n",
       "      <td>-121.948433</td>\n",
       "      <td>38.366653</td>\n",
       "      <td>-121.361717</td>\n",
       "      <td>38.554436</td>\n",
       "      <td>34</td>\n",
       "    </tr>\n",
       "    <tr>\n",
       "      <th>1</th>\n",
       "      <td>3</td>\n",
       "      <td>38</td>\n",
       "      <td>20</td>\n",
       "      <td>339.74</td>\n",
       "      <td>254.41</td>\n",
       "      <td>287.54</td>\n",
       "      <td>1.67</td>\n",
       "      <td>-121.660217</td>\n",
       "      <td>37.150475</td>\n",
       "      <td>-121.481194</td>\n",
       "      <td>37.205841</td>\n",
       "      <td>40</td>\n",
       "    </tr>\n",
       "    <tr>\n",
       "      <th>2</th>\n",
       "      <td>2</td>\n",
       "      <td>61</td>\n",
       "      <td>7</td>\n",
       "      <td>1443.36</td>\n",
       "      <td>374.62</td>\n",
       "      <td>1397.73</td>\n",
       "      <td>1.29</td>\n",
       "      <td>-122.219406</td>\n",
       "      <td>37.469585</td>\n",
       "      <td>-122.050941</td>\n",
       "      <td>37.561699</td>\n",
       "      <td>14</td>\n",
       "    </tr>\n",
       "    <tr>\n",
       "      <th>3</th>\n",
       "      <td>7</td>\n",
       "      <td>25</td>\n",
       "      <td>2</td>\n",
       "      <td>152.00</td>\n",
       "      <td>180.40</td>\n",
       "      <td>95.34</td>\n",
       "      <td>2.61</td>\n",
       "      <td>-121.996101</td>\n",
       "      <td>38.325848</td>\n",
       "      <td>-121.979637</td>\n",
       "      <td>38.343208</td>\n",
       "      <td>4</td>\n",
       "    </tr>\n",
       "    <tr>\n",
       "      <th>4</th>\n",
       "      <td>2</td>\n",
       "      <td>79</td>\n",
       "      <td>22</td>\n",
       "      <td>2320.41</td>\n",
       "      <td>324.85</td>\n",
       "      <td>2299.22</td>\n",
       "      <td>1.14</td>\n",
       "      <td>-122.219406</td>\n",
       "      <td>37.469585</td>\n",
       "      <td>-122.419426</td>\n",
       "      <td>37.790886</td>\n",
       "      <td>44</td>\n",
       "    </tr>\n",
       "  </tbody>\n",
       "</table>\n",
       "</div>"
      ],
      "text/plain": [
       "   sourceid  dstid  hod  mean_travel_time  standard_deviation_travel_time  \\\n",
       "0         6      5   17           2917.18                          790.28   \n",
       "1         3     38   20            339.74                          254.41   \n",
       "2         2     61    7           1443.36                          374.62   \n",
       "3         7     25    2            152.00                          180.40   \n",
       "4         2     79   22           2320.41                          324.85   \n",
       "\n",
       "   geometric_mean_travel_time  geometric_standard_deviation_travel_time  \\\n",
       "0                     2810.98                                      1.32   \n",
       "1                      287.54                                      1.67   \n",
       "2                     1397.73                                      1.29   \n",
       "3                       95.34                                      2.61   \n",
       "4                     2299.22                                      1.14   \n",
       "\n",
       "   source_lat  source_long     dst_lat   dst_long  hod*2  \n",
       "0 -121.948433    38.366653 -121.361717  38.554436     34  \n",
       "1 -121.660217    37.150475 -121.481194  37.205841     40  \n",
       "2 -122.219406    37.469585 -122.050941  37.561699     14  \n",
       "3 -121.996101    38.325848 -121.979637  38.343208      4  \n",
       "4 -122.219406    37.469585 -122.419426  37.790886     44  "
      ]
     },
     "execution_count": 11,
     "metadata": {},
     "output_type": "execute_result"
    }
   ],
   "source": [
    "g_df.head().to_pandas()"
   ]
  },
  {
   "cell_type": "code",
   "execution_count": 60,
   "metadata": {},
   "outputs": [
    {
     "name": "stderr",
     "output_type": "stream",
     "text": [
      "/conda/envs/gdf/lib/python3.6/site-packages/numba/cuda/compiler.py:236: UserWarning: Could not autotune, using default tpb of 128\n",
      "  warnings.warn('Could not autotune, using default tpb of 128')\n"
     ]
    }
   ],
   "source": [
    "temp = g_df.groupby(by=['hod']).agg({'mean_travel_time':['mean','sum','std']})"
   ]
  },
  {
   "cell_type": "code",
   "execution_count": 42,
   "metadata": {},
   "outputs": [
    {
     "data": {
      "text/plain": [
       "    hod mean_travel_time_mean mean_travel_time_sum mean_travel_time_std\n",
       " 0    0    1182.6042355137783         451331445.65    636.6144405380031\n",
       " 1    1    1157.3405136284935   404303020.34999996    640.6810597885919\n",
       " 2    2    1078.3579586916835         328403132.74    601.9580064100818\n",
       " 3    3    1066.3307426302958         293221760.27    602.9960825330071\n",
       " 4    4     1072.287644266013         293164514.23    596.1968492434379\n",
       " 5    5    1181.3500912801521         357328868.86     697.783428367376\n",
       " 6    6     1416.764673345385         527771759.35    842.6703223999089\n",
       " 7    7    1671.1551026953978    724063042.5000001    954.6924313225265\n",
       " 8    8    1671.1828021911426    760211029.6199999    888.0069238408861\n",
       " 9    9     1553.455466028905    731228575.8699999    815.1537911630599\n",
       "10   10    1493.1323787893502         709391672.56    785.1126356461986\n",
       "11   11    1480.4418659098724         694722513.09    780.1713432950849\n",
       "12   12    1498.5335853383237         704177415.62    782.0238233898274\n",
       "13   13    1534.7432123141157          718975013.7    819.9130816683466\n",
       "14   14    1662.8055886851846         792288618.48    910.5177036214152\n",
       "15   15    1784.9206031715928    856192499.8499999    998.2851407808366\n",
       "16   16    1893.6222468473484    914655524.0500001   1066.7255469466172\n",
       "17   17      1910.39776573011          927465638.5   1012.8468928821409\n",
       "18   18    1700.6072895752652    828787561.3599999    857.5915846598338\n",
       "19   19     1509.823184228911         735853094.06     771.078363087773\n",
       "20   20    1410.2449824717303         675426962.64    721.9829221151624\n",
       "21   21    1375.6787269092017    655275672.3100001    701.3402122945868\n",
       "22   22    1325.0444006509895    612128111.6800001    666.1650694739816\n",
       "23   23    1249.3761573892568   530266475.59999996    647.2090044045242"
      ]
     },
     "execution_count": 42,
     "metadata": {},
     "output_type": "execute_result"
    }
   ],
   "source": [
    "temp"
   ]
  },
  {
   "cell_type": "code",
   "execution_count": 23,
   "metadata": {},
   "outputs": [],
   "source": [
    "temp_dict = {'mean_travel_time':['mean','sum','std']}"
   ]
  },
  {
   "cell_type": "code",
   "execution_count": 37,
   "metadata": {},
   "outputs": [
    {
     "data": {
      "text/plain": [
       "[['mean', 'sum', 'std']]"
      ]
     },
     "execution_count": 37,
     "metadata": {},
     "output_type": "execute_result"
    }
   ],
   "source": [
    "list(temp_dict.values())"
   ]
  },
  {
   "cell_type": "code",
   "execution_count": 40,
   "metadata": {},
   "outputs": [
    {
     "data": {
      "text/plain": [
       "'mean_travel_time:mean:sum:std'"
      ]
     },
     "execution_count": 40,
     "metadata": {},
     "output_type": "execute_result"
    }
   ],
   "source": [
    "a = ':'.join(list(temp_dict.keys())+list(temp_dict.values())[0])"
   ]
  },
  {
   "cell_type": "code",
   "execution_count": 66,
   "metadata": {},
   "outputs": [
    {
     "ename": "TypeError",
     "evalue": "__getitem__ on type ['mean_travel_time_mean', 'mean_travel_time_sum'] is not supported",
     "output_type": "error",
     "traceback": [
      "\u001b[0;31m---------------------------------------------------------------------------\u001b[0m",
      "\u001b[0;31mTypeError\u001b[0m                                 Traceback (most recent call last)",
      "\u001b[0;32m<ipython-input-66-8d1943871d26>\u001b[0m in \u001b[0;36m<module>\u001b[0;34m()\u001b[0m\n\u001b[0;32m----> 1\u001b[0;31m \u001b[0mtemp\u001b[0m\u001b[0;34m.\u001b[0m\u001b[0mnlargest\u001b[0m\u001b[0;34m(\u001b[0m\u001b[0;36m10\u001b[0m\u001b[0;34m,\u001b[0m\u001b[0;34m[\u001b[0m\u001b[0;34m[\u001b[0m\u001b[0;34m'mean_travel_time_mean'\u001b[0m\u001b[0;34m,\u001b[0m\u001b[0;34m'mean_travel_time_sum'\u001b[0m\u001b[0;34m]\u001b[0m\u001b[0;34m]\u001b[0m\u001b[0;34m)\u001b[0m\u001b[0;34m\u001b[0m\u001b[0m\n\u001b[0m",
      "\u001b[0;32m/conda/envs/gdf/lib/python3.6/site-packages/pygdf-0.1.0a2+208.gdff90c7-py3.6.egg/pygdf/dataframe.py\u001b[0m in \u001b[0;36mnlargest\u001b[0;34m(self, n, columns, keep)\u001b[0m\n\u001b[1;32m    596\u001b[0m         \u001b[0;34m*\u001b[0m \u001b[0mOnly\u001b[0m \u001b[0ma\u001b[0m \u001b[0msingle\u001b[0m \u001b[0mcolumn\u001b[0m \u001b[0;32mis\u001b[0m \u001b[0msupported\u001b[0m \u001b[0;32min\u001b[0m \u001b[0;34m*\u001b[0m\u001b[0mcolumns\u001b[0m\u001b[0;34m*\u001b[0m\u001b[0;34m\u001b[0m\u001b[0m\n\u001b[1;32m    597\u001b[0m         \"\"\"\n\u001b[0;32m--> 598\u001b[0;31m         \u001b[0;32mreturn\u001b[0m \u001b[0mself\u001b[0m\u001b[0;34m.\u001b[0m\u001b[0m_n_largest_or_smallest\u001b[0m\u001b[0;34m(\u001b[0m\u001b[0;34m'nlargest'\u001b[0m\u001b[0;34m,\u001b[0m \u001b[0mn\u001b[0m\u001b[0;34m,\u001b[0m \u001b[0mcolumns\u001b[0m\u001b[0;34m,\u001b[0m \u001b[0mkeep\u001b[0m\u001b[0;34m)\u001b[0m\u001b[0;34m\u001b[0m\u001b[0m\n\u001b[0m\u001b[1;32m    599\u001b[0m \u001b[0;34m\u001b[0m\u001b[0m\n\u001b[1;32m    600\u001b[0m     \u001b[0;32mdef\u001b[0m \u001b[0mnsmallest\u001b[0m\u001b[0;34m(\u001b[0m\u001b[0mself\u001b[0m\u001b[0;34m,\u001b[0m \u001b[0mn\u001b[0m\u001b[0;34m,\u001b[0m \u001b[0mcolumns\u001b[0m\u001b[0;34m,\u001b[0m \u001b[0mkeep\u001b[0m\u001b[0;34m=\u001b[0m\u001b[0;34m'first'\u001b[0m\u001b[0;34m)\u001b[0m\u001b[0;34m:\u001b[0m\u001b[0;34m\u001b[0m\u001b[0m\n",
      "\u001b[0;32m/conda/envs/gdf/lib/python3.6/site-packages/pygdf-0.1.0a2+208.gdff90c7-py3.6.egg/pygdf/dataframe.py\u001b[0m in \u001b[0;36m_n_largest_or_smallest\u001b[0;34m(self, method, n, columns, keep)\u001b[0m\n\u001b[1;32m    614\u001b[0m         \u001b[0;32mif\u001b[0m \u001b[0;32mnot\u001b[0m \u001b[0;34m(\u001b[0m\u001b[0;36m0\u001b[0m \u001b[0;34m<=\u001b[0m \u001b[0mn\u001b[0m \u001b[0;34m<\u001b[0m \u001b[0mlen\u001b[0m\u001b[0;34m(\u001b[0m\u001b[0mself\u001b[0m\u001b[0;34m)\u001b[0m\u001b[0;34m)\u001b[0m\u001b[0;34m:\u001b[0m\u001b[0;34m\u001b[0m\u001b[0m\n\u001b[1;32m    615\u001b[0m             \u001b[0;32mraise\u001b[0m \u001b[0mValueError\u001b[0m\u001b[0;34m(\u001b[0m\u001b[0;34m\"n out-of-bound\"\u001b[0m\u001b[0;34m)\u001b[0m\u001b[0;34m\u001b[0m\u001b[0m\n\u001b[0;32m--> 616\u001b[0;31m         \u001b[0mcol\u001b[0m \u001b[0;34m=\u001b[0m \u001b[0mself\u001b[0m\u001b[0;34m[\u001b[0m\u001b[0mcolumn\u001b[0m\u001b[0;34m]\u001b[0m\u001b[0;34m.\u001b[0m\u001b[0mreset_index\u001b[0m\u001b[0;34m(\u001b[0m\u001b[0;34m)\u001b[0m\u001b[0;34m\u001b[0m\u001b[0m\n\u001b[0m\u001b[1;32m    617\u001b[0m         \u001b[0;31m# Operate\u001b[0m\u001b[0;34m\u001b[0m\u001b[0;34m\u001b[0m\u001b[0m\n\u001b[1;32m    618\u001b[0m         \u001b[0msorted_series\u001b[0m \u001b[0;34m=\u001b[0m \u001b[0mgetattr\u001b[0m\u001b[0;34m(\u001b[0m\u001b[0mcol\u001b[0m\u001b[0;34m,\u001b[0m \u001b[0mmethod\u001b[0m\u001b[0;34m)\u001b[0m\u001b[0;34m(\u001b[0m\u001b[0mn\u001b[0m\u001b[0;34m=\u001b[0m\u001b[0mn\u001b[0m\u001b[0;34m,\u001b[0m \u001b[0mkeep\u001b[0m\u001b[0;34m=\u001b[0m\u001b[0mkeep\u001b[0m\u001b[0;34m)\u001b[0m\u001b[0;34m\u001b[0m\u001b[0m\n",
      "\u001b[0;32m/conda/envs/gdf/lib/python3.6/site-packages/pygdf-0.1.0a2+208.gdff90c7-py3.6.egg/pygdf/dataframe.py\u001b[0m in \u001b[0;36m__getitem__\u001b[0;34m(self, arg)\u001b[0m\n\u001b[1;32m    176\u001b[0m         \u001b[0;32melse\u001b[0m\u001b[0;34m:\u001b[0m\u001b[0;34m\u001b[0m\u001b[0m\n\u001b[1;32m    177\u001b[0m             \u001b[0mmsg\u001b[0m \u001b[0;34m=\u001b[0m \u001b[0;34m\"__getitem__ on type {!r} is not supported\"\u001b[0m\u001b[0;34m\u001b[0m\u001b[0m\n\u001b[0;32m--> 178\u001b[0;31m             \u001b[0;32mraise\u001b[0m \u001b[0mTypeError\u001b[0m\u001b[0;34m(\u001b[0m\u001b[0mmsg\u001b[0m\u001b[0;34m.\u001b[0m\u001b[0mformat\u001b[0m\u001b[0;34m(\u001b[0m\u001b[0marg\u001b[0m\u001b[0;34m)\u001b[0m\u001b[0;34m)\u001b[0m\u001b[0;34m\u001b[0m\u001b[0m\n\u001b[0m\u001b[1;32m    179\u001b[0m \u001b[0;34m\u001b[0m\u001b[0m\n\u001b[1;32m    180\u001b[0m     \u001b[0;32mdef\u001b[0m \u001b[0m__setitem__\u001b[0m\u001b[0;34m(\u001b[0m\u001b[0mself\u001b[0m\u001b[0;34m,\u001b[0m \u001b[0mname\u001b[0m\u001b[0;34m,\u001b[0m \u001b[0mcol\u001b[0m\u001b[0;34m)\u001b[0m\u001b[0;34m:\u001b[0m\u001b[0;34m\u001b[0m\u001b[0m\n",
      "\u001b[0;31mTypeError\u001b[0m: __getitem__ on type ['mean_travel_time_mean', 'mean_travel_time_sum'] is not supported"
     ]
    }
   ],
   "source": [
    "temp.nlargest(10,)"
   ]
  },
  {
   "cell_type": "code",
   "execution_count": null,
   "metadata": {},
   "outputs": [],
   "source": []
  }
 ],
 "metadata": {
  "kernelspec": {
   "display_name": "Python 3",
   "language": "python",
   "name": "python3"
  },
  "language_info": {
   "codemirror_mode": {
    "name": "ipython",
    "version": 3
   },
   "file_extension": ".py",
   "mimetype": "text/x-python",
   "name": "python",
   "nbconvert_exporter": "python",
   "pygments_lexer": "ipython3",
   "version": "3.6.5"
  }
 },
 "nbformat": 4,
 "nbformat_minor": 2
}
