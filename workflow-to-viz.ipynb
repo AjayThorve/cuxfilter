{
 "cells": [
  {
   "cell_type": "code",
   "execution_count": 3,
   "metadata": {},
   "outputs": [],
   "source": [
    "import pyarrow as pa\n",
    "\n",
    "from pygdf.dataframe import DataFrame\n",
    "\n",
    "import pandas as pd\n",
    "import json\n",
    "import numpy as np\n",
    "import pygdf\n",
    "from pygdf import DataFrame\n",
    "import pickle"
   ]
  },
  {
   "cell_type": "markdown",
   "metadata": {},
   "source": [
    "## Helper functions"
   ]
  },
  {
   "cell_type": "code",
   "execution_count": 4,
   "metadata": {},
   "outputs": [],
   "source": [
    "def readArrowToDF(source):\n",
    "    reader = pa.RecordBatchStreamReader(source)\n",
    "    pa_df = reader.read_all()\n",
    "    return pa_df.to_pandas()\n",
    "\n",
    "def saveToDiskArrow(df, destination):\n",
    "    if type(df) == pygdf.dataframe.DataFrame:\n",
    "        pa_df = pa.RecordBatch.from_pandas(df.to_pandas())\n",
    "    else:\n",
    "        pa_df = pa.RecordBatch.from_pandas(df)\n",
    "    path = destination+\".arrow\"\n",
    "    file = open(path, 'wb')\n",
    "    writer = pa.ipc.RecordBatchStreamWriter(file, pa_df.schema)\n",
    "    writer.write_batch(pa_df)\n",
    "    writer.close()\n",
    "    file.close()\n",
    "\n",
    "def get_ipc_handle_buffer(gdf_df):\n",
    "    #pickle_dumps is a list of all column buffers\n",
    "    pickle_dumps = []\n",
    "\n",
    "    #pygdf df named -> gdf_df\n",
    "    for i in gdf_df.columns:\n",
    "        the_ipc_array_handle = gdf_df[i].to_gpu_array().get_ipc_handle()\n",
    "        pickle_dumps.append(pickle.dumps(the_ipc_array_handle))\n",
    "    \n",
    "    return str(pickle_dumps)\n",
    "\n",
    "\n",
    "def saveToDiskIPC(df,buffer,dataset_name):\n",
    "    buff_location = '/usr/src/app/data/'+dataset_name+'.pickle'\n",
    "    col_buff_location = '/usr/src/app/data/'+dataset_name+'-col.pickle'\n",
    "    with open(buff_location, 'wb') as handle:\n",
    "        pickle.dump(buffer, handle, protocol=pickle.HIGHEST_PROTOCOL)\n",
    "    with open(col_buff_location,'wb') as handle:\n",
    "        pickle.dump(df.columns, handle, protocol=pickle.HIGHEST_PROTOCOL) "
   ]
  },
  {
   "cell_type": "markdown",
   "metadata": {},
   "source": [
    "## pygdf dataframe"
   ]
  },
  {
   "cell_type": "markdown",
   "metadata": {},
   "source": [
    "Required columns for mortgage dataframe: \n",
    "\n",
    "<b>zip, dti, current_actual_upb, borrower_credit_score, load_id, seller_name(integer mapping), delinquency_12_prediction"
   ]
  },
  {
   "cell_type": "code",
   "execution_count": null,
   "metadata": {},
   "outputs": [],
   "source": [
    "required_columns = ['zip', 'dti', 'current_actual_upb', \n",
    "                    'borrower_credit_score', 'load_id', 'seller_name', 'delinquency_12_prediction']"
   ]
  },
  {
   "cell_type": "code",
   "execution_count": null,
   "metadata": {},
   "outputs": [],
   "source": [
    "gdf = gdf.loc[:,required_columns]"
   ]
  },
  {
   "cell_type": "markdown",
   "metadata": {},
   "source": [
    "## Option 1: saving it to disk as an arrow file"
   ]
  },
  {
   "cell_type": "code",
   "execution_count": null,
   "metadata": {},
   "outputs": [],
   "source": [
    "saveToDiskArrow(gdf, '/usr/src/app/data/predictions')"
   ]
  },
  {
   "cell_type": "markdown",
   "metadata": {},
   "source": [
    "## Option 2: saving cuda IPC buffer as pickle"
   ]
  },
  {
   "cell_type": "code",
   "execution_count": null,
   "metadata": {},
   "outputs": [],
   "source": [
    "saveToDiskIPC(gdf, get_ipc_handle_buffer(gdf), '/usr/src/app/data/predictions')"
   ]
  }
 ],
 "metadata": {
  "kernelspec": {
   "display_name": "Python 3",
   "language": "python",
   "name": "python3"
  },
  "language_info": {
   "codemirror_mode": {
    "name": "ipython",
    "version": 3
   },
   "file_extension": ".py",
   "mimetype": "text/x-python",
   "name": "python",
   "nbconvert_exporter": "python",
   "pygments_lexer": "ipython3",
   "version": "3.6.6"
  }
 },
 "nbformat": 4,
 "nbformat_minor": 2
}
