{
 "cells": [
  {
   "cell_type": "code",
   "execution_count": 2,
   "metadata": {},
   "outputs": [],
   "source": [
    "import pyarrow as pa"
   ]
  },
  {
   "cell_type": "code",
   "execution_count": 3,
   "metadata": {},
   "outputs": [],
   "source": [
    "import numba, pandas as pd, numpy as np"
   ]
  },
  {
   "cell_type": "code",
   "execution_count": 9,
   "metadata": {
    "collapsed": true
   },
   "outputs": [],
   "source": [
    "def pandasHistogram(colName):\n",
    "    return df[colName].value_counts()"
   ]
  },
  {
   "cell_type": "code",
   "execution_count": 4,
   "metadata": {},
   "outputs": [
    {
     "data": {
      "text/plain": [
       "pandas.core.series.Series"
      ]
     },
     "execution_count": 4,
     "metadata": {},
     "output_type": "execute_result"
    }
   ],
   "source": [
    "type(getCounts('A'))"
   ]
  },
  {
   "cell_type": "code",
   "execution_count": 5,
   "metadata": {
    "collapsed": true
   },
   "outputs": [],
   "source": [
    "import numpy as np\n",
    "\n",
    "import numba\n",
    "from numba import cuda\n",
    "\n",
    "@numba.jit(nopython=True)\n",
    "def compute_bin(x, n, xmin, xmax):\n",
    "    # special case to mirror NumPy behavior for last bin\n",
    "    if x == xmax:\n",
    "        return n - 1 # a_max always in last bin\n",
    "\n",
    "    # SPEEDTIP: Remove the float64 casts if you don't need to exactly reproduce NumPy\n",
    "    bin = np.int32(n * (np.float64(x) - np.float64(xmin)) / (np.float64(xmax) - np.float64(xmin)))\n",
    "\n",
    "    if bin < 0 or bin >= n:\n",
    "        return None\n",
    "    else:\n",
    "        return bin\n",
    "\n",
    "@cuda.jit\n",
    "def histogram(x, xmin, xmax, histogram_out):\n",
    "    nbins = histogram_out.shape[0]\n",
    "    bin_width = (xmax - xmin) / nbins\n",
    "\n",
    "    start = cuda.grid(1)\n",
    "    stride = cuda.gridsize(1)\n",
    "\n",
    "    for i in range(start, x.shape[0], stride):\n",
    "        # note that calling a numba.jit function from CUDA automatically\n",
    "        # compiles an equivalent CUDA device function!\n",
    "        bin_number = compute_bin(x[i], nbins, xmin, xmax)\n",
    "\n",
    "        if bin_number >= 0 and bin_number < histogram_out.shape[0]:\n",
    "            cuda.atomic.add(histogram_out, bin_number, 1)\n",
    "\n",
    "@cuda.jit\n",
    "def min_max(x, min_max_array):\n",
    "    nelements = x.shape[0]\n",
    "\n",
    "    start = cuda.grid(1)\n",
    "    stride = cuda.gridsize(1)\n",
    "\n",
    "    # Array already seeded with starting values appropriate for x's dtype\n",
    "    # Not a problem if this array has already been updated\n",
    "    local_min = min_max_array[0]\n",
    "    local_max = min_max_array[1]\n",
    "\n",
    "    for i in range(start, x.shape[0], stride):\n",
    "        element = x[i]\n",
    "        local_min = min(element, local_min)\n",
    "        local_max = max(element, local_max)\n",
    "\n",
    "    # Now combine each thread local min and max\n",
    "    cuda.atomic.min(min_max_array, 0, local_min)\n",
    "    cuda.atomic.max(min_max_array, 1, local_max)\n",
    "\n",
    "\n",
    "def dtype_min_max(dtype):\n",
    "    '''Get the min and max value for a numeric dtype'''\n",
    "    if np.issubdtype(dtype, np.integer):\n",
    "        info = np.iinfo(dtype)\n",
    "    else:\n",
    "        info = np.finfo(dtype)\n",
    "    return info.min, info.max\n",
    "\n",
    "\n",
    "@numba.jit(nopython=True)\n",
    "def get_bin_edges(a, nbins, a_min, a_max):\n",
    "    bin_edges = np.empty((nbins+1,), dtype=np.float64)\n",
    "    delta = (a_max - a_min) / nbins\n",
    "    for i in range(bin_edges.shape[0]):\n",
    "        bin_edges[i] = a_min + i * delta\n",
    "\n",
    "    bin_edges[-1] = a_max  # Avoid roundoff error on last point\n",
    "    return bin_edges\n",
    "\n",
    "\n",
    "def numba_gpu_histogram(a, bins):\n",
    "    # Move data to GPU so we can do two operations on it\n",
    "    a_gpu = cuda.to_device(a)\n",
    "\n",
    "    ### Find min and max value in array\n",
    "    dtype_min, dtype_max = dtype_min_max(a.dtype)\n",
    "    # Put them in the array in reverse order so that they will be replaced by the first element in the array\n",
    "    min_max_array_gpu = cuda.to_device(np.array([dtype_max, dtype_min], dtype=a.dtype))\n",
    "    min_max[64, 64](a_gpu, min_max_array_gpu)\n",
    "    a_min, a_max = min_max_array_gpu.copy_to_host()\n",
    "\n",
    "    # SPEEDTIP: Skip this step if you don't need to reproduce the NumPy histogram edge array\n",
    "    bin_edges = get_bin_edges(a, bins, a_min, a_max) # Doing this on CPU for now\n",
    "\n",
    "    ### Bin the data into a histogram \n",
    "    histogram_out = cuda.to_device(np.zeros(shape=(bins,), dtype=np.int32))\n",
    "    histogram[64, 64](a_gpu, a_min, a_max, histogram_out)\n",
    "\n",
    "    return histogram_out.copy_to_host(), bin_edges"
   ]
  },
  {
   "cell_type": "code",
   "execution_count": 17,
   "metadata": {},
   "outputs": [
    {
     "name": "stdout",
     "output_type": "stream",
     "text": [
      "538 ms ± 1.94 ms per loop (mean ± std. dev. of 7 runs, 1 loop each)\n"
     ]
    }
   ],
   "source": [
    "%timeit numba_gpu_histogram(np.asarray(df['B']),1000)"
   ]
  },
  {
   "cell_type": "code",
   "execution_count": 16,
   "metadata": {},
   "outputs": [
    {
     "name": "stdout",
     "output_type": "stream",
     "text": [
      "3.98 s ± 130 ms per loop (mean ± std. dev. of 7 runs, 1 loop each)\n"
     ]
    }
   ],
   "source": [
    "%timeit pandasHistogram('A')"
   ]
  },
  {
   "cell_type": "markdown",
   "metadata": {},
   "source": [
    "### Pyarrow stuff"
   ]
  },
  {
   "cell_type": "markdown",
   "metadata": {},
   "source": [
    "## Convert df to an arrow file that can be saved on disk"
   ]
  },
  {
   "cell_type": "code",
   "execution_count": 4,
   "metadata": {},
   "outputs": [],
   "source": [
    "df = pd.read_csv('node-server/uploads/uber-dataset',dtype=np.float32)"
   ]
  },
  {
   "cell_type": "code",
   "execution_count": 5,
   "metadata": {},
   "outputs": [
    {
     "data": {
      "text/plain": [
       "sourceid                                    float32\n",
       "dstid                                       float32\n",
       "hod                                         float32\n",
       "mean_travel_time                            float32\n",
       "standard_deviation_travel_time              float32\n",
       "geometric_mean_travel_time                  float32\n",
       "geometric_standard_deviation_travel_time    float32\n",
       "dtype: object"
      ]
     },
     "execution_count": 5,
     "metadata": {},
     "output_type": "execute_result"
    }
   ],
   "source": [
    "df.dtypes"
   ]
  },
  {
   "cell_type": "code",
   "execution_count": 6,
   "metadata": {},
   "outputs": [
    {
     "data": {
      "text/html": [
       "<div>\n",
       "<style scoped>\n",
       "    .dataframe tbody tr th:only-of-type {\n",
       "        vertical-align: middle;\n",
       "    }\n",
       "\n",
       "    .dataframe tbody tr th {\n",
       "        vertical-align: top;\n",
       "    }\n",
       "\n",
       "    .dataframe thead th {\n",
       "        text-align: right;\n",
       "    }\n",
       "</style>\n",
       "<table border=\"1\" class=\"dataframe\">\n",
       "  <thead>\n",
       "    <tr style=\"text-align: right;\">\n",
       "      <th></th>\n",
       "      <th>sourceid</th>\n",
       "      <th>dstid</th>\n",
       "      <th>hod</th>\n",
       "      <th>mean_travel_time</th>\n",
       "      <th>standard_deviation_travel_time</th>\n",
       "      <th>geometric_mean_travel_time</th>\n",
       "      <th>geometric_standard_deviation_travel_time</th>\n",
       "    </tr>\n",
       "  </thead>\n",
       "  <tbody>\n",
       "    <tr>\n",
       "      <th>0</th>\n",
       "      <td>6.0</td>\n",
       "      <td>5.0</td>\n",
       "      <td>17.0</td>\n",
       "      <td>2917.179932</td>\n",
       "      <td>790.280029</td>\n",
       "      <td>2810.979980</td>\n",
       "      <td>1.32</td>\n",
       "    </tr>\n",
       "    <tr>\n",
       "      <th>1</th>\n",
       "      <td>3.0</td>\n",
       "      <td>38.0</td>\n",
       "      <td>20.0</td>\n",
       "      <td>339.739990</td>\n",
       "      <td>254.410004</td>\n",
       "      <td>287.540009</td>\n",
       "      <td>1.67</td>\n",
       "    </tr>\n",
       "    <tr>\n",
       "      <th>2</th>\n",
       "      <td>2.0</td>\n",
       "      <td>61.0</td>\n",
       "      <td>7.0</td>\n",
       "      <td>1443.359985</td>\n",
       "      <td>374.619995</td>\n",
       "      <td>1397.729980</td>\n",
       "      <td>1.29</td>\n",
       "    </tr>\n",
       "    <tr>\n",
       "      <th>3</th>\n",
       "      <td>7.0</td>\n",
       "      <td>25.0</td>\n",
       "      <td>2.0</td>\n",
       "      <td>152.000000</td>\n",
       "      <td>180.399994</td>\n",
       "      <td>95.339996</td>\n",
       "      <td>2.61</td>\n",
       "    </tr>\n",
       "    <tr>\n",
       "      <th>4</th>\n",
       "      <td>2.0</td>\n",
       "      <td>79.0</td>\n",
       "      <td>22.0</td>\n",
       "      <td>2320.409912</td>\n",
       "      <td>324.850006</td>\n",
       "      <td>2299.219971</td>\n",
       "      <td>1.14</td>\n",
       "    </tr>\n",
       "  </tbody>\n",
       "</table>\n",
       "</div>"
      ],
      "text/plain": [
       "   sourceid  dstid   hod  mean_travel_time  standard_deviation_travel_time  \\\n",
       "0       6.0    5.0  17.0       2917.179932                      790.280029   \n",
       "1       3.0   38.0  20.0        339.739990                      254.410004   \n",
       "2       2.0   61.0   7.0       1443.359985                      374.619995   \n",
       "3       7.0   25.0   2.0        152.000000                      180.399994   \n",
       "4       2.0   79.0  22.0       2320.409912                      324.850006   \n",
       "\n",
       "   geometric_mean_travel_time  geometric_standard_deviation_travel_time  \n",
       "0                 2810.979980                                      1.32  \n",
       "1                  287.540009                                      1.67  \n",
       "2                 1397.729980                                      1.29  \n",
       "3                   95.339996                                      2.61  \n",
       "4                 2299.219971                                      1.14  "
      ]
     },
     "execution_count": 6,
     "metadata": {},
     "output_type": "execute_result"
    }
   ],
   "source": [
    "df.head()"
   ]
  },
  {
   "cell_type": "code",
   "execution_count": 7,
   "metadata": {},
   "outputs": [],
   "source": [
    "pa_df = pa.RecordBatch.from_pandas(df)"
   ]
  },
  {
   "cell_type": "code",
   "execution_count": 8,
   "metadata": {},
   "outputs": [],
   "source": [
    "file = open('node-server/uploads/uber-dataset.arrow', 'wb')"
   ]
  },
  {
   "cell_type": "code",
   "execution_count": 9,
   "metadata": {},
   "outputs": [],
   "source": [
    "writer = pa.ipc.RecordBatchStreamWriter(file, pa_df.schema)\n",
    "writer.write_batch(pa_df)\n",
    "writer.close()\n",
    "file.close()"
   ]
  },
  {
   "cell_type": "markdown",
   "metadata": {},
   "source": [
    "## Write function to read arrow file and return the corresponding pandas dataframe "
   ]
  },
  {
   "cell_type": "code",
   "execution_count": 10,
   "metadata": {},
   "outputs": [],
   "source": [
    "def readArrowToDF(source):\n",
    "    reader = pa.RecordBatchStreamReader(source)\n",
    "    pa_df = reader.read_all()\n",
    "    return pa_df.to_pandas()"
   ]
  },
  {
   "cell_type": "code",
   "execution_count": 11,
   "metadata": {},
   "outputs": [],
   "source": [
    "df2 = readArrowToDF(\"node-server/uploads/uber-dataset.arrow\")"
   ]
  },
  {
   "cell_type": "code",
   "execution_count": 86,
   "metadata": {},
   "outputs": [
    {
     "name": "stdout",
     "output_type": "stream",
     "text": [
      "13.3 s ± 230 ms per loop (mean ± std. dev. of 7 runs, 1 loop each)\n"
     ]
    }
   ],
   "source": [
    "df = pd.read_csv('python-scripts/data-100000k.csv')"
   ]
  },
  {
   "cell_type": "code",
   "execution_count": 79,
   "metadata": {},
   "outputs": [
    {
     "data": {
      "text/plain": [
       "pandas.core.frame.DataFrame"
      ]
     },
     "execution_count": 79,
     "metadata": {},
     "output_type": "execute_result"
    }
   ],
   "source": [
    "type(df2)"
   ]
  },
  {
   "cell_type": "code",
   "execution_count": 81,
   "metadata": {},
   "outputs": [
    {
     "name": "stdout",
     "output_type": "stream",
     "text": [
      "1.75 s ± 56.5 ms per loop (mean ± std. dev. of 7 runs, 1 loop each)\n"
     ]
    }
   ],
   "source": [
    "%timeit df2['A'].value_counts()"
   ]
  }
 ],
 "metadata": {
  "anaconda-cloud": {},
  "kernelspec": {
   "display_name": "Python 3",
   "language": "python",
   "name": "python3"
  },
  "language_info": {
   "codemirror_mode": {
    "name": "ipython",
    "version": 3
   },
   "file_extension": ".py",
   "mimetype": "text/x-python",
   "name": "python",
   "nbconvert_exporter": "python",
   "pygments_lexer": "ipython3",
   "version": "3.6.5"
  }
 },
 "nbformat": 4,
 "nbformat_minor": 2
}
