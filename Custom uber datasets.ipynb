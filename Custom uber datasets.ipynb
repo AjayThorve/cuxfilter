{
 "cells": [
  {
   "cell_type": "code",
   "execution_count": 2,
   "metadata": {},
   "outputs": [],
   "source": [
    "import pyarrow as pa\n",
    "\n",
    "from pygdf.dataframe import DataFrame\n",
    "\n",
    "import pandas as pd\n",
    "import json\n",
    "import numpy as np\n",
    "from python_scripts.numbaHistinMem import numba_gpu_histogram"
   ]
  },
  {
   "cell_type": "code",
   "execution_count": 3,
   "metadata": {},
   "outputs": [],
   "source": [
    "def readArrowToDF(source):\n",
    "    reader = pa.RecordBatchStreamReader(source)\n",
    "    pa_df = reader.read_all()\n",
    "    return pa_df.to_pandas()"
   ]
  },
  {
   "cell_type": "code",
   "execution_count": 4,
   "metadata": {},
   "outputs": [],
   "source": [
    "def arrowToDisk(df, destination):\n",
    "    pa_df = pa.RecordBatch.from_pandas(df)\n",
    "    path = destination+\".arrow\"\n",
    "    file = open(path, 'wb')\n",
    "    writer = pa.ipc.RecordBatchStreamWriter(file, pa_df.schema)\n",
    "    writer.write_batch(pa_df)\n",
    "    writer.close()\n",
    "    file.close()"
   ]
  },
  {
   "cell_type": "markdown",
   "metadata": {},
   "source": [
    "## Read uber-dataset-v2 arrow "
   ]
  },
  {
   "cell_type": "code",
   "execution_count": 5,
   "metadata": {},
   "outputs": [],
   "source": [
    "df = readArrowToDF(\"node_server/uploads/uber-dataset-v2.arrow\")"
   ]
  },
  {
   "cell_type": "code",
   "execution_count": 6,
   "metadata": {},
   "outputs": [],
   "source": [
    "def process(df,num_of_replicas, name, num_rows = 0):\n",
    "    df_final = df.append([df]*num_of_replicas, ignore_index=True)\n",
    "    if num_rows == 0:\n",
    "        print(len(df_final))\n",
    "        arrowToDisk(df_final,'node_server/uploads/'+name)\n",
    "    else:\n",
    "        df_final = df_final.loc[0:num_rows]\n",
    "        print(len(df_final))\n",
    "        arrowToDisk(df_final,'node_server/uploads/'+name)"
   ]
  },
  {
   "cell_type": "code",
   "execution_count": 6,
   "metadata": {},
   "outputs": [
    {
     "data": {
      "text/html": [
       "<div>\n",
       "<style>\n",
       "    .dataframe thead tr:only-child th {\n",
       "        text-align: right;\n",
       "    }\n",
       "\n",
       "    .dataframe thead th {\n",
       "        text-align: left;\n",
       "    }\n",
       "\n",
       "    .dataframe tbody tr th {\n",
       "        vertical-align: top;\n",
       "    }\n",
       "</style>\n",
       "<table border=\"1\" class=\"dataframe\">\n",
       "  <thead>\n",
       "    <tr style=\"text-align: right;\">\n",
       "      <th></th>\n",
       "      <th>sourceid</th>\n",
       "      <th>dstid</th>\n",
       "      <th>hod</th>\n",
       "      <th>mean_travel_time</th>\n",
       "      <th>standard_deviation_travel_time</th>\n",
       "      <th>geometric_mean_travel_time</th>\n",
       "      <th>geometric_standard_deviation_travel_time</th>\n",
       "      <th>source_lat</th>\n",
       "      <th>source_long</th>\n",
       "      <th>dst_lat</th>\n",
       "      <th>dst_long</th>\n",
       "    </tr>\n",
       "  </thead>\n",
       "  <tbody>\n",
       "    <tr>\n",
       "      <th>0</th>\n",
       "      <td>650</td>\n",
       "      <td>181</td>\n",
       "      <td>19</td>\n",
       "      <td>1187.61</td>\n",
       "      <td>481.13</td>\n",
       "      <td>1104.91</td>\n",
       "      <td>1.45</td>\n",
       "      <td>-122.402451</td>\n",
       "      <td>37.761448</td>\n",
       "      <td>-122.259369</td>\n",
       "      <td>37.816994</td>\n",
       "    </tr>\n",
       "    <tr>\n",
       "      <th>1</th>\n",
       "      <td>232</td>\n",
       "      <td>2221</td>\n",
       "      <td>8</td>\n",
       "      <td>1242.33</td>\n",
       "      <td>183.80</td>\n",
       "      <td>1229.94</td>\n",
       "      <td>1.15</td>\n",
       "      <td>-122.128365</td>\n",
       "      <td>37.463764</td>\n",
       "      <td>-122.030777</td>\n",
       "      <td>37.236847</td>\n",
       "    </tr>\n",
       "    <tr>\n",
       "      <th>2</th>\n",
       "      <td>809</td>\n",
       "      <td>2460</td>\n",
       "      <td>23</td>\n",
       "      <td>1276.63</td>\n",
       "      <td>226.23</td>\n",
       "      <td>1257.19</td>\n",
       "      <td>1.19</td>\n",
       "      <td>-122.248901</td>\n",
       "      <td>37.817375</td>\n",
       "      <td>-122.407974</td>\n",
       "      <td>37.802288</td>\n",
       "    </tr>\n",
       "    <tr>\n",
       "      <th>3</th>\n",
       "      <td>1838</td>\n",
       "      <td>2363</td>\n",
       "      <td>0</td>\n",
       "      <td>431.26</td>\n",
       "      <td>193.26</td>\n",
       "      <td>405.81</td>\n",
       "      <td>1.38</td>\n",
       "      <td>-122.072083</td>\n",
       "      <td>37.369617</td>\n",
       "      <td>-122.001808</td>\n",
       "      <td>37.316303</td>\n",
       "    </tr>\n",
       "    <tr>\n",
       "      <th>4</th>\n",
       "      <td>82</td>\n",
       "      <td>910</td>\n",
       "      <td>8</td>\n",
       "      <td>1858.73</td>\n",
       "      <td>342.70</td>\n",
       "      <td>1825.93</td>\n",
       "      <td>1.21</td>\n",
       "      <td>-122.406548</td>\n",
       "      <td>37.751953</td>\n",
       "      <td>-122.507210</td>\n",
       "      <td>37.777042</td>\n",
       "    </tr>\n",
       "  </tbody>\n",
       "</table>\n",
       "</div>"
      ],
      "text/plain": [
       "   sourceid  dstid  hod  mean_travel_time  standard_deviation_travel_time  \\\n",
       "0       650    181   19           1187.61                          481.13   \n",
       "1       232   2221    8           1242.33                          183.80   \n",
       "2       809   2460   23           1276.63                          226.23   \n",
       "3      1838   2363    0            431.26                          193.26   \n",
       "4        82    910    8           1858.73                          342.70   \n",
       "\n",
       "   geometric_mean_travel_time  geometric_standard_deviation_travel_time  \\\n",
       "0                     1104.91                                      1.45   \n",
       "1                     1229.94                                      1.15   \n",
       "2                     1257.19                                      1.19   \n",
       "3                      405.81                                      1.38   \n",
       "4                     1825.93                                      1.21   \n",
       "\n",
       "   source_lat  source_long     dst_lat   dst_long  \n",
       "0 -122.402451    37.761448 -122.259369  37.816994  \n",
       "1 -122.128365    37.463764 -122.030777  37.236847  \n",
       "2 -122.248901    37.817375 -122.407974  37.802288  \n",
       "3 -122.072083    37.369617 -122.001808  37.316303  \n",
       "4 -122.406548    37.751953 -122.507210  37.777042  "
      ]
     },
     "execution_count": 6,
     "metadata": {},
     "output_type": "execute_result"
    }
   ],
   "source": [
    "df.head()"
   ]
  },
  {
   "cell_type": "markdown",
   "metadata": {},
   "source": [
    "## Create a 1-col dataset"
   ]
  },
  {
   "cell_type": "markdown",
   "metadata": {},
   "source": [
    "### non-filter"
   ]
  },
  {
   "cell_type": "code",
   "execution_count": 5,
   "metadata": {},
   "outputs": [],
   "source": [
    "uber_1_col = pd.DataFrame(df[['hod']], dtype=np.float32)\n",
    "del(df)"
   ]
  },
  {
   "cell_type": "code",
   "execution_count": 6,
   "metadata": {},
   "outputs": [
    {
     "name": "stdout",
     "output_type": "stream",
     "text": [
      "821521243\n"
     ]
    }
   ],
   "source": [
    "uber_1_col_final = uber_1_col.append([uber_1_col]*16, ignore_index=True)\n",
    "print(len(uber_1_col_final))\n",
    "del(uber_1_col)"
   ]
  },
  {
   "cell_type": "code",
   "execution_count": 7,
   "metadata": {},
   "outputs": [],
   "source": [
    "arrowToDisk(uber_1_col_final,'node_server/uploads/uber-1-col-nonfilter')"
   ]
  },
  {
   "cell_type": "markdown",
   "metadata": {},
   "source": [
    "### filter"
   ]
  },
  {
   "cell_type": "code",
   "execution_count": 5,
   "metadata": {},
   "outputs": [],
   "source": [
    "uber_1_col = pd.DataFrame(df[['hod']], dtype=np.float32)"
   ]
  },
  {
   "cell_type": "code",
   "execution_count": 6,
   "metadata": {},
   "outputs": [
    {
     "name": "stdout",
     "output_type": "stream",
     "text": [
      "338273453\n"
     ]
    }
   ],
   "source": [
    "uber_1_col_final = uber_1_col.append([uber_1_col]*6, ignore_index=True)\n",
    "print(len(uber_1_col_final))"
   ]
  },
  {
   "cell_type": "code",
   "execution_count": 7,
   "metadata": {},
   "outputs": [],
   "source": [
    "arrowToDisk(uber_1_col_final,'node_server/uploads/uber-1-col')"
   ]
  },
  {
   "cell_type": "markdown",
   "metadata": {},
   "source": [
    "## Create a 2-col dataset"
   ]
  },
  {
   "cell_type": "code",
   "execution_count": null,
   "metadata": {},
   "outputs": [],
   "source": [
    "uber_2_col = pd.DataFrame(df[['hod','mean_travel_time']], dtype=np.float32)"
   ]
  },
  {
   "cell_type": "code",
   "execution_count": 9,
   "metadata": {},
   "outputs": [
    {
     "data": {
      "text/plain": [
       "48324779"
      ]
     },
     "execution_count": 9,
     "metadata": {},
     "output_type": "execute_result"
    }
   ],
   "source": [
    "print(uber_2_col.dtypes)\n",
    "\n",
    "#48 Million rows\n",
    "len(uber_2_col)"
   ]
  },
  {
   "cell_type": "markdown",
   "metadata": {},
   "source": [
    "#### Multiply the rows by replicating"
   ]
  },
  {
   "cell_type": "code",
   "execution_count": 10,
   "metadata": {},
   "outputs": [
    {
     "data": {
      "text/plain": [
       "241623895"
      ]
     },
     "execution_count": 10,
     "metadata": {},
     "output_type": "execute_result"
    }
   ],
   "source": [
    "uber_2_col_final = uber_2_col.append([uber_2_col]*4, ignore_index=True)\n",
    "len(uber_2_col_final)"
   ]
  },
  {
   "cell_type": "code",
   "execution_count": 30,
   "metadata": {},
   "outputs": [],
   "source": [
    "arrowToDisk(uber_2_col_final,'node_server/uploads/uber-2-col')"
   ]
  },
  {
   "cell_type": "markdown",
   "metadata": {},
   "source": [
    "## Create a 3-col dataset"
   ]
  },
  {
   "cell_type": "code",
   "execution_count": 7,
   "metadata": {},
   "outputs": [],
   "source": [
    "uber_3_col = pd.DataFrame(df[['hod','mean_travel_time','standard_deviation_travel_time']], dtype=np.float32)"
   ]
  },
  {
   "cell_type": "code",
   "execution_count": 8,
   "metadata": {},
   "outputs": [
    {
     "name": "stdout",
     "output_type": "stream",
     "text": [
      "hod                               float32\n",
      "mean_travel_time                  float32\n",
      "standard_deviation_travel_time    float32\n",
      "dtype: object\n"
     ]
    },
    {
     "data": {
      "text/plain": [
       "48324779"
      ]
     },
     "execution_count": 8,
     "metadata": {},
     "output_type": "execute_result"
    }
   ],
   "source": [
    "print(uber_3_col.dtypes)\n",
    "\n",
    "#48 Million rows\n",
    "len(uber_3_col)"
   ]
  },
  {
   "cell_type": "code",
   "execution_count": 9,
   "metadata": {},
   "outputs": [
    {
     "data": {
      "text/plain": [
       "241623895"
      ]
     },
     "execution_count": 9,
     "metadata": {},
     "output_type": "execute_result"
    }
   ],
   "source": [
    "uber_3_col_final = uber_3_col.append([uber_3_col]*4, ignore_index=True)\n",
    "len(uber_3_col_final)"
   ]
  },
  {
   "cell_type": "code",
   "execution_count": 10,
   "metadata": {},
   "outputs": [],
   "source": [
    "uber_3_col_final = uber_3_col_final.loc[0:200623895]"
   ]
  },
  {
   "cell_type": "code",
   "execution_count": 11,
   "metadata": {},
   "outputs": [],
   "source": [
    "arrowToDisk(uber_3_col_final,'node_server/uploads/uber-3-col')"
   ]
  },
  {
   "cell_type": "markdown",
   "metadata": {},
   "source": [
    "## Create a 4-col dataset"
   ]
  },
  {
   "cell_type": "code",
   "execution_count": 29,
   "metadata": {},
   "outputs": [],
   "source": [
    "uber_4_col = pd.DataFrame(df[['hod','mean_travel_time','standard_deviation_travel_time','geometric_mean_travel_time']], dtype=np.float32)"
   ]
  },
  {
   "cell_type": "code",
   "execution_count": 30,
   "metadata": {},
   "outputs": [
    {
     "name": "stdout",
     "output_type": "stream",
     "text": [
      "180623896\n"
     ]
    }
   ],
   "source": [
    "process(uber_4_col, 3, 'uber-4-col',180623895)"
   ]
  },
  {
   "cell_type": "markdown",
   "metadata": {},
   "source": [
    "## Create a 5-col dataset"
   ]
  },
  {
   "cell_type": "code",
   "execution_count": null,
   "metadata": {},
   "outputs": [],
   "source": [
    "uber_5_col = pd.DataFrame(df[['hod','mean_travel_time','standard_deviation_travel_time','geometric_mean_travel_time','geometric_standard_deviation_travel_time']], dtype=np.float32)"
   ]
  },
  {
   "cell_type": "code",
   "execution_count": 7,
   "metadata": {},
   "outputs": [
    {
     "name": "stdout",
     "output_type": "stream",
     "text": [
      "160623896\n"
     ]
    }
   ],
   "source": [
    "process(uber_5_col, 3, 'uber-5-col',160623895)"
   ]
  },
  {
   "cell_type": "markdown",
   "metadata": {},
   "source": [
    "## Create a 6-col dataset"
   ]
  },
  {
   "cell_type": "code",
   "execution_count": 7,
   "metadata": {},
   "outputs": [],
   "source": [
    "uber_6_col = pd.DataFrame(df[['hod','mean_travel_time','source_lat','source_long','dst_lat','dst_long']], dtype=np.float32)"
   ]
  },
  {
   "cell_type": "code",
   "execution_count": 8,
   "metadata": {},
   "outputs": [
    {
     "name": "stdout",
     "output_type": "stream",
     "text": [
      "140623896\n"
     ]
    }
   ],
   "source": [
    "process(uber_6_col, 3, 'uber-6-col',140623895)"
   ]
  },
  {
   "cell_type": "markdown",
   "metadata": {},
   "source": [
    "## Check pygdf performance"
   ]
  },
  {
   "cell_type": "code",
   "execution_count": 32,
   "metadata": {},
   "outputs": [],
   "source": [
    "df1 = readArrowToDF('node_server/uploads/uber-6-col.arrow')"
   ]
  },
  {
   "cell_type": "code",
   "execution_count": 33,
   "metadata": {},
   "outputs": [],
   "source": [
    "gdf = DataFrame.from_pandas(df1)"
   ]
  },
  {
   "cell_type": "code",
   "execution_count": 34,
   "metadata": {},
   "outputs": [],
   "source": [
    "del(df1)"
   ]
  },
  {
   "cell_type": "code",
   "execution_count": 35,
   "metadata": {},
   "outputs": [],
   "source": [
    "backup = gdf"
   ]
  },
  {
   "cell_type": "code",
   "execution_count": 36,
   "metadata": {},
   "outputs": [
    {
     "data": {
      "text/plain": [
       "('hod', 'mean_travel_time', 'source_lat', 'source_long', 'dst_lat', 'dst_long')"
      ]
     },
     "execution_count": 36,
     "metadata": {},
     "output_type": "execute_result"
    }
   ],
   "source": [
    "gdf.columns"
   ]
  },
  {
   "cell_type": "code",
   "execution_count": 23,
   "metadata": {},
   "outputs": [
    {
     "data": {
      "text/plain": [
       "140623896"
      ]
     },
     "execution_count": 23,
     "metadata": {},
     "output_type": "execute_result"
    }
   ],
   "source": [
    "len(gdf)"
   ]
  },
  {
   "cell_type": "code",
   "execution_count": 24,
   "metadata": {},
   "outputs": [
    {
     "name": "stdout",
     "output_type": "stream",
     "text": [
      "73.1 ms ± 8.63 µs per loop (mean ± std. dev. of 7 runs, 10 loops each)\n"
     ]
    }
   ],
   "source": [
    "%timeit numba_gpu_histogram(gdf['hod'].to_gpu_array(),24)"
   ]
  },
  {
   "cell_type": "code",
   "execution_count": 25,
   "metadata": {},
   "outputs": [],
   "source": [
    "gdf = gdf.query('hod>10 and hod<20')"
   ]
  },
  {
   "cell_type": "code",
   "execution_count": 26,
   "metadata": {},
   "outputs": [],
   "source": [
    "gdf = gdf.query('hod>12 and hod<18')"
   ]
  },
  {
   "cell_type": "code",
   "execution_count": 27,
   "metadata": {},
   "outputs": [],
   "source": [
    "temp_gdf = gdf.nlargest(100,['hod']).to_pandas().to_dict()"
   ]
  },
  {
   "cell_type": "code",
   "execution_count": 28,
   "metadata": {},
   "outputs": [],
   "source": [
    "del(gdf)"
   ]
  },
  {
   "cell_type": "code",
   "execution_count": 29,
   "metadata": {},
   "outputs": [],
   "source": [
    "gdf = backup"
   ]
  },
  {
   "cell_type": "code",
   "execution_count": 30,
   "metadata": {},
   "outputs": [],
   "source": [
    "del(gdf)\n",
    "del(backup)"
   ]
  },
  {
   "cell_type": "code",
   "execution_count": null,
   "metadata": {},
   "outputs": [],
   "source": []
  }
 ],
 "metadata": {
  "kernelspec": {
   "display_name": "Python 3",
   "language": "python",
   "name": "python3"
  },
  "language_info": {
   "codemirror_mode": {
    "name": "ipython",
    "version": 3
   },
   "file_extension": ".py",
   "mimetype": "text/x-python",
   "name": "python",
   "nbconvert_exporter": "python",
   "pygments_lexer": "ipython3",
   "version": "3.6.6"
  }
 },
 "nbformat": 4,
 "nbformat_minor": 2
}
