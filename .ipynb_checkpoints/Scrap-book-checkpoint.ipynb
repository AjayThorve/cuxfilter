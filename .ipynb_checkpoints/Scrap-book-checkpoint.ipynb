{
 "cells": [
  {
   "cell_type": "code",
   "execution_count": 4,
   "metadata": {},
   "outputs": [],
   "source": [
    "import pandas as pd, numpy as np\n",
    "\n",
    "import sys, json, random\n",
    "n=100"
   ]
  },
  {
   "cell_type": "code",
   "execution_count": 5,
   "metadata": {},
   "outputs": [],
   "source": [
    "df = pd.read_csv(\"python-scripts/data-100k.csv\")\n",
    "\n",
    "df1 = df['A'].value_counts()"
   ]
  },
  {
   "cell_type": "code",
   "execution_count": 60,
   "metadata": {},
   "outputs": [
    {
     "data": {
      "text/plain": [
       "['A', 'B']"
      ]
     },
     "execution_count": 60,
     "metadata": {},
     "output_type": "execute_result"
    }
   ],
   "source": [
    "list(df.columns)"
   ]
  },
  {
   "cell_type": "code",
   "execution_count": 55,
   "metadata": {},
   "outputs": [],
   "source": [
    "dict_temp ={}\n",
    "dict_temp['A'] = list(df1.index.astype(str))\n",
    "\n",
    "dict_temp['B'] = list(df1.values.astype(str))"
   ]
  },
  {
   "cell_type": "code",
   "execution_count": 57,
   "metadata": {
    "scrolled": true
   },
   "outputs": [
    {
     "data": {
      "text/plain": [
       "'{\"A\": [\"67\", \"88\", \"53\", \"18\", \"33\", \"2\", \"45\", \"96\", \"51\", \"95\", \"14\", \"80\", \"63\", \"35\", \"64\", \"30\", \"8\", \"17\", \"26\", \"39\", \"28\", \"90\", \"93\", \"9\", \"91\", \"86\", \"58\", \"57\", \"61\", \"89\", \"36\", \"1\", \"73\", \"65\", \"60\", \"79\", \"32\", \"4\", \"98\", \"68\", \"42\", \"78\", \"16\", \"29\", \"82\", \"76\", \"71\", \"56\", \"24\", \"74\", \"22\", \"13\", \"52\", \"46\", \"75\", \"43\", \"38\", \"11\", \"31\", \"20\", \"7\", \"37\", \"12\", \"6\", \"47\", \"59\", \"10\", \"19\", \"27\", \"69\", \"34\", \"3\", \"72\", \"84\", \"77\", \"25\", \"70\", \"41\", \"81\", \"99\", \"62\", \"55\", \"40\", \"5\", \"15\", \"85\", \"87\", \"94\", \"44\", \"54\", \"97\", \"49\", \"92\", \"83\", \"66\", \"23\", \"50\", \"48\", \"21\"], \"B\": [\"1083\", \"1079\", \"1079\", \"1074\", \"1072\", \"1070\", \"1063\", \"1063\", \"1063\", \"1060\", \"1057\", \"1054\", \"1050\", \"1050\", \"1047\", \"1044\", \"1044\", \"1043\", \"1042\", \"1041\", \"1034\", \"1034\", \"1034\", \"1031\", \"1030\", \"1028\", \"1026\", \"1026\", \"1026\", \"1025\", \"1023\", \"1023\", \"1022\", \"1021\", \"1020\", \"1020\", \"1019\", \"1017\", \"1016\", \"1015\", \"1014\", \"1013\", \"1012\", \"1012\", \"1011\", \"1008\", \"1005\", \"1004\", \"1004\", \"1002\", \"1002\", \"1000\", \"1000\", \"1000\", \"1000\", \"1000\", \"999\", \"997\", \"996\", \"996\", \"995\", \"994\", \"992\", \"992\", \"991\", \"991\", \"991\", \"990\", \"990\", \"989\", \"989\", \"989\", \"988\", \"988\", \"988\", \"986\", \"985\", \"985\", \"985\", \"984\", \"984\", \"983\", \"983\", \"983\", \"983\", \"980\", \"979\", \"976\", \"976\", \"974\", \"972\", \"970\", \"968\", \"968\", \"967\", \"962\", \"957\", \"955\", \"955\"]}'"
      ]
     },
     "execution_count": 57,
     "metadata": {},
     "output_type": "execute_result"
    }
   ],
   "source": [
    "json.dumps(dict_temp)"
   ]
  },
  {
   "cell_type": "code",
   "execution_count": 66,
   "metadata": {},
   "outputs": [],
   "source": [
    "df1.to_json('data.json',orient='index')"
   ]
  },
  {
   "cell_type": "code",
   "execution_count": 42,
   "metadata": {},
   "outputs": [],
   "source": [
    "a = \"uploads\\\\ba0ca1ce2be0ef740d5c3a603d9975c4\""
   ]
  },
  {
   "cell_type": "code",
   "execution_count": 44,
   "metadata": {},
   "outputs": [
    {
     "data": {
      "text/plain": [
       "['uploads', 'ba0ca1ce2be0ef740d5c3a603d9975c4']"
      ]
     },
     "execution_count": 44,
     "metadata": {},
     "output_type": "execute_result"
    }
   ],
   "source": [
    "a.split(\"\\\\\")"
   ]
  },
  {
   "cell_type": "code",
   "execution_count": 5,
   "metadata": {},
   "outputs": [],
   "source": [
    "a = np.random.randint(1,1000,(2,int(n)))"
   ]
  },
  {
   "cell_type": "code",
   "execution_count": 8,
   "metadata": {},
   "outputs": [
    {
     "ename": "TypeError",
     "evalue": "__init__() got an unexpected keyword argument 'header'",
     "output_type": "error",
     "traceback": [
      "\u001b[1;31m---------------------------------------------------------------------------\u001b[0m",
      "\u001b[1;31mTypeError\u001b[0m                                 Traceback (most recent call last)",
      "\u001b[1;32m<ipython-input-8-75ae62e8ebfe>\u001b[0m in \u001b[0;36m<module>\u001b[1;34m()\u001b[0m\n\u001b[1;32m----> 1\u001b[1;33m \u001b[0mpd\u001b[0m\u001b[1;33m.\u001b[0m\u001b[0mDataFrame\u001b[0m\u001b[1;33m(\u001b[0m\u001b[0ma\u001b[0m\u001b[1;33m,\u001b[0m\u001b[0mheader\u001b[0m\u001b[1;33m=\u001b[0m\u001b[1;32mNone\u001b[0m\u001b[1;33m)\u001b[0m\u001b[1;33m\u001b[0m\u001b[0m\n\u001b[0m",
      "\u001b[1;31mTypeError\u001b[0m: __init__() got an unexpected keyword argument 'header'"
     ]
    }
   ],
   "source": [
    "pd.DataFrame(a)"
   ]
  }
 ],
 "metadata": {
  "kernelspec": {
   "display_name": "Python 3",
   "language": "python",
   "name": "python3"
  },
  "language_info": {
   "codemirror_mode": {
    "name": "ipython",
    "version": 3
   },
   "file_extension": ".py",
   "mimetype": "text/x-python",
   "name": "python",
   "nbconvert_exporter": "python",
   "pygments_lexer": "ipython3",
   "version": "3.6.4"
  }
 },
 "nbformat": 4,
 "nbformat_minor": 2
}
