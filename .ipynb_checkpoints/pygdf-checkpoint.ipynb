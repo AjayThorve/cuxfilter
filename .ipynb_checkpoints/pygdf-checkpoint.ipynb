{
 "cells": [
  {
   "cell_type": "code",
   "execution_count": 1,
   "metadata": {},
   "outputs": [],
   "source": [
    "import pygdf\n",
    "import numpy as np\n",
    "from pygdf.dataframe import DataFrame\n",
    "from numba import cuda\n",
    "import json"
   ]
  },
  {
   "cell_type": "code",
   "execution_count": 2,
   "metadata": {},
   "outputs": [],
   "source": [
    "from pyarrow import RecordBatchStreamReader\n",
    "import sys, pandas as pd"
   ]
  },
  {
   "cell_type": "code",
   "execution_count": 3,
   "metadata": {},
   "outputs": [],
   "source": [
    "from pygdf.gpuarrow import GpuArrowReader\n",
    "import pygdf.gpuarrow as gpuarrow"
   ]
  },
  {
   "cell_type": "markdown",
   "metadata": {},
   "source": [
    "## reading and converting to pygdf"
   ]
  },
  {
   "cell_type": "code",
   "execution_count": 4,
   "metadata": {},
   "outputs": [],
   "source": [
    "def readArrowToDF(source):\n",
    "    reader = RecordBatchStreamReader(source)\n",
    "    pa_df = reader.read_all()\n",
    "    return pa_df.to_pandas()"
   ]
  },
  {
   "cell_type": "code",
   "execution_count": 5,
   "metadata": {},
   "outputs": [],
   "source": [
    "gdf_df = DataFrame.from_pandas(readArrowToDF(\"node-server/uploads/uber-dataset.arrow\"))"
   ]
  },
  {
   "cell_type": "code",
   "execution_count": 8,
   "metadata": {},
   "outputs": [
    {
     "name": "stderr",
     "output_type": "stream",
     "text": [
      "/conda/envs/gdf/lib/python3.6/site-packages/numba/cuda/compiler.py:236: UserWarning: Could not autotune, using default tpb of 128\n",
      "  warnings.warn('Could not autotune, using default tpb of 128')\n"
     ]
    },
    {
     "data": {
      "text/plain": [
       "    sourceid dstid  hod mean_travel_time standard_deviation_travel_time geometric_mean_travel_time geometric_standard_deviation_travel_time\n",
       "  0      6.0   5.0 17.0          2917.18                         790.28                    2810.98                                     1.32\n",
       "  2      2.0  61.0  7.0          1443.36                         374.62                    1397.73                                     1.29\n",
       "  4      2.0  79.0 22.0          2320.41                         324.85                    2299.22                                     1.14\n",
       "  5      3.0  74.0  8.0          1277.44                         340.93                     1237.9                                     1.28\n",
       "  6      2.0  86.0 18.0          1586.91                         484.64                    1515.32                                     1.36\n",
       "  8      8.0  27.0 23.0           1036.0                         253.06                    1012.04                                     1.23\n",
       " 12      9.0  30.0 10.0          1714.83                         170.09                    1706.78                                      1.1\n",
       " 13      3.0  91.0 15.0           2555.5                         382.77                    2528.73                                     1.15\n",
       " 14      8.0  46.0  4.0          2398.95                         308.83                    2382.96                                     1.12\n",
       " 17      9.0  46.0 15.0          2065.83                         930.13                    1892.94                                      1.5\n",
       " 19      9.0  58.0  0.0          1621.39                         909.67                    1467.04                                      1.5\n",
       " 20      9.0  60.0  7.0          2666.71                         472.77                    2624.16                                      1.2\n",
       " 21      6.0  92.0 17.0          2020.29                         483.65                    1967.64                                     1.25\n",
       " 22      6.0  93.0 22.0          1088.24                         346.66                    1051.81                                     1.27\n",
       " 24      7.0  94.0  2.0          1154.27                         211.75                    1137.49                                     1.18\n",
       " 25      9.0  78.0 22.0          1156.94                         251.95                    1129.48                                     1.25\n",
       " 27      9.0  90.0  4.0          1330.89                         328.51                    1294.08                                     1.26\n",
       " 28      9.0  91.0  9.0          2359.48                         559.64                    2294.61                                     1.27\n",
       " 29      9.0  98.0  8.0           1340.3                         412.94                    1284.62                                     1.33\n",
       " 30     11.0   6.0  8.0          3000.56                         446.93                    2968.94                                     1.15\n",
       " 32     23.0   7.0 16.0          1110.33                         224.76                    1088.78                                     1.22\n",
       " 34      2.0 108.0 17.0          4084.23                        1074.31                    3936.52                                     1.32\n",
       " 36      2.0 123.0 14.0          1695.19                          431.6                    1643.22                                     1.28\n",
       " 38      2.0 153.0 11.0          1709.73                         434.72                    1659.57                                     1.27\n",
       " 39      2.0 155.0 21.0          1219.85                         314.21                    1182.47                                     1.28\n",
       " 40     11.0  65.0 21.0          1641.14                          267.3                    1620.79                                     1.17\n",
       " 41      7.0 111.0 12.0           2775.8                         323.95                    2758.74                                     1.11\n",
       " 42     11.0  73.0 22.0          2288.86                         214.57                    2278.74                                      1.1\n",
       " 43      3.0 156.0  1.0          1011.04                         586.07                     909.12                                     1.52\n",
       " 45      6.0 126.0  1.0          1690.41                         189.86                    1680.23                                     1.11\n",
       " 46      7.0 126.0 12.0          1908.29                         285.24                     1889.3                                     1.15\n",
       " 49      9.0 108.0 22.0          2395.06                         585.83                    2332.55                                     1.25\n",
       " 52      6.0 150.0  4.0          1232.17                         220.62                    1216.27                                     1.17\n",
       " 54      7.0 150.0 15.0          1785.55                         500.57                    1724.46                                     1.29\n",
       " 56      9.0 153.0 16.0           4260.5                         923.19                    4160.05                                     1.25\n",
       " 57      7.0 179.0 10.0          2256.81                         184.88                     2249.6                                     1.08\n",
       " 59     17.0  88.0 16.0          3071.18                         556.91                     3022.7                                     1.19\n",
       " 60      7.0 188.0 16.0          2158.94                         638.95                    2096.91                                     1.25\n",
       " 61      8.0 186.0 17.0          3593.54                         786.28                    3529.21                                      1.2\n",
       " 62      9.0 181.0  3.0          1106.11                         287.36                    1072.61                                     1.28\n",
       " 63     39.0   5.0 17.0          4496.43                         775.18                    4430.22                                     1.19\n",
       " 64     39.0   6.0 22.0          1377.58                         623.43                    1328.96                                     1.24\n",
       " 65      2.0 209.0  3.0          1897.73                         457.88                     1846.7                                     1.26\n",
       " 67      2.0 212.0 15.0          4039.43                        1140.39                     3888.9                                     1.31\n",
       " 68     20.0  44.0  0.0          1023.73                         260.18                     992.56                                     1.28\n",
       " 69     20.0  46.0 10.0          1232.69                         289.29                    1202.56                                     1.24\n",
       " 71      2.0 234.0 11.0          1432.19                         391.19                    1387.02                                     1.28\n",
       " 73     23.0  25.0 16.0           1312.4                         232.62                    1291.52                                      1.2\n",
       " 74     21.0  46.0 21.0          1762.63                         340.81                    1734.19                                     1.19\n",
       " 75      3.0 232.0 12.0          1973.93                         411.78                    1942.78                                     1.18\n",
       " 77      3.0 234.0 22.0          3223.67                         371.95                    3202.51                                     1.12\n",
       " 79     20.0  78.0 17.0          1749.25                         392.56                    1705.72                                     1.25\n",
       " 81      8.0 206.0 18.0          3865.33                         894.88                    3776.94                                     1.23\n",
       " 82     20.0  87.0 23.0          2456.44                         336.35                    2435.17                                     1.14\n",
       " 83     20.0  91.0  4.0          1842.56                         391.34                    1805.21                                     1.22\n",
       " 84      8.0 211.0  4.0          2133.59                         173.43                    2126.77                                     1.08\n",
       " 85     21.0  82.0  9.0          1450.75                         350.97                    1409.18                                     1.27\n",
       " 86     20.0  98.0  3.0          1206.58                         493.32                    1142.94                                     1.35\n",
       " 88      9.0 209.0  8.0          1075.07                         410.95                    1002.89                                     1.45\n",
       " 89      9.0 210.0 10.0          1176.52                         349.05                    1131.11                                     1.32\n",
       " 91     21.0  91.0 15.0          2981.23                          494.2                     2942.2                                     1.17\n",
       " 94     21.0  98.0 14.0          2777.07                        1204.59                    2566.78                                     1.47\n",
       " 96      8.0 234.0  5.0          3928.65                         618.16                     3885.9                                     1.15\n",
       " 98      9.0 232.0  6.0          2759.86                         746.69                    2669.41                                     1.29\n",
       " 99      8.0 242.0  6.0          1624.86                         615.78                    1527.12                                     1.41\n",
       "100      9.0 233.0 11.0          1881.08                          517.1                    1823.61                                     1.27\n",
       "102      9.0 234.0 16.0          1735.06                         494.92                    1680.11                                     1.28\n",
       "103      9.0 242.0 17.0          2482.21                         658.14                    2408.25                                     1.27\n",
       "104      8.0 264.0  2.0          1366.13                         376.68                    1304.94                                      1.4\n",
       "105     25.0  94.0  2.0          1212.33                         393.39                    1164.67                                      1.3\n",
       "106     40.0   6.0 12.0          1083.17                         382.51                    1027.88                                     1.36\n",
       "108     27.0  83.0  8.0          1009.22                          151.3                      997.2                                     1.17\n",
       "109      9.0 264.0 13.0          1888.21                          562.7                    1823.47                                     1.28\n",
       "113      9.0 286.0  9.0          1259.87                          333.9                    1219.07                                     1.29\n",
       "114     46.0   8.0 16.0          3411.78                         936.71                     3301.8                                     1.28\n",
       "115     46.0   9.0 21.0          1136.27                         266.42                    1109.43                                     1.24\n",
       "116      2.0 306.0  5.0          1226.69                         367.42                    1177.84                                     1.32\n",
       "117      3.0 300.0 22.0          1027.91                         220.08                    1009.13                                      1.2\n",
       "118      2.0 314.0  6.0          1897.18                         486.14                    1839.35                                     1.28\n",
       "119      3.0 304.0  6.0          2151.17                         590.41                    2076.04                                      1.3\n",
       "121      3.0 306.0 16.0          1576.22                         475.94                    1525.23                                     1.27\n",
       "124     30.0  58.0 12.0          1298.95                         290.27                    1267.04                                     1.25\n",
       "127     30.0  60.0 19.0          1587.33                         315.58                    1558.01                                     1.21\n",
       "128      2.0 345.0  8.0           1586.5                         565.48                    1483.99                                     1.45\n",
       "129     30.0  65.0  8.0          2514.86                         540.39                     2461.6                                     1.22\n",
       "130      2.0 346.0 13.0          1889.67                         309.91                    1861.36                                      1.2\n",
       "131      2.0 347.0 18.0          1161.64                         534.22                    1062.93                                     1.51\n",
       "133     31.0  58.0 23.0          1162.68                         373.12                    1114.44                                     1.32\n",
       "134      3.0 344.0 14.0          1285.04                          215.0                    1269.79                                     1.16\n",
       "136      3.0 351.0 10.0          1180.83                         335.98                     1144.7                                     1.27\n",
       "137      8.0 301.0 10.0          1373.57                         564.53                    1291.85                                     1.38\n",
       "138     30.0  82.0 15.0          2096.75                         448.11                    2049.79                                     1.24\n",
       "139      8.0 311.0 21.0          3078.92                         403.49                    3056.89                                     1.12\n",
       "140      9.0 304.0  0.0           2534.6                         505.54                    2492.01                                     1.19\n",
       "141      9.0 306.0 10.0          3112.59                         475.75                    3077.75                                     1.16\n",
       "142     38.0  17.0 15.0          3465.64                         427.14                    3440.78                                     1.13\n",
       "144      9.0 314.0 11.0          1625.15                         507.59                    1559.49                                     1.32\n",
       "145      9.0 315.0 16.0          2606.41                         550.92                    2551.07                                     1.23\n",
       "147      9.0 321.0  7.0          1261.24                         370.68                    1218.27                                     1.29\n",
       "148      9.0 322.0 12.0          1658.13                        1427.51                    1490.95                                     1.44"
      ]
     },
     "execution_count": 8,
     "metadata": {},
     "output_type": "execute_result"
    }
   ],
   "source": [
    "gdf_df.query(\"mean_travel_time>999\").head(100)"
   ]
  },
  {
   "cell_type": "markdown",
   "metadata": {},
   "source": [
    "### Reading file from csv using pandas and converting it to pygdf"
   ]
  },
  {
   "cell_type": "code",
   "execution_count": 12,
   "metadata": {},
   "outputs": [
    {
     "name": "stdout",
     "output_type": "stream",
     "text": [
      "5.24 s ± 16.9 ms per loop (mean ± std. dev. of 7 runs, 1 loop each)\n"
     ]
    }
   ],
   "source": [
    "%timeit DataFrame.from_pandas(pd.read_csv('node-server/uploads/uber-dataset'))"
   ]
  },
  {
   "cell_type": "markdown",
   "metadata": {},
   "source": [
    "### Reading file from arrow using pyarrow and converting it to pygdf"
   ]
  },
  {
   "cell_type": "code",
   "execution_count": 13,
   "metadata": {},
   "outputs": [
    {
     "name": "stdout",
     "output_type": "stream",
     "text": [
      "236 ms ± 6.03 ms per loop (mean ± std. dev. of 7 runs, 1 loop each)\n"
     ]
    }
   ],
   "source": [
    "%timeit DataFrame.from_pandas(readArrowToDF(\"node-server/uploads/uber-dataset.arrow\"))"
   ]
  },
  {
   "cell_type": "code",
   "execution_count": 5,
   "metadata": {},
   "outputs": [
    {
     "data": {
      "text/plain": [
       "2"
      ]
     },
     "execution_count": 5,
     "metadata": {},
     "output_type": "execute_result"
    }
   ],
   "source": [
    "len(gdf_df1.columns)"
   ]
  },
  {
   "cell_type": "code",
   "execution_count": 9,
   "metadata": {},
   "outputs": [
    {
     "data": {
      "text/plain": [
       "7"
      ]
     },
     "execution_count": 9,
     "metadata": {},
     "output_type": "execute_result"
    }
   ],
   "source": [
    "len(gdf_df.columns)"
   ]
  },
  {
   "cell_type": "code",
   "execution_count": 11,
   "metadata": {},
   "outputs": [
    {
     "name": "stderr",
     "output_type": "stream",
     "text": [
      "/conda/envs/gdf/lib/python3.6/site-packages/numba/cuda/compiler.py:236: UserWarning: Could not autotune, using default tpb of 128\n",
      "  warnings.warn('Could not autotune, using default tpb of 128')\n",
      "/conda/envs/gdf/lib/python3.6/site-packages/numba/cuda/compiler.py:236: UserWarning: Could not autotune, using default tpb of 128\n",
      "  warnings.warn('Could not autotune, using default tpb of 128')\n",
      "/conda/envs/gdf/lib/python3.6/site-packages/numba/cuda/compiler.py:236: UserWarning: Could not autotune, using default tpb of 128\n",
      "  warnings.warn('Could not autotune, using default tpb of 128')\n",
      "/conda/envs/gdf/lib/python3.6/site-packages/numba/cuda/compiler.py:236: UserWarning: Could not autotune, using default tpb of 128\n",
      "  warnings.warn('Could not autotune, using default tpb of 128')\n",
      "/conda/envs/gdf/lib/python3.6/site-packages/numba/cuda/compiler.py:236: UserWarning: Could not autotune, using default tpb of 128\n",
      "  warnings.warn('Could not autotune, using default tpb of 128')\n",
      "/conda/envs/gdf/lib/python3.6/site-packages/numba/cuda/compiler.py:236: UserWarning: Could not autotune, using default tpb of 128\n",
      "  warnings.warn('Could not autotune, using default tpb of 128')\n",
      "/conda/envs/gdf/lib/python3.6/site-packages/numba/cuda/compiler.py:236: UserWarning: Could not autotune, using default tpb of 128\n",
      "  warnings.warn('Could not autotune, using default tpb of 128')\n",
      "/conda/envs/gdf/lib/python3.6/site-packages/numba/cuda/compiler.py:236: UserWarning: Could not autotune, using default tpb of 128\n",
      "  warnings.warn('Could not autotune, using default tpb of 128')\n"
     ]
    },
    {
     "data": {
      "text/plain": [
       "  sourceid dstid  hod mean_travel_time standard_deviation_travel_time geometric_mean_travel_time geometric_standard_deviation_travel_time\n",
       "2112     90.0 233.0 17.0           169.55                         173.29                     104.93                                      3.0\n",
       "3502     78.0 965.0 17.0           132.61                         113.72                      90.51                                     2.63\n",
       "3699    103.0  61.0 17.0           163.01                         193.34                     117.64                                     2.11\n",
       "5682    103.0 472.0 17.0            97.06                         122.24                      68.36                                     2.11\n",
       "5836    109.0 481.0 17.0           198.19                          128.6                     168.64                                     1.81"
      ]
     },
     "execution_count": 11,
     "metadata": {},
     "output_type": "execute_result"
    }
   ],
   "source": [
    "gdf_df.query(\"hod == 17.0 and mean_travel_time<200\").head()"
   ]
  },
  {
   "cell_type": "code",
   "execution_count": 10,
   "metadata": {},
   "outputs": [
    {
     "data": {
      "text/html": [
       "<div>\n",
       "<style scoped>\n",
       "    .dataframe tbody tr th:only-of-type {\n",
       "        vertical-align: middle;\n",
       "    }\n",
       "\n",
       "    .dataframe tbody tr th {\n",
       "        vertical-align: top;\n",
       "    }\n",
       "\n",
       "    .dataframe thead th {\n",
       "        text-align: right;\n",
       "    }\n",
       "</style>\n",
       "<table border=\"1\" class=\"dataframe\">\n",
       "  <thead>\n",
       "    <tr style=\"text-align: right;\">\n",
       "      <th></th>\n",
       "      <th>sourceid</th>\n",
       "      <th>dstid</th>\n",
       "      <th>hod</th>\n",
       "      <th>mean_travel_time</th>\n",
       "      <th>standard_deviation_travel_time</th>\n",
       "      <th>geometric_mean_travel_time</th>\n",
       "      <th>geometric_standard_deviation_travel_time</th>\n",
       "    </tr>\n",
       "  </thead>\n",
       "  <tbody>\n",
       "    <tr>\n",
       "      <th>0</th>\n",
       "      <td>6.0</td>\n",
       "      <td>5.0</td>\n",
       "      <td>17.0</td>\n",
       "      <td>2917.179932</td>\n",
       "      <td>790.280029</td>\n",
       "      <td>2810.979980</td>\n",
       "      <td>1.32</td>\n",
       "    </tr>\n",
       "    <tr>\n",
       "      <th>1</th>\n",
       "      <td>3.0</td>\n",
       "      <td>38.0</td>\n",
       "      <td>20.0</td>\n",
       "      <td>339.739990</td>\n",
       "      <td>254.410004</td>\n",
       "      <td>287.540009</td>\n",
       "      <td>1.67</td>\n",
       "    </tr>\n",
       "    <tr>\n",
       "      <th>2</th>\n",
       "      <td>2.0</td>\n",
       "      <td>61.0</td>\n",
       "      <td>7.0</td>\n",
       "      <td>1443.359985</td>\n",
       "      <td>374.619995</td>\n",
       "      <td>1397.729980</td>\n",
       "      <td>1.29</td>\n",
       "    </tr>\n",
       "    <tr>\n",
       "      <th>3</th>\n",
       "      <td>7.0</td>\n",
       "      <td>25.0</td>\n",
       "      <td>2.0</td>\n",
       "      <td>152.000000</td>\n",
       "      <td>180.399994</td>\n",
       "      <td>95.339996</td>\n",
       "      <td>2.61</td>\n",
       "    </tr>\n",
       "    <tr>\n",
       "      <th>4</th>\n",
       "      <td>2.0</td>\n",
       "      <td>79.0</td>\n",
       "      <td>22.0</td>\n",
       "      <td>2320.409912</td>\n",
       "      <td>324.850006</td>\n",
       "      <td>2299.219971</td>\n",
       "      <td>1.14</td>\n",
       "    </tr>\n",
       "    <tr>\n",
       "      <th>5</th>\n",
       "      <td>3.0</td>\n",
       "      <td>74.0</td>\n",
       "      <td>8.0</td>\n",
       "      <td>1277.439941</td>\n",
       "      <td>340.929993</td>\n",
       "      <td>1237.900024</td>\n",
       "      <td>1.28</td>\n",
       "    </tr>\n",
       "    <tr>\n",
       "      <th>6</th>\n",
       "      <td>2.0</td>\n",
       "      <td>86.0</td>\n",
       "      <td>18.0</td>\n",
       "      <td>1586.910034</td>\n",
       "      <td>484.640015</td>\n",
       "      <td>1515.319946</td>\n",
       "      <td>1.36</td>\n",
       "    </tr>\n",
       "    <tr>\n",
       "      <th>7</th>\n",
       "      <td>2.0</td>\n",
       "      <td>87.0</td>\n",
       "      <td>23.0</td>\n",
       "      <td>832.820007</td>\n",
       "      <td>275.420013</td>\n",
       "      <td>794.599976</td>\n",
       "      <td>1.35</td>\n",
       "    </tr>\n",
       "    <tr>\n",
       "      <th>8</th>\n",
       "      <td>8.0</td>\n",
       "      <td>27.0</td>\n",
       "      <td>23.0</td>\n",
       "      <td>1036.000000</td>\n",
       "      <td>253.059998</td>\n",
       "      <td>1012.039978</td>\n",
       "      <td>1.23</td>\n",
       "    </tr>\n",
       "    <tr>\n",
       "      <th>9</th>\n",
       "      <td>2.0</td>\n",
       "      <td>91.0</td>\n",
       "      <td>4.0</td>\n",
       "      <td>567.770020</td>\n",
       "      <td>324.279999</td>\n",
       "      <td>498.730011</td>\n",
       "      <td>1.67</td>\n",
       "    </tr>\n",
       "    <tr>\n",
       "      <th>10</th>\n",
       "      <td>9.0</td>\n",
       "      <td>21.0</td>\n",
       "      <td>4.0</td>\n",
       "      <td>641.859985</td>\n",
       "      <td>210.600006</td>\n",
       "      <td>613.359985</td>\n",
       "      <td>1.34</td>\n",
       "    </tr>\n",
       "    <tr>\n",
       "      <th>11</th>\n",
       "      <td>3.0</td>\n",
       "      <td>88.0</td>\n",
       "      <td>3.0</td>\n",
       "      <td>684.309998</td>\n",
       "      <td>209.320007</td>\n",
       "      <td>629.150024</td>\n",
       "      <td>1.68</td>\n",
       "    </tr>\n",
       "    <tr>\n",
       "      <th>12</th>\n",
       "      <td>9.0</td>\n",
       "      <td>30.0</td>\n",
       "      <td>10.0</td>\n",
       "      <td>1714.829956</td>\n",
       "      <td>170.089996</td>\n",
       "      <td>1706.780029</td>\n",
       "      <td>1.10</td>\n",
       "    </tr>\n",
       "    <tr>\n",
       "      <th>13</th>\n",
       "      <td>3.0</td>\n",
       "      <td>91.0</td>\n",
       "      <td>15.0</td>\n",
       "      <td>2555.500000</td>\n",
       "      <td>382.769989</td>\n",
       "      <td>2528.729980</td>\n",
       "      <td>1.15</td>\n",
       "    </tr>\n",
       "    <tr>\n",
       "      <th>14</th>\n",
       "      <td>8.0</td>\n",
       "      <td>46.0</td>\n",
       "      <td>4.0</td>\n",
       "      <td>2398.949951</td>\n",
       "      <td>308.829987</td>\n",
       "      <td>2382.959961</td>\n",
       "      <td>1.12</td>\n",
       "    </tr>\n",
       "    <tr>\n",
       "      <th>15</th>\n",
       "      <td>6.0</td>\n",
       "      <td>73.0</td>\n",
       "      <td>0.0</td>\n",
       "      <td>917.030029</td>\n",
       "      <td>735.020020</td>\n",
       "      <td>767.320007</td>\n",
       "      <td>1.70</td>\n",
       "    </tr>\n",
       "    <tr>\n",
       "      <th>16</th>\n",
       "      <td>9.0</td>\n",
       "      <td>44.0</td>\n",
       "      <td>5.0</td>\n",
       "      <td>896.590027</td>\n",
       "      <td>245.490005</td>\n",
       "      <td>862.349976</td>\n",
       "      <td>1.33</td>\n",
       "    </tr>\n",
       "    <tr>\n",
       "      <th>17</th>\n",
       "      <td>9.0</td>\n",
       "      <td>46.0</td>\n",
       "      <td>15.0</td>\n",
       "      <td>2065.830078</td>\n",
       "      <td>930.130005</td>\n",
       "      <td>1892.939941</td>\n",
       "      <td>1.50</td>\n",
       "    </tr>\n",
       "    <tr>\n",
       "      <th>18</th>\n",
       "      <td>7.0</td>\n",
       "      <td>73.0</td>\n",
       "      <td>11.0</td>\n",
       "      <td>417.670013</td>\n",
       "      <td>136.169998</td>\n",
       "      <td>398.220001</td>\n",
       "      <td>1.36</td>\n",
       "    </tr>\n",
       "    <tr>\n",
       "      <th>19</th>\n",
       "      <td>9.0</td>\n",
       "      <td>58.0</td>\n",
       "      <td>0.0</td>\n",
       "      <td>1621.390015</td>\n",
       "      <td>909.669983</td>\n",
       "      <td>1467.040039</td>\n",
       "      <td>1.50</td>\n",
       "    </tr>\n",
       "    <tr>\n",
       "      <th>20</th>\n",
       "      <td>9.0</td>\n",
       "      <td>60.0</td>\n",
       "      <td>7.0</td>\n",
       "      <td>2666.709961</td>\n",
       "      <td>472.769989</td>\n",
       "      <td>2624.159912</td>\n",
       "      <td>1.20</td>\n",
       "    </tr>\n",
       "    <tr>\n",
       "      <th>21</th>\n",
       "      <td>6.0</td>\n",
       "      <td>92.0</td>\n",
       "      <td>17.0</td>\n",
       "      <td>2020.290039</td>\n",
       "      <td>483.649994</td>\n",
       "      <td>1967.640015</td>\n",
       "      <td>1.25</td>\n",
       "    </tr>\n",
       "    <tr>\n",
       "      <th>22</th>\n",
       "      <td>6.0</td>\n",
       "      <td>93.0</td>\n",
       "      <td>22.0</td>\n",
       "      <td>1088.239990</td>\n",
       "      <td>346.660004</td>\n",
       "      <td>1051.810059</td>\n",
       "      <td>1.27</td>\n",
       "    </tr>\n",
       "    <tr>\n",
       "      <th>23</th>\n",
       "      <td>8.0</td>\n",
       "      <td>76.0</td>\n",
       "      <td>1.0</td>\n",
       "      <td>522.200012</td>\n",
       "      <td>226.389999</td>\n",
       "      <td>483.260010</td>\n",
       "      <td>1.46</td>\n",
       "    </tr>\n",
       "    <tr>\n",
       "      <th>24</th>\n",
       "      <td>7.0</td>\n",
       "      <td>94.0</td>\n",
       "      <td>2.0</td>\n",
       "      <td>1154.270020</td>\n",
       "      <td>211.750000</td>\n",
       "      <td>1137.489990</td>\n",
       "      <td>1.18</td>\n",
       "    </tr>\n",
       "    <tr>\n",
       "      <th>25</th>\n",
       "      <td>9.0</td>\n",
       "      <td>78.0</td>\n",
       "      <td>22.0</td>\n",
       "      <td>1156.939941</td>\n",
       "      <td>251.949997</td>\n",
       "      <td>1129.479980</td>\n",
       "      <td>1.25</td>\n",
       "    </tr>\n",
       "    <tr>\n",
       "      <th>26</th>\n",
       "      <td>9.0</td>\n",
       "      <td>82.0</td>\n",
       "      <td>3.0</td>\n",
       "      <td>557.469971</td>\n",
       "      <td>213.860001</td>\n",
       "      <td>525.729980</td>\n",
       "      <td>1.39</td>\n",
       "    </tr>\n",
       "    <tr>\n",
       "      <th>27</th>\n",
       "      <td>9.0</td>\n",
       "      <td>90.0</td>\n",
       "      <td>4.0</td>\n",
       "      <td>1330.890015</td>\n",
       "      <td>328.510010</td>\n",
       "      <td>1294.079956</td>\n",
       "      <td>1.26</td>\n",
       "    </tr>\n",
       "    <tr>\n",
       "      <th>28</th>\n",
       "      <td>9.0</td>\n",
       "      <td>91.0</td>\n",
       "      <td>9.0</td>\n",
       "      <td>2359.479980</td>\n",
       "      <td>559.640015</td>\n",
       "      <td>2294.610107</td>\n",
       "      <td>1.27</td>\n",
       "    </tr>\n",
       "    <tr>\n",
       "      <th>29</th>\n",
       "      <td>9.0</td>\n",
       "      <td>98.0</td>\n",
       "      <td>8.0</td>\n",
       "      <td>1340.300049</td>\n",
       "      <td>412.940002</td>\n",
       "      <td>1284.619995</td>\n",
       "      <td>1.33</td>\n",
       "    </tr>\n",
       "    <tr>\n",
       "      <th>...</th>\n",
       "      <td>...</td>\n",
       "      <td>...</td>\n",
       "      <td>...</td>\n",
       "      <td>...</td>\n",
       "      <td>...</td>\n",
       "      <td>...</td>\n",
       "      <td>...</td>\n",
       "    </tr>\n",
       "    <tr>\n",
       "      <th>170</th>\n",
       "      <td>39.0</td>\n",
       "      <td>98.0</td>\n",
       "      <td>11.0</td>\n",
       "      <td>1741.380005</td>\n",
       "      <td>292.329987</td>\n",
       "      <td>1720.260010</td>\n",
       "      <td>1.16</td>\n",
       "    </tr>\n",
       "    <tr>\n",
       "      <th>171</th>\n",
       "      <td>57.0</td>\n",
       "      <td>7.0</td>\n",
       "      <td>3.0</td>\n",
       "      <td>1797.000000</td>\n",
       "      <td>166.699997</td>\n",
       "      <td>1788.170044</td>\n",
       "      <td>1.11</td>\n",
       "    </tr>\n",
       "    <tr>\n",
       "      <th>172</th>\n",
       "      <td>40.0</td>\n",
       "      <td>23.0</td>\n",
       "      <td>7.0</td>\n",
       "      <td>261.709991</td>\n",
       "      <td>313.670013</td>\n",
       "      <td>138.899994</td>\n",
       "      <td>3.20</td>\n",
       "    </tr>\n",
       "    <tr>\n",
       "      <th>173</th>\n",
       "      <td>40.0</td>\n",
       "      <td>24.0</td>\n",
       "      <td>12.0</td>\n",
       "      <td>451.149994</td>\n",
       "      <td>376.309998</td>\n",
       "      <td>311.910004</td>\n",
       "      <td>2.52</td>\n",
       "    </tr>\n",
       "    <tr>\n",
       "      <th>174</th>\n",
       "      <td>40.0</td>\n",
       "      <td>25.0</td>\n",
       "      <td>17.0</td>\n",
       "      <td>991.830017</td>\n",
       "      <td>186.589996</td>\n",
       "      <td>974.830017</td>\n",
       "      <td>1.20</td>\n",
       "    </tr>\n",
       "    <tr>\n",
       "      <th>175</th>\n",
       "      <td>42.0</td>\n",
       "      <td>11.0</td>\n",
       "      <td>8.0</td>\n",
       "      <td>301.480011</td>\n",
       "      <td>289.619995</td>\n",
       "      <td>236.860001</td>\n",
       "      <td>1.82</td>\n",
       "    </tr>\n",
       "    <tr>\n",
       "      <th>176</th>\n",
       "      <td>2.0</td>\n",
       "      <td>433.0</td>\n",
       "      <td>4.0</td>\n",
       "      <td>868.210022</td>\n",
       "      <td>365.170013</td>\n",
       "      <td>806.039978</td>\n",
       "      <td>1.45</td>\n",
       "    </tr>\n",
       "    <tr>\n",
       "      <th>177</th>\n",
       "      <td>6.0</td>\n",
       "      <td>400.0</td>\n",
       "      <td>0.0</td>\n",
       "      <td>1141.500000</td>\n",
       "      <td>444.170013</td>\n",
       "      <td>1062.560059</td>\n",
       "      <td>1.45</td>\n",
       "    </tr>\n",
       "    <tr>\n",
       "      <th>178</th>\n",
       "      <td>44.0</td>\n",
       "      <td>20.0</td>\n",
       "      <td>0.0</td>\n",
       "      <td>1061.270020</td>\n",
       "      <td>449.790009</td>\n",
       "      <td>983.770020</td>\n",
       "      <td>1.46</td>\n",
       "    </tr>\n",
       "    <tr>\n",
       "      <th>179</th>\n",
       "      <td>43.0</td>\n",
       "      <td>31.0</td>\n",
       "      <td>5.0</td>\n",
       "      <td>950.530029</td>\n",
       "      <td>358.399994</td>\n",
       "      <td>898.169983</td>\n",
       "      <td>1.38</td>\n",
       "    </tr>\n",
       "    <tr>\n",
       "      <th>180</th>\n",
       "      <td>7.0</td>\n",
       "      <td>400.0</td>\n",
       "      <td>11.0</td>\n",
       "      <td>808.000000</td>\n",
       "      <td>374.299988</td>\n",
       "      <td>740.590027</td>\n",
       "      <td>1.49</td>\n",
       "    </tr>\n",
       "    <tr>\n",
       "      <th>181</th>\n",
       "      <td>43.0</td>\n",
       "      <td>46.0</td>\n",
       "      <td>5.0</td>\n",
       "      <td>1485.000000</td>\n",
       "      <td>357.420013</td>\n",
       "      <td>1440.229980</td>\n",
       "      <td>1.29</td>\n",
       "    </tr>\n",
       "    <tr>\n",
       "      <th>182</th>\n",
       "      <td>46.0</td>\n",
       "      <td>20.0</td>\n",
       "      <td>22.0</td>\n",
       "      <td>1122.479980</td>\n",
       "      <td>233.990005</td>\n",
       "      <td>1101.209961</td>\n",
       "      <td>1.21</td>\n",
       "    </tr>\n",
       "    <tr>\n",
       "      <th>183</th>\n",
       "      <td>8.0</td>\n",
       "      <td>403.0</td>\n",
       "      <td>1.0</td>\n",
       "      <td>1090.670044</td>\n",
       "      <td>283.040009</td>\n",
       "      <td>1066.790039</td>\n",
       "      <td>1.21</td>\n",
       "    </tr>\n",
       "    <tr>\n",
       "      <th>184</th>\n",
       "      <td>43.0</td>\n",
       "      <td>56.0</td>\n",
       "      <td>16.0</td>\n",
       "      <td>254.869995</td>\n",
       "      <td>274.489990</td>\n",
       "      <td>177.449997</td>\n",
       "      <td>2.35</td>\n",
       "    </tr>\n",
       "    <tr>\n",
       "      <th>185</th>\n",
       "      <td>44.0</td>\n",
       "      <td>46.0</td>\n",
       "      <td>16.0</td>\n",
       "      <td>2383.000000</td>\n",
       "      <td>979.539978</td>\n",
       "      <td>2174.979980</td>\n",
       "      <td>1.56</td>\n",
       "    </tr>\n",
       "    <tr>\n",
       "      <th>186</th>\n",
       "      <td>43.0</td>\n",
       "      <td>57.0</td>\n",
       "      <td>21.0</td>\n",
       "      <td>570.510010</td>\n",
       "      <td>256.850006</td>\n",
       "      <td>523.150024</td>\n",
       "      <td>1.50</td>\n",
       "    </tr>\n",
       "    <tr>\n",
       "      <th>187</th>\n",
       "      <td>46.0</td>\n",
       "      <td>31.0</td>\n",
       "      <td>2.0</td>\n",
       "      <td>627.000000</td>\n",
       "      <td>164.880005</td>\n",
       "      <td>606.390015</td>\n",
       "      <td>1.29</td>\n",
       "    </tr>\n",
       "    <tr>\n",
       "      <th>188</th>\n",
       "      <td>2.0</td>\n",
       "      <td>472.0</td>\n",
       "      <td>7.0</td>\n",
       "      <td>1783.920044</td>\n",
       "      <td>473.779999</td>\n",
       "      <td>1719.869995</td>\n",
       "      <td>1.32</td>\n",
       "    </tr>\n",
       "    <tr>\n",
       "      <th>189</th>\n",
       "      <td>9.0</td>\n",
       "      <td>403.0</td>\n",
       "      <td>12.0</td>\n",
       "      <td>1933.430054</td>\n",
       "      <td>260.850006</td>\n",
       "      <td>1917.119995</td>\n",
       "      <td>1.14</td>\n",
       "    </tr>\n",
       "    <tr>\n",
       "      <th>190</th>\n",
       "      <td>42.0</td>\n",
       "      <td>73.0</td>\n",
       "      <td>12.0</td>\n",
       "      <td>2535.939941</td>\n",
       "      <td>444.480011</td>\n",
       "      <td>2506.689941</td>\n",
       "      <td>1.15</td>\n",
       "    </tr>\n",
       "    <tr>\n",
       "      <th>191</th>\n",
       "      <td>9.0</td>\n",
       "      <td>408.0</td>\n",
       "      <td>1.0</td>\n",
       "      <td>1359.400024</td>\n",
       "      <td>399.390015</td>\n",
       "      <td>1306.839966</td>\n",
       "      <td>1.32</td>\n",
       "    </tr>\n",
       "    <tr>\n",
       "      <th>192</th>\n",
       "      <td>47.0</td>\n",
       "      <td>30.0</td>\n",
       "      <td>8.0</td>\n",
       "      <td>1649.040039</td>\n",
       "      <td>339.970001</td>\n",
       "      <td>1610.209961</td>\n",
       "      <td>1.25</td>\n",
       "    </tr>\n",
       "    <tr>\n",
       "      <th>193</th>\n",
       "      <td>5.0</td>\n",
       "      <td>451.0</td>\n",
       "      <td>13.0</td>\n",
       "      <td>232.330002</td>\n",
       "      <td>35.980000</td>\n",
       "      <td>229.699997</td>\n",
       "      <td>1.16</td>\n",
       "    </tr>\n",
       "    <tr>\n",
       "      <th>194</th>\n",
       "      <td>8.0</td>\n",
       "      <td>423.0</td>\n",
       "      <td>23.0</td>\n",
       "      <td>1155.000000</td>\n",
       "      <td>86.419998</td>\n",
       "      <td>1151.920044</td>\n",
       "      <td>1.07</td>\n",
       "    </tr>\n",
       "    <tr>\n",
       "      <th>195</th>\n",
       "      <td>9.0</td>\n",
       "      <td>416.0</td>\n",
       "      <td>2.0</td>\n",
       "      <td>1933.780029</td>\n",
       "      <td>446.929993</td>\n",
       "      <td>1898.859985</td>\n",
       "      <td>1.19</td>\n",
       "    </tr>\n",
       "    <tr>\n",
       "      <th>196</th>\n",
       "      <td>9.0</td>\n",
       "      <td>417.0</td>\n",
       "      <td>7.0</td>\n",
       "      <td>1172.670044</td>\n",
       "      <td>107.209999</td>\n",
       "      <td>1167.329956</td>\n",
       "      <td>1.10</td>\n",
       "    </tr>\n",
       "    <tr>\n",
       "      <th>197</th>\n",
       "      <td>46.0</td>\n",
       "      <td>47.0</td>\n",
       "      <td>7.0</td>\n",
       "      <td>1382.670044</td>\n",
       "      <td>504.130005</td>\n",
       "      <td>1292.119995</td>\n",
       "      <td>1.45</td>\n",
       "    </tr>\n",
       "    <tr>\n",
       "      <th>198</th>\n",
       "      <td>41.0</td>\n",
       "      <td>98.0</td>\n",
       "      <td>12.0</td>\n",
       "      <td>1827.310059</td>\n",
       "      <td>349.890015</td>\n",
       "      <td>1794.969971</td>\n",
       "      <td>1.21</td>\n",
       "    </tr>\n",
       "    <tr>\n",
       "      <th>199</th>\n",
       "      <td>47.0</td>\n",
       "      <td>46.0</td>\n",
       "      <td>13.0</td>\n",
       "      <td>1600.290039</td>\n",
       "      <td>571.619995</td>\n",
       "      <td>1510.280029</td>\n",
       "      <td>1.40</td>\n",
       "    </tr>\n",
       "  </tbody>\n",
       "</table>\n",
       "<p>200 rows × 7 columns</p>\n",
       "</div>"
      ],
      "text/plain": [
       "     sourceid                    ...                     geometric_standard_deviation_travel_time\n",
       "0         6.0                    ...                                                         1.32\n",
       "1         3.0                    ...                                                         1.67\n",
       "2         2.0                    ...                                                         1.29\n",
       "3         7.0                    ...                                                         2.61\n",
       "4         2.0                    ...                                                         1.14\n",
       "5         3.0                    ...                                                         1.28\n",
       "6         2.0                    ...                                                         1.36\n",
       "7         2.0                    ...                                                         1.35\n",
       "8         8.0                    ...                                                         1.23\n",
       "9         2.0                    ...                                                         1.67\n",
       "10        9.0                    ...                                                         1.34\n",
       "11        3.0                    ...                                                         1.68\n",
       "12        9.0                    ...                                                         1.10\n",
       "13        3.0                    ...                                                         1.15\n",
       "14        8.0                    ...                                                         1.12\n",
       "15        6.0                    ...                                                         1.70\n",
       "16        9.0                    ...                                                         1.33\n",
       "17        9.0                    ...                                                         1.50\n",
       "18        7.0                    ...                                                         1.36\n",
       "19        9.0                    ...                                                         1.50\n",
       "20        9.0                    ...                                                         1.20\n",
       "21        6.0                    ...                                                         1.25\n",
       "22        6.0                    ...                                                         1.27\n",
       "23        8.0                    ...                                                         1.46\n",
       "24        7.0                    ...                                                         1.18\n",
       "25        9.0                    ...                                                         1.25\n",
       "26        9.0                    ...                                                         1.39\n",
       "27        9.0                    ...                                                         1.26\n",
       "28        9.0                    ...                                                         1.27\n",
       "29        9.0                    ...                                                         1.33\n",
       "..        ...                    ...                                                          ...\n",
       "170      39.0                    ...                                                         1.16\n",
       "171      57.0                    ...                                                         1.11\n",
       "172      40.0                    ...                                                         3.20\n",
       "173      40.0                    ...                                                         2.52\n",
       "174      40.0                    ...                                                         1.20\n",
       "175      42.0                    ...                                                         1.82\n",
       "176       2.0                    ...                                                         1.45\n",
       "177       6.0                    ...                                                         1.45\n",
       "178      44.0                    ...                                                         1.46\n",
       "179      43.0                    ...                                                         1.38\n",
       "180       7.0                    ...                                                         1.49\n",
       "181      43.0                    ...                                                         1.29\n",
       "182      46.0                    ...                                                         1.21\n",
       "183       8.0                    ...                                                         1.21\n",
       "184      43.0                    ...                                                         2.35\n",
       "185      44.0                    ...                                                         1.56\n",
       "186      43.0                    ...                                                         1.50\n",
       "187      46.0                    ...                                                         1.29\n",
       "188       2.0                    ...                                                         1.32\n",
       "189       9.0                    ...                                                         1.14\n",
       "190      42.0                    ...                                                         1.15\n",
       "191       9.0                    ...                                                         1.32\n",
       "192      47.0                    ...                                                         1.25\n",
       "193       5.0                    ...                                                         1.16\n",
       "194       8.0                    ...                                                         1.07\n",
       "195       9.0                    ...                                                         1.19\n",
       "196       9.0                    ...                                                         1.10\n",
       "197      46.0                    ...                                                         1.45\n",
       "198      41.0                    ...                                                         1.21\n",
       "199      47.0                    ...                                                         1.40\n",
       "\n",
       "[200 rows x 7 columns]"
      ]
     },
     "execution_count": 10,
     "metadata": {},
     "output_type": "execute_result"
    }
   ],
   "source": [
    "gdf_df.loc[0:200].to_pandas().head(200)"
   ]
  },
  {
   "cell_type": "code",
   "execution_count": 12,
   "metadata": {},
   "outputs": [],
   "source": [
    "a = 'A'\n",
    "b= 'B'"
   ]
  },
  {
   "cell_type": "code",
   "execution_count": 16,
   "metadata": {},
   "outputs": [
    {
     "data": {
      "text/plain": [
       "'(1.0, 1.0)'"
      ]
     },
     "execution_count": 16,
     "metadata": {},
     "output_type": "execute_result"
    }
   ],
   "source": [
    "str((gdf_df[a].min(),gdf_df[b].min()))"
   ]
  },
  {
   "cell_type": "code",
   "execution_count": 14,
   "metadata": {},
   "outputs": [
    {
     "name": "stderr",
     "output_type": "stream",
     "text": [
      "/conda/envs/gdf/lib/python3.6/site-packages/numba/cuda/compiler.py:236: UserWarning: Could not autotune, using default tpb of 128\n",
      "  warnings.warn('Could not autotune, using default tpb of 128')\n"
     ]
    }
   ],
   "source": [
    "abcd = gdf_df.nlargest(5,['A']).to_pandas().to_dict()"
   ]
  },
  {
   "cell_type": "code",
   "execution_count": 15,
   "metadata": {},
   "outputs": [],
   "source": [
    "dict = {}\n",
    "for i in abcd:\n",
    "    dict[i] = list(abcd[i].values())"
   ]
  },
  {
   "cell_type": "code",
   "execution_count": 16,
   "metadata": {},
   "outputs": [
    {
     "data": {
      "text/plain": [
       "'{\"A\": [999.0, 999.0, 999.0, 999.0, 999.0], \"B\": [599.0, 777.0, 749.0, 929.0, 459.0]}'"
      ]
     },
     "execution_count": 16,
     "metadata": {},
     "output_type": "execute_result"
    }
   ],
   "source": [
    "json.dumps(dict)"
   ]
  },
  {
   "cell_type": "code",
   "execution_count": 50,
   "metadata": {},
   "outputs": [],
   "source": [
    "temp_reader = pa.RecordBatchFileReader(\"node-server/uploads/uber-dataset.arrow\")"
   ]
  },
  {
   "cell_type": "code",
   "execution_count": 51,
   "metadata": {},
   "outputs": [
    {
     "name": "stdout",
     "output_type": "stream",
     "text": [
      "1\n"
     ]
    }
   ],
   "source": [
    "print(temp_reader.num_record_batches)\n",
    "batch = temp_reader.get_record_batch(0)"
   ]
  },
  {
   "cell_type": "code",
   "execution_count": 53,
   "metadata": {},
   "outputs": [
    {
     "data": {
      "text/plain": [
       "<pyarrow.lib.Buffer at 0x7f60e92b21f0>"
      ]
     },
     "execution_count": 53,
     "metadata": {},
     "output_type": "execute_result"
    }
   ],
   "source": [
    "batch.serialize()"
   ]
  },
  {
   "cell_type": "code",
   "execution_count": null,
   "metadata": {},
   "outputs": [],
   "source": []
  },
  {
   "cell_type": "code",
   "execution_count": 49,
   "metadata": {},
   "outputs": [],
   "source": [
    "def readArrowToDF(source):\n",
    "    temp_reader = open(source)\n",
    "    print(len(temp_reader))\n",
    "    return temp_reader\n",
    "#     batch = temp_reader.read_all()\n",
    "#     return batch.serialize().to_pybytes(), batch.schema.serialize().to_pybytes()"
   ]
  },
  {
   "cell_type": "code",
   "execution_count": 50,
   "metadata": {},
   "outputs": [
    {
     "name": "stdout",
     "output_type": "stream",
     "text": [
      "1\n"
     ]
    }
   ],
   "source": [
    "# df_buffer,schema_buffer = \n",
    "t = readArrowToDF(\"node-server/uploads/uber-dataset.arrow\")"
   ]
  },
  {
   "cell_type": "code",
   "execution_count": 86,
   "metadata": {},
   "outputs": [],
   "source": [
    "with open(\"node-server/uploads/uber-dataset.arrow\", \"rb\") as f:\n",
    "    byte = f.read()"
   ]
  },
  {
   "cell_type": "code",
   "execution_count": 87,
   "metadata": {},
   "outputs": [
    {
     "data": {
      "text/plain": [
       "368697000"
      ]
     },
     "execution_count": 87,
     "metadata": {},
     "output_type": "execute_result"
    }
   ],
   "source": [
    "len(byte)"
   ]
  },
  {
   "cell_type": "code",
   "execution_count": 61,
   "metadata": {},
   "outputs": [
    {
     "data": {
      "text/plain": [
       "0"
      ]
     },
     "execution_count": 61,
     "metadata": {},
     "output_type": "execute_result"
    }
   ],
   "source": [
    "len(contents)"
   ]
  },
  {
   "cell_type": "code",
   "execution_count": 38,
   "metadata": {},
   "outputs": [],
   "source": [
    "a = pa.BufferReader(df_buffer).read()"
   ]
  },
  {
   "cell_type": "code",
   "execution_count": 40,
   "metadata": {},
   "outputs": [
    {
     "data": {
      "text/plain": [
       "b'\\xdc\\x01\\x00\\x00\\x14\\x00\\x00\\x00\\x00\\x00\\x00\\x00\\x0c\\x00\\x16\\x00\\x06\\x00\\x05\\x00\\x08\\x00\\x0c\\x00\\x0c\\x00\\x00\\x00\\x00\\x03\\x03\\x00\\x18\\x00\\x00\\x00\\xc8\\xdc\\xf9\\x15\\x00\\x00\\x00\\x00\\x00\\x00\\n\\x00\\x18\\x00\\x0c\\x00\\x04\\x00\\x08\\x00\\n\\x00\\x00\\x00\\x1c\\x01\\x00\\x00\\x10\\x00\\x00\\x00\"F\\x9c\\x00\\x00\\x00\\x00\\x00\\x00\\x00\\x00\\x00\\x10\\x00\\x00\\x00\\x00\\x00\\x00\\x00\\x00\\x00\\x00\\x00\\x00\\x00\\x00\\x00\\x00\\x00\\x00'"
      ]
     },
     "execution_count": 40,
     "metadata": {},
     "output_type": "execute_result"
    }
   ],
   "source": [
    "a[:99]"
   ]
  },
  {
   "cell_type": "code",
   "execution_count": 88,
   "metadata": {},
   "outputs": [],
   "source": [
    "df_buffer = byte"
   ]
  },
  {
   "cell_type": "code",
   "execution_count": 89,
   "metadata": {
    "scrolled": false
   },
   "outputs": [
    {
     "data": {
      "text/plain": [
       "b'\\x8c\\x07\\x00\\x00\\x10\\x00\\x00\\x00\\x0c\\x00\\x0e\\x00\\x06\\x00\\x05\\x00\\x08\\x00\\x00\\x00\\x0c\\x00\\x00\\x00\\x00\\x01\\x03\\x00\\x10\\x00\\x00\\x00\\x00\\x00\\n\\x00\\x0c\\x00\\x00\\x00\\x04\\x00\\x08\\x00\\n\\x00\\x00\\x00L\\x05\\x00\\x00\\x04\\x00\\x00\\x00\\x01\\x00\\x00\\x00\\x0c\\x00\\x00\\x00\\x08\\x00\\x0c\\x00\\x04\\x00\\x08\\x00\\x08\\x00\\x00\\x00\\x08\\x00\\x00\\x00\\x10\\x00\\x00\\x00\\x06\\x00\\x00\\x00pandas\\x00\\x00\\x15\\x05\\x00\\x00{\"index_columns\": [\"__index_level_0__\"], \"column_indexes\": [{\"name\": null, \"field_name\": null, \"pandas_type\": \"unicode\", \"numpy_type\": \"object\", \"metadata\": {\"encoding\": \"UTF-8\"}}], \"columns\": [{\"name\": \"sourceid\", \"field_name\": \"sourceid\", \"pandas_type\": \"float32\", \"numpy_type\": \"float32\", \"metadata\": null}, {\"name\": \"dstid\", \"field_name\": \"dstid\", \"pandas_type\": \"float32\", \"numpy_type\": \"float32\", \"metadata\": null}, {\"name\": \"hod\", \"field_name\": \"hod\", \"pandas_type\": \"float32\", \"numpy_type\": \"float32\", \"metadata\": null}, {\"name\": \"mean_travel_time\", \"field_name\": \"mean_travel_time\", \"pandas_type\": \"float32\", \"numpy_type\": \"float32\", \"metadata\": null}, {\"name\": \"standard_deviation_travel_time\", \"field_name\": \"standard_deviation_travel_time\", \"pandas_type\": \"float32\", \"numpy_type\": \"float32\", \"metadata\": null}, {\"name\": \"geometric_mean_travel_time\", \"field_name\": \"geometric_mean_travel_time\", \"pandas_type\": \"float32\", \"numpy_type\": \"float32\", \"metadata\": null}, {\"name\": \"geometric_standard_deviation_travel_time\", \"field_name\": \"geometric_standard_deviation_travel_time\", \"pandas_type\": \"float32\", \"numpy_type\": \"float32\", \"metadata\": null}, {\"name\": null, \"field_name\": \"__index_level_0__\", \"pandas_type\": \"int64\", \"numpy_type\": \"int64\", \"metadata\": null}], \"pandas_version\": \"0.23.3\"}\\x00\\x00\\x00\\x08\\x00\\x00\\x00\\xd4\\x01\\x00\\x00\\x94\\x01\\x00\\x00h\\x01\\x00\\x00,\\x01\\x00\\x00\\xe4\\x00\\x00\\x00\\xa0\\x00\\x00\\x00L\\x00\\x00\\x00\\x04\\x00\\x00\\x00^\\xfe\\xff\\xff\\x00\\x00\\x01\\x02$\\x00\\x00\\x00\\x14\\x00\\x00\\x00\\x04\\x00\\x00\\x00\\x00\\x00\\x00\\x00\\x08\\x00\\x0c\\x00\\x08\\x00\\x07\\x00\\x08\\x00\\x00\\x00\\x00\\x00\\x00\\x01@\\x00\\x00\\x00\\x11\\x00\\x00\\x00__index_level_0__\\x00\\x00\\x00\\xa2\\xfe\\xff\\xff\\x00\\x00\\x01\\x03\\x18\\x00\\x00\\x00\\x0c\\x00\\x00\\x00\\x04\\x00\\x00\\x00\\x00\\x00\\x00\\x00\\x8e\\xfe\\xff\\xff\\x00\\x00\\x01\\x00(\\x00\\x00\\x00geometric_standard_deviation_travel_time\\x00\\x00\\x00\\x00\\xf2\\xfe\\xff\\xff\\x00\\x00\\x01\\x03\\x18\\x00\\x00\\x00\\x0c\\x00\\x00\\x00\\x04\\x00\\x00\\x00\\x00\\x00\\x00\\x00\\xde\\xfe\\xff\\xff\\x00\\x00\\x01\\x00\\x1a\\x00\\x00\\x00geometric_mean_travel_time\\x00\\x002\\xff\\xff\\xff\\x00\\x00\\x01\\x03\\x18\\x00\\x00\\x00\\x0c\\x00\\x00\\x00\\x04\\x00\\x00\\x00\\x00\\x00\\x00\\x00\\x1e\\xff\\xff\\xff\\x00\\x00\\x01\\x00\\x1e\\x00\\x00\\x00standard_deviation_travel_time\\x00\\x00v\\xff\\xff\\xff\\x00\\x00\\x01\\x03\\x18\\x00\\x00\\x00\\x0c\\x00\\x00\\x00\\x04\\x00\\x00\\x00\\x00\\x00\\x00\\x00b\\xff\\xff\\xff\\x00\\x00\\x01\\x00\\x10\\x00\\x00\\x00mean_travel_time\\x00\\x00\\x00\\x00\\xae\\xff\\xff\\xff\\x00\\x00\\x01\\x03\\x18\\x00\\x00\\x00\\x0c\\x00\\x00\\x00\\x04\\x00\\x00\\x00\\x00\\x00\\x00\\x00\\x9a\\xff\\xff\\xff\\x00\\x00\\x01\\x00\\x03\\x00\\x00\\x00hod\\x00\\xd6\\xff\\xff\\xff\\x00\\x00\\x01\\x03\\x18\\x00\\x00\\x00\\x0c\\x00\\x00\\x00\\x04\\x00\\x00\\x00\\x00\\x00\\x00\\x00\\xc2\\xff\\xff\\xff\\x00\\x00\\x01\\x00\\x05\\x00\\x00\\x00dstid\\x00\\x12\\x00\\x14\\x00\\x08\\x00\\x06\\x00\\x07\\x00\\x0c\\x00\\x00\\x00\\x10\\x00\\x00\\x00\\x12\\x00\\x00\\x00\\x00\\x00\\x01\\x03 \\x00\\x00\\x00\\x14\\x00\\x00\\x00\\x04\\x00\\x00\\x00\\x00\\x00\\x00\\x00\\x00\\x00\\x06\\x00\\x08\\x00\\x06\\x00\\x06\\x00\\x00\\x00\\x00\\x00\\x01\\x00\\x08\\x00\\x00\\x00sourceid\\x00\\x00\\x00\\x00\\x00\\x00\\x00\\x00'"
      ]
     },
     "execution_count": 89,
     "metadata": {},
     "output_type": "execute_result"
    }
   ],
   "source": [
    "schema_buffer"
   ]
  },
  {
   "cell_type": "code",
   "execution_count": 90,
   "metadata": {},
   "outputs": [],
   "source": [
    "cpu_schema = np.ndarray(shape=len(schema_buffer), dtype=np.byte,\n",
    "                            buffer=bytearray(schema_buffer))\n",
    "cpu_data = np.ndarray(shape=len(df_buffer), dtype=np.byte,\n",
    "                          buffer=bytearray(df_buffer))\n"
   ]
  },
  {
   "cell_type": "code",
   "execution_count": 7,
   "metadata": {},
   "outputs": [],
   "source": [
    "schema_data = b\"\"\"\\x00\\x01\\x00\\x00\\x10\\x00\\x00\\x00\\x0c\\x00\\x0e\\x00\\x06\\x00\\x05\\x00\\x08\\x00\\x00\\x00\\x0c\\x00\\x00\\x00\\x00\\x01\\x02\\x00\\x10\\x00\\x00\\x00\\x00\\x00\\n\\x00\\x08\\x00\\x00\\x00\\x04\\x00\\x00\\x00\\n\\x00\\x00\\x00\\x04\\x00\\x00\\x00\\x02\\x00\\x00\\x00l\\x00\\x00\\x00\\x04\\x00\\x00\\x00\\xb0\\xff\\xff\\xff\\x00\\x00\\x01\\x038\\x00\\x00\\x00\\x1c\\x00\\x00\\x00\\x14\\x00\\x00\\x00\\x04\\x00\\x00\\x00\\x02\\x00\\x00\\x00\\x1c\\x00\\x00\\x00\\x10\\x00\\x00\\x00\\x00\\x00\\x00\\x00\\x9a\\xff\\xff\\xff\\x00\\x00\\x01\\x00\\x8c\\xff\\xff\\xff \\x00\\x01\\x00\\x94\\xff\\xff\\xff\\x01\\x00\\x02\\x00\\x08\\x00\\x00\\x00dest_lon\\x00\\x00\\x00\\x00\\x14\\x00\\x18\\x00\\x08\\x00\\x06\\x00\\x07\\x00\\x0c\\x00\\x00\\x00\\x10\\x00\\x14\\x00\\x00\\x00\\x14\\x00\\x00\\x00\\x00\\x00\\x01\\x03H\\x00\\x00\\x00$\\x00\\x00\\x00\\x14\\x00\\x00\\x00\\x04\\x00\\x00\\x00\\x02\\x00\\x00\\x00,\\x00\\x00\\x00\\x18\\x00\\x00\\x00\\x00\\x00\\x00\\x00\\x00\\x00\\x06\\x00\\x08\\x00\\x06\\x00\\x06\\x00\\x00\\x00\\x00\\x00\\x01\\x00\\xf8\\xff\\xff\\xff \\x00\\x01\\x00\\x08\\x00\\x08\\x00\\x04\\x00\\x06\\x00\\x08\\x00\\x00\\x00\\x01\\x00\\x02\\x00\\x08\\x00\\x00\\x00dest_lat\\x00\\x00\\x00\\x00\\x00\\x00\\x00\\x00\"\"\"  # noqa: E501\n",
    "recbatch_data = b\"\"\"\\xdc\\x00\\x00\\x00\\x14\\x00\\x00\\x00\\x00\\x00\\x00\\x00\\x0c\\x00\\x16\\x00\\x06\\x00\\x05\\x00\\x08\\x00\\x0c\\x00\\x0c\\x00\\x00\\x00\\x00\\x03\\x02\\x00\\x18\\x00\\x00\\x00\\x00\\x01\\x00\\x00\\x00\\x00\\x00\\x00\\x00\\x00\\n\\x00\\x18\\x00\\x0c\\x00\\x04\\x00\\x08\\x00\\n\\x00\\x00\\x00|\\x00\\x00\\x00\\x10\\x00\\x00\\x00\\x17\\x00\\x00\\x00\\x00\\x00\\x00\\x00\\x00\\x00\\x00\\x00\\x04\\x00\\x00\\x00\\xff\\xff\\xff\\xff\\x00\\x00\\x00\\x00\\x00\\x00\\x00\\x00\\x00\\x00\\x00\\x00\\x00\\x00\\x00\\x00\\x00\\x00\\x00\\x00\\xff\\xff\\xff\\xff\\x00\\x00\\x00\\x00\\x00\\x00\\x00\\x00\\x00\\x00\\x00\\x00\\x80\\x00\\x00\\x00\\x00\\x00\\x00\\x00\\xff\\xff\\xff\\xff\\x00\\x00\\x00\\x00\\x80\\x00\\x00\\x00\\x00\\x00\\x00\\x00\\x00\\x00\\x00\\x00\\x00\\x00\\x00\\x00\\xff\\xff\\xff\\xff\\x00\\x00\\x00\\x00\\x80\\x00\\x00\\x00\\x00\\x00\\x00\\x00\\x80\\x00\\x00\\x00\\x00\\x00\\x00\\x00\\x00\\x00\\x00\\x00\\x02\\x00\\x00\\x00\\x17\\x00\\x00\\x00\\x00\\x00\\x00\\x00\\x00\\x00\\x00\\x00\\x00\\x00\\x00\\x00\\x17\\x00\\x00\\x00\\x00\\x00\\x00\\x00\\x00\\x00\\x00\\x00\\x00\\x00\\x00\\x00\\x00\\x00\\x00\\x00\\xbf0\\x1dB\\xd9$\\'B\\x02E\\xecA\\xd9$\\'B\\xbf0\\x1dB\\x9c\\xb3\\x1cB\\xd1)\\xedAw\\x7f\\x10B\\x02E\\xecArc\\x03B\\x02E\\xecArc\\x03B\\xd9$\\'B\\x93\\xb2\\x18BC\\xf7!B\\xd9$\\'B\\x91\\xa7\\x06Bg\\x8e\\xf1A\\xd9$\\'Bw\\x7f\\x10B]n\\xe3A\\xd9$\\'B\\x02E\\xecA\\x00\\x00\\x00\\x00\\x00\\x00\\x00\\x00\\x00\\x00\\x00\\x00\\x00\\x00\\x00\\x00\\x00\\x00\\x00\\x00\\x00\\x00\\x00\\x00\\x00\\x00\\x00\\x00\\x00\\x00\\x00\\x00\\x00\\x00\\x00\\x00\\x85m\\xbd\\xc2>\\x81\\xaf\\xc2\\x87\\xf0\\xc4\\xc2>\\x81\\xaf\\xc2\\x85m\\xbd\\xc2\\x1eV\\x99\\xc2\\xcb\\x8e\\xbe\\xc2;[\\xad\\xc2\\x87\\xf0\\xc4\\xc2\\x1b\\xb4\\xc1\\xc2\\x87\\xf0\\xc4\\xc2\\x1b\\xb4\\xc1\\xc2>\\x81\\xaf\\xc2\\xd5x\\xab\\xc2;w\\xa0\\xc2>\\x81\\xaf\\xc2C\\xa5\\xcb\\xc2\\xf9V\\xc3\\xc2>\\x81\\xaf\\xc2;[\\xad\\xc2\\xce\\xa1\\xa2\\xc2>\\x81\\xaf\\xc2\\x87\\xf0\\xc4\\xc2\\x00\\x00\\x00\\x00\\x00\\x00\\x00\\x00\\x00\\x00\\x00\\x00\\x00\\x00\\x00\\x00\\x00\\x00\\x00\\x00\\x00\\x00\\x00\\x00\\x00\\x00\\x00\\x00\\x00\\x00\\x00\\x00\\x00\\x00\\x00\\x00\"\"\"  # noqa: E501\n",
    "cpu_schema = np.ndarray(shape=len(schema_data), dtype=np.byte,\n",
    "                            buffer=bytearray(schema_data))\n",
    "cpu_data = np.ndarray(shape=len(recbatch_data), dtype=np.byte,\n",
    "                          buffer=bytearray(recbatch_data))"
   ]
  },
  {
   "cell_type": "code",
   "execution_count": 91,
   "metadata": {},
   "outputs": [],
   "source": [
    "gpu_data = cuda.to_device(cpu_data)"
   ]
  },
  {
   "cell_type": "code",
   "execution_count": 92,
   "metadata": {},
   "outputs": [],
   "source": [
    "del cpu_data"
   ]
  },
  {
   "cell_type": "code",
   "execution_count": 93,
   "metadata": {},
   "outputs": [],
   "source": [
    "reader = GpuArrowReader(cpu_schema,gpu_data)"
   ]
  },
  {
   "cell_type": "code",
   "execution_count": 94,
   "metadata": {},
   "outputs": [],
   "source": [
    "temp_df = reader.to_dict()"
   ]
  },
  {
   "cell_type": "code",
   "execution_count": 95,
   "metadata": {},
   "outputs": [
    {
     "data": {
      "text/plain": [
       "odict_keys(['sourceid', 'dstid', 'hod', 'mean_travel_time', 'standard_deviation_travel_time', 'geometric_mean_travel_time', 'geometric_standard_deviation_travel_time', '__index_level_0__'])"
      ]
     },
     "execution_count": 95,
     "metadata": {},
     "output_type": "execute_result"
    }
   ],
   "source": [
    "temp_df.keys()"
   ]
  },
  {
   "cell_type": "code",
   "execution_count": 102,
   "metadata": {},
   "outputs": [
    {
     "data": {
      "text/plain": [
       "2560392"
      ]
     },
     "execution_count": 102,
     "metadata": {},
     "output_type": "execute_result"
    }
   ],
   "source": [
    "len(temp_df['geometric_standard_deviation_travel_time'])"
   ]
  },
  {
   "cell_type": "code",
   "execution_count": 30,
   "metadata": {},
   "outputs": [
    {
     "name": "stderr",
     "output_type": "stream",
     "text": [
      "/conda/envs/gdf/lib/python3.6/site-packages/numba/cuda/compiler.py:236: UserWarning: Could not autotune, using default tpb of 128\n",
      "  warnings.warn('Could not autotune, using default tpb of 128')\n"
     ]
    },
    {
     "ename": "ValueError",
     "evalue": "Length of values does not match index length",
     "output_type": "error",
     "traceback": [
      "\u001b[0;31m---------------------------------------------------------------------------\u001b[0m",
      "\u001b[0;31mValueError\u001b[0m                                Traceback (most recent call last)",
      "\u001b[0;32m<ipython-input-30-a65779eb5e8c>\u001b[0m in \u001b[0;36m<module>\u001b[0;34m()\u001b[0m\n\u001b[0;32m----> 1\u001b[0;31m \u001b[0mdf\u001b[0m \u001b[0;34m=\u001b[0m \u001b[0mDataFrame\u001b[0m\u001b[0;34m(\u001b[0m\u001b[0mtemp_df\u001b[0m\u001b[0;34m.\u001b[0m\u001b[0mitems\u001b[0m\u001b[0;34m(\u001b[0m\u001b[0;34m)\u001b[0m\u001b[0;34m)\u001b[0m\u001b[0;34m\u001b[0m\u001b[0m\n\u001b[0m",
      "\u001b[0;32m/conda/envs/gdf/lib/python3.6/site-packages/pygdf-0.1.0a2+208.gdff90c7-py3.6.egg/pygdf/dataframe.py\u001b[0m in \u001b[0;36m__init__\u001b[0;34m(self, name_series, index)\u001b[0m\n\u001b[1;32m     88\u001b[0m         \u001b[0;32mif\u001b[0m \u001b[0mname_series\u001b[0m \u001b[0;32mis\u001b[0m \u001b[0;32mnot\u001b[0m \u001b[0;32mNone\u001b[0m\u001b[0;34m:\u001b[0m\u001b[0;34m\u001b[0m\u001b[0m\n\u001b[1;32m     89\u001b[0m             \u001b[0;32mfor\u001b[0m \u001b[0mk\u001b[0m\u001b[0;34m,\u001b[0m \u001b[0mseries\u001b[0m \u001b[0;32min\u001b[0m \u001b[0mname_series\u001b[0m\u001b[0;34m:\u001b[0m\u001b[0;34m\u001b[0m\u001b[0m\n\u001b[0;32m---> 90\u001b[0;31m                 \u001b[0mself\u001b[0m\u001b[0;34m.\u001b[0m\u001b[0madd_column\u001b[0m\u001b[0;34m(\u001b[0m\u001b[0mk\u001b[0m\u001b[0;34m,\u001b[0m \u001b[0mseries\u001b[0m\u001b[0;34m,\u001b[0m \u001b[0mforceindex\u001b[0m\u001b[0;34m=\u001b[0m\u001b[0mindex\u001b[0m \u001b[0;32mis\u001b[0m \u001b[0;32mnot\u001b[0m \u001b[0;32mNone\u001b[0m\u001b[0;34m)\u001b[0m\u001b[0;34m\u001b[0m\u001b[0m\n\u001b[0m\u001b[1;32m     91\u001b[0m \u001b[0;34m\u001b[0m\u001b[0m\n\u001b[1;32m     92\u001b[0m     \u001b[0;32mdef\u001b[0m \u001b[0mserialize\u001b[0m\u001b[0;34m(\u001b[0m\u001b[0mself\u001b[0m\u001b[0;34m,\u001b[0m \u001b[0mserialize\u001b[0m\u001b[0;34m)\u001b[0m\u001b[0;34m:\u001b[0m\u001b[0;34m\u001b[0m\u001b[0m\n",
      "\u001b[0;32m/conda/envs/gdf/lib/python3.6/site-packages/pygdf-0.1.0a2+208.gdff90c7-py3.6.egg/pygdf/dataframe.py\u001b[0m in \u001b[0;36madd_column\u001b[0;34m(self, name, data, forceindex)\u001b[0m\n\u001b[1;32m    397\u001b[0m             \u001b[0;32mraise\u001b[0m \u001b[0mNameError\u001b[0m\u001b[0;34m(\u001b[0m\u001b[0;34m'duplicated column name {!r}'\u001b[0m\u001b[0;34m.\u001b[0m\u001b[0mformat\u001b[0m\u001b[0;34m(\u001b[0m\u001b[0mname\u001b[0m\u001b[0;34m)\u001b[0m\u001b[0;34m)\u001b[0m\u001b[0;34m\u001b[0m\u001b[0m\n\u001b[1;32m    398\u001b[0m \u001b[0;34m\u001b[0m\u001b[0m\n\u001b[0;32m--> 399\u001b[0;31m         \u001b[0mseries\u001b[0m \u001b[0;34m=\u001b[0m \u001b[0mself\u001b[0m\u001b[0;34m.\u001b[0m\u001b[0m_prepare_series_for_add\u001b[0m\u001b[0;34m(\u001b[0m\u001b[0mdata\u001b[0m\u001b[0;34m,\u001b[0m \u001b[0mforceindex\u001b[0m\u001b[0;34m=\u001b[0m\u001b[0mforceindex\u001b[0m\u001b[0;34m)\u001b[0m\u001b[0;34m\u001b[0m\u001b[0m\n\u001b[0m\u001b[1;32m    400\u001b[0m         \u001b[0mself\u001b[0m\u001b[0;34m.\u001b[0m\u001b[0m_cols\u001b[0m\u001b[0;34m[\u001b[0m\u001b[0mname\u001b[0m\u001b[0;34m]\u001b[0m \u001b[0;34m=\u001b[0m \u001b[0mseries\u001b[0m\u001b[0;34m\u001b[0m\u001b[0m\n\u001b[1;32m    401\u001b[0m \u001b[0;34m\u001b[0m\u001b[0m\n",
      "\u001b[0;32m/conda/envs/gdf/lib/python3.6/site-packages/pygdf-0.1.0a2+208.gdff90c7-py3.6.egg/pygdf/dataframe.py\u001b[0m in \u001b[0;36m_prepare_series_for_add\u001b[0;34m(self, col, forceindex)\u001b[0m\n\u001b[1;32m    372\u001b[0m         \u001b[0mThe\u001b[0m \u001b[0mprepared\u001b[0m \u001b[0mSeries\u001b[0m \u001b[0mobject\u001b[0m\u001b[0;34m.\u001b[0m\u001b[0;34m\u001b[0m\u001b[0m\n\u001b[1;32m    373\u001b[0m         \"\"\"\n\u001b[0;32m--> 374\u001b[0;31m         \u001b[0mcol\u001b[0m \u001b[0;34m=\u001b[0m \u001b[0mself\u001b[0m\u001b[0;34m.\u001b[0m\u001b[0m_sanitize_columns\u001b[0m\u001b[0;34m(\u001b[0m\u001b[0mcol\u001b[0m\u001b[0;34m)\u001b[0m\u001b[0;34m\u001b[0m\u001b[0m\n\u001b[0m\u001b[1;32m    375\u001b[0m         \u001b[0mempty_index\u001b[0m \u001b[0;34m=\u001b[0m \u001b[0misinstance\u001b[0m\u001b[0;34m(\u001b[0m\u001b[0mself\u001b[0m\u001b[0;34m.\u001b[0m\u001b[0m_index\u001b[0m\u001b[0;34m,\u001b[0m \u001b[0mEmptyIndex\u001b[0m\u001b[0;34m)\u001b[0m\u001b[0;34m\u001b[0m\u001b[0m\n\u001b[1;32m    376\u001b[0m         \u001b[0mseries\u001b[0m \u001b[0;34m=\u001b[0m \u001b[0mSeries\u001b[0m\u001b[0;34m(\u001b[0m\u001b[0mcol\u001b[0m\u001b[0;34m)\u001b[0m\u001b[0;34m\u001b[0m\u001b[0m\n",
      "\u001b[0;32m/conda/envs/gdf/lib/python3.6/site-packages/pygdf-0.1.0a2+208.gdff90c7-py3.6.egg/pygdf/dataframe.py\u001b[0m in \u001b[0;36m_sanitize_columns\u001b[0;34m(self, col)\u001b[0m\n\u001b[1;32m    340\u001b[0m             \u001b[0mself\u001b[0m\u001b[0;34m.\u001b[0m\u001b[0m_size\u001b[0m \u001b[0;34m=\u001b[0m \u001b[0mlen\u001b[0m\u001b[0;34m(\u001b[0m\u001b[0mseries\u001b[0m\u001b[0;34m)\u001b[0m\u001b[0;34m\u001b[0m\u001b[0m\n\u001b[1;32m    341\u001b[0m \u001b[0;34m\u001b[0m\u001b[0m\n\u001b[0;32m--> 342\u001b[0;31m         \u001b[0mcol\u001b[0m \u001b[0;34m=\u001b[0m \u001b[0mself\u001b[0m\u001b[0;34m.\u001b[0m\u001b[0m_sanitize_values\u001b[0m\u001b[0;34m(\u001b[0m\u001b[0mcol\u001b[0m\u001b[0;34m)\u001b[0m\u001b[0;34m\u001b[0m\u001b[0m\n\u001b[0m\u001b[1;32m    343\u001b[0m         \u001b[0;32mreturn\u001b[0m \u001b[0mcol\u001b[0m\u001b[0;34m\u001b[0m\u001b[0m\n\u001b[1;32m    344\u001b[0m \u001b[0;34m\u001b[0m\u001b[0m\n",
      "\u001b[0;32m/conda/envs/gdf/lib/python3.6/site-packages/pygdf-0.1.0a2+208.gdff90c7-py3.6.egg/pygdf/dataframe.py\u001b[0m in \u001b[0;36m_sanitize_values\u001b[0;34m(self, col)\u001b[0m\n\u001b[1;32m    357\u001b[0m             \u001b[0;32mreturn\u001b[0m \u001b[0mSeries\u001b[0m\u001b[0;34m(\u001b[0m\u001b[0marr\u001b[0m\u001b[0;34m)\u001b[0m\u001b[0;34m\u001b[0m\u001b[0m\n\u001b[1;32m    358\u001b[0m         \u001b[0;32melif\u001b[0m \u001b[0mlen\u001b[0m\u001b[0;34m(\u001b[0m\u001b[0mself\u001b[0m\u001b[0;34m)\u001b[0m \u001b[0;34m>\u001b[0m \u001b[0;36m0\u001b[0m \u001b[0;32mand\u001b[0m \u001b[0mlen\u001b[0m\u001b[0;34m(\u001b[0m\u001b[0msind\u001b[0m\u001b[0;34m)\u001b[0m \u001b[0;34m!=\u001b[0m \u001b[0mlen\u001b[0m\u001b[0;34m(\u001b[0m\u001b[0mindex\u001b[0m\u001b[0;34m)\u001b[0m\u001b[0;34m:\u001b[0m\u001b[0;34m\u001b[0m\u001b[0m\n\u001b[0;32m--> 359\u001b[0;31m             \u001b[0;32mraise\u001b[0m \u001b[0mValueError\u001b[0m\u001b[0;34m(\u001b[0m\u001b[0;34m'Length of values does not match index length'\u001b[0m\u001b[0;34m)\u001b[0m\u001b[0;34m\u001b[0m\u001b[0m\n\u001b[0m\u001b[1;32m    360\u001b[0m         \u001b[0;32mreturn\u001b[0m \u001b[0mcol\u001b[0m\u001b[0;34m\u001b[0m\u001b[0m\n\u001b[1;32m    361\u001b[0m \u001b[0;34m\u001b[0m\u001b[0m\n",
      "\u001b[0;31mValueError\u001b[0m: Length of values does not match index length"
     ]
    }
   ],
   "source": [
    "df = DataFrame(temp_df.items())"
   ]
  },
  {
   "cell_type": "code",
   "execution_count": 19,
   "metadata": {},
   "outputs": [
    {
     "data": {
      "text/html": [
       "<div>\n",
       "<style scoped>\n",
       "    .dataframe tbody tr th:only-of-type {\n",
       "        vertical-align: middle;\n",
       "    }\n",
       "\n",
       "    .dataframe tbody tr th {\n",
       "        vertical-align: top;\n",
       "    }\n",
       "\n",
       "    .dataframe thead th {\n",
       "        text-align: right;\n",
       "    }\n",
       "</style>\n",
       "<table border=\"1\" class=\"dataframe\">\n",
       "  <thead>\n",
       "    <tr style=\"text-align: right;\">\n",
       "      <th></th>\n",
       "      <th>dest_lat</th>\n",
       "      <th>dest_lon</th>\n",
       "    </tr>\n",
       "  </thead>\n",
       "  <tbody>\n",
       "    <tr>\n",
       "      <th>0</th>\n",
       "      <td>39.297604</td>\n",
       "      <td>-94.713905</td>\n",
       "    </tr>\n",
       "    <tr>\n",
       "      <th>1</th>\n",
       "      <td>41.785984</td>\n",
       "      <td>-87.752426</td>\n",
       "    </tr>\n",
       "    <tr>\n",
       "      <th>2</th>\n",
       "      <td>29.533695</td>\n",
       "      <td>-98.469780</td>\n",
       "    </tr>\n",
       "    <tr>\n",
       "      <th>3</th>\n",
       "      <td>41.785984</td>\n",
       "      <td>-87.752426</td>\n",
       "    </tr>\n",
       "    <tr>\n",
       "      <th>4</th>\n",
       "      <td>39.297604</td>\n",
       "      <td>-94.713905</td>\n",
       "    </tr>\n",
       "    <tr>\n",
       "      <th>5</th>\n",
       "      <td>39.175400</td>\n",
       "      <td>-76.668198</td>\n",
       "    </tr>\n",
       "    <tr>\n",
       "      <th>6</th>\n",
       "      <td>29.645418</td>\n",
       "      <td>-95.278893</td>\n",
       "    </tr>\n",
       "    <tr>\n",
       "      <th>7</th>\n",
       "      <td>36.124477</td>\n",
       "      <td>-86.678185</td>\n",
       "    </tr>\n",
       "    <tr>\n",
       "      <th>8</th>\n",
       "      <td>29.533695</td>\n",
       "      <td>-98.469780</td>\n",
       "    </tr>\n",
       "    <tr>\n",
       "      <th>9</th>\n",
       "      <td>32.847115</td>\n",
       "      <td>-96.851768</td>\n",
       "    </tr>\n",
       "    <tr>\n",
       "      <th>10</th>\n",
       "      <td>29.533695</td>\n",
       "      <td>-98.469780</td>\n",
       "    </tr>\n",
       "    <tr>\n",
       "      <th>11</th>\n",
       "      <td>32.847115</td>\n",
       "      <td>-96.851768</td>\n",
       "    </tr>\n",
       "    <tr>\n",
       "      <th>12</th>\n",
       "      <td>41.785984</td>\n",
       "      <td>-87.752426</td>\n",
       "    </tr>\n",
       "    <tr>\n",
       "      <th>13</th>\n",
       "      <td>38.174389</td>\n",
       "      <td>-85.736000</td>\n",
       "    </tr>\n",
       "    <tr>\n",
       "      <th>14</th>\n",
       "      <td>40.491467</td>\n",
       "      <td>-80.232872</td>\n",
       "    </tr>\n",
       "    <tr>\n",
       "      <th>15</th>\n",
       "      <td>41.785984</td>\n",
       "      <td>-87.752426</td>\n",
       "    </tr>\n",
       "    <tr>\n",
       "      <th>16</th>\n",
       "      <td>33.663639</td>\n",
       "      <td>-101.822777</td>\n",
       "    </tr>\n",
       "    <tr>\n",
       "      <th>17</th>\n",
       "      <td>30.194532</td>\n",
       "      <td>-97.669868</td>\n",
       "    </tr>\n",
       "    <tr>\n",
       "      <th>18</th>\n",
       "      <td>41.785984</td>\n",
       "      <td>-87.752426</td>\n",
       "    </tr>\n",
       "    <tr>\n",
       "      <th>19</th>\n",
       "      <td>36.124477</td>\n",
       "      <td>-86.678185</td>\n",
       "    </tr>\n",
       "    <tr>\n",
       "      <th>20</th>\n",
       "      <td>28.428888</td>\n",
       "      <td>-81.316025</td>\n",
       "    </tr>\n",
       "    <tr>\n",
       "      <th>21</th>\n",
       "      <td>41.785984</td>\n",
       "      <td>-87.752426</td>\n",
       "    </tr>\n",
       "    <tr>\n",
       "      <th>22</th>\n",
       "      <td>29.533695</td>\n",
       "      <td>-98.469780</td>\n",
       "    </tr>\n",
       "  </tbody>\n",
       "</table>\n",
       "</div>"
      ],
      "text/plain": [
       "     dest_lat    dest_lon\n",
       "0   39.297604  -94.713905\n",
       "1   41.785984  -87.752426\n",
       "2   29.533695  -98.469780\n",
       "3   41.785984  -87.752426\n",
       "4   39.297604  -94.713905\n",
       "5   39.175400  -76.668198\n",
       "6   29.645418  -95.278893\n",
       "7   36.124477  -86.678185\n",
       "8   29.533695  -98.469780\n",
       "9   32.847115  -96.851768\n",
       "10  29.533695  -98.469780\n",
       "11  32.847115  -96.851768\n",
       "12  41.785984  -87.752426\n",
       "13  38.174389  -85.736000\n",
       "14  40.491467  -80.232872\n",
       "15  41.785984  -87.752426\n",
       "16  33.663639 -101.822777\n",
       "17  30.194532  -97.669868\n",
       "18  41.785984  -87.752426\n",
       "19  36.124477  -86.678185\n",
       "20  28.428888  -81.316025\n",
       "21  41.785984  -87.752426\n",
       "22  29.533695  -98.469780"
      ]
     },
     "execution_count": 19,
     "metadata": {},
     "output_type": "execute_result"
    }
   ],
   "source": [
    "df.to_pandas()"
   ]
  },
  {
   "cell_type": "code",
   "execution_count": 65,
   "metadata": {},
   "outputs": [],
   "source": [
    "masked_col = reader[6]"
   ]
  },
  {
   "cell_type": "code",
   "execution_count": 74,
   "metadata": {},
   "outputs": [
    {
     "data": {
      "text/plain": [
       "odict_keys(['sourceid', 'dstid', 'hod', 'mean_travel_time', 'standard_deviation_travel_time', 'geometric_mean_travel_time', 'geometric_standard_deviation_travel_time', '__index_level_0__'])"
      ]
     },
     "execution_count": 74,
     "metadata": {},
     "output_type": "execute_result"
    }
   ],
   "source": [
    "temp_df.keys()"
   ]
  },
  {
   "cell_type": "code",
   "execution_count": 75,
   "metadata": {},
   "outputs": [],
   "source": [
    "a = temp_df.pop('__index_level_0__',None)"
   ]
  },
  {
   "cell_type": "code",
   "execution_count": 78,
   "metadata": {},
   "outputs": [
    {
     "data": {
      "text/plain": [
       "7"
      ]
     },
     "execution_count": 78,
     "metadata": {},
     "output_type": "execute_result"
    }
   ],
   "source": [
    "len(temp_df)"
   ]
  },
  {
   "cell_type": "code",
   "execution_count": 18,
   "metadata": {},
   "outputs": [
    {
     "name": "stderr",
     "output_type": "stream",
     "text": [
      "/conda/envs/gdf/lib/python3.6/site-packages/numba/cuda/compiler.py:236: UserWarning: Could not autotune, using default tpb of 128\n",
      "  warnings.warn('Could not autotune, using default tpb of 128')\n"
     ]
    },
    {
     "ename": "ValueError",
     "evalue": "Length of values does not match index length",
     "output_type": "error",
     "traceback": [
      "\u001b[0;31m---------------------------------------------------------------------------\u001b[0m",
      "\u001b[0;31mValueError\u001b[0m                                Traceback (most recent call last)",
      "\u001b[0;32m<ipython-input-18-eb6be73b5314>\u001b[0m in \u001b[0;36m<module>\u001b[0;34m()\u001b[0m\n\u001b[0;32m----> 1\u001b[0;31m \u001b[0mdf\u001b[0m \u001b[0;34m=\u001b[0m \u001b[0mDataFrame\u001b[0m\u001b[0;34m(\u001b[0m\u001b[0mreader\u001b[0m\u001b[0;34m.\u001b[0m\u001b[0mto_dict\u001b[0m\u001b[0;34m(\u001b[0m\u001b[0;34m)\u001b[0m\u001b[0;34m.\u001b[0m\u001b[0mitems\u001b[0m\u001b[0;34m(\u001b[0m\u001b[0;34m)\u001b[0m\u001b[0;34m)\u001b[0m\u001b[0;34m\u001b[0m\u001b[0m\n\u001b[0m",
      "\u001b[0;32m/conda/envs/gdf/lib/python3.6/site-packages/pygdf-0.1.0a2+208.gdff90c7-py3.6.egg/pygdf/dataframe.py\u001b[0m in \u001b[0;36m__init__\u001b[0;34m(self, name_series, index)\u001b[0m\n\u001b[1;32m     88\u001b[0m         \u001b[0;32mif\u001b[0m \u001b[0mname_series\u001b[0m \u001b[0;32mis\u001b[0m \u001b[0;32mnot\u001b[0m \u001b[0;32mNone\u001b[0m\u001b[0;34m:\u001b[0m\u001b[0;34m\u001b[0m\u001b[0m\n\u001b[1;32m     89\u001b[0m             \u001b[0;32mfor\u001b[0m \u001b[0mk\u001b[0m\u001b[0;34m,\u001b[0m \u001b[0mseries\u001b[0m \u001b[0;32min\u001b[0m \u001b[0mname_series\u001b[0m\u001b[0;34m:\u001b[0m\u001b[0;34m\u001b[0m\u001b[0m\n\u001b[0;32m---> 90\u001b[0;31m                 \u001b[0mself\u001b[0m\u001b[0;34m.\u001b[0m\u001b[0madd_column\u001b[0m\u001b[0;34m(\u001b[0m\u001b[0mk\u001b[0m\u001b[0;34m,\u001b[0m \u001b[0mseries\u001b[0m\u001b[0;34m,\u001b[0m \u001b[0mforceindex\u001b[0m\u001b[0;34m=\u001b[0m\u001b[0mindex\u001b[0m \u001b[0;32mis\u001b[0m \u001b[0;32mnot\u001b[0m \u001b[0;32mNone\u001b[0m\u001b[0;34m)\u001b[0m\u001b[0;34m\u001b[0m\u001b[0m\n\u001b[0m\u001b[1;32m     91\u001b[0m \u001b[0;34m\u001b[0m\u001b[0m\n\u001b[1;32m     92\u001b[0m     \u001b[0;32mdef\u001b[0m \u001b[0mserialize\u001b[0m\u001b[0;34m(\u001b[0m\u001b[0mself\u001b[0m\u001b[0;34m,\u001b[0m \u001b[0mserialize\u001b[0m\u001b[0;34m)\u001b[0m\u001b[0;34m:\u001b[0m\u001b[0;34m\u001b[0m\u001b[0m\n",
      "\u001b[0;32m/conda/envs/gdf/lib/python3.6/site-packages/pygdf-0.1.0a2+208.gdff90c7-py3.6.egg/pygdf/dataframe.py\u001b[0m in \u001b[0;36madd_column\u001b[0;34m(self, name, data, forceindex)\u001b[0m\n\u001b[1;32m    397\u001b[0m             \u001b[0;32mraise\u001b[0m \u001b[0mNameError\u001b[0m\u001b[0;34m(\u001b[0m\u001b[0;34m'duplicated column name {!r}'\u001b[0m\u001b[0;34m.\u001b[0m\u001b[0mformat\u001b[0m\u001b[0;34m(\u001b[0m\u001b[0mname\u001b[0m\u001b[0;34m)\u001b[0m\u001b[0;34m)\u001b[0m\u001b[0;34m\u001b[0m\u001b[0m\n\u001b[1;32m    398\u001b[0m \u001b[0;34m\u001b[0m\u001b[0m\n\u001b[0;32m--> 399\u001b[0;31m         \u001b[0mseries\u001b[0m \u001b[0;34m=\u001b[0m \u001b[0mself\u001b[0m\u001b[0;34m.\u001b[0m\u001b[0m_prepare_series_for_add\u001b[0m\u001b[0;34m(\u001b[0m\u001b[0mdata\u001b[0m\u001b[0;34m,\u001b[0m \u001b[0mforceindex\u001b[0m\u001b[0;34m=\u001b[0m\u001b[0mforceindex\u001b[0m\u001b[0;34m)\u001b[0m\u001b[0;34m\u001b[0m\u001b[0m\n\u001b[0m\u001b[1;32m    400\u001b[0m         \u001b[0mself\u001b[0m\u001b[0;34m.\u001b[0m\u001b[0m_cols\u001b[0m\u001b[0;34m[\u001b[0m\u001b[0mname\u001b[0m\u001b[0;34m]\u001b[0m \u001b[0;34m=\u001b[0m \u001b[0mseries\u001b[0m\u001b[0;34m\u001b[0m\u001b[0m\n\u001b[1;32m    401\u001b[0m \u001b[0;34m\u001b[0m\u001b[0m\n",
      "\u001b[0;32m/conda/envs/gdf/lib/python3.6/site-packages/pygdf-0.1.0a2+208.gdff90c7-py3.6.egg/pygdf/dataframe.py\u001b[0m in \u001b[0;36m_prepare_series_for_add\u001b[0;34m(self, col, forceindex)\u001b[0m\n\u001b[1;32m    372\u001b[0m         \u001b[0mThe\u001b[0m \u001b[0mprepared\u001b[0m \u001b[0mSeries\u001b[0m \u001b[0mobject\u001b[0m\u001b[0;34m.\u001b[0m\u001b[0;34m\u001b[0m\u001b[0m\n\u001b[1;32m    373\u001b[0m         \"\"\"\n\u001b[0;32m--> 374\u001b[0;31m         \u001b[0mcol\u001b[0m \u001b[0;34m=\u001b[0m \u001b[0mself\u001b[0m\u001b[0;34m.\u001b[0m\u001b[0m_sanitize_columns\u001b[0m\u001b[0;34m(\u001b[0m\u001b[0mcol\u001b[0m\u001b[0;34m)\u001b[0m\u001b[0;34m\u001b[0m\u001b[0m\n\u001b[0m\u001b[1;32m    375\u001b[0m         \u001b[0mempty_index\u001b[0m \u001b[0;34m=\u001b[0m \u001b[0misinstance\u001b[0m\u001b[0;34m(\u001b[0m\u001b[0mself\u001b[0m\u001b[0;34m.\u001b[0m\u001b[0m_index\u001b[0m\u001b[0;34m,\u001b[0m \u001b[0mEmptyIndex\u001b[0m\u001b[0;34m)\u001b[0m\u001b[0;34m\u001b[0m\u001b[0m\n\u001b[1;32m    376\u001b[0m         \u001b[0mseries\u001b[0m \u001b[0;34m=\u001b[0m \u001b[0mSeries\u001b[0m\u001b[0;34m(\u001b[0m\u001b[0mcol\u001b[0m\u001b[0;34m)\u001b[0m\u001b[0;34m\u001b[0m\u001b[0m\n",
      "\u001b[0;32m/conda/envs/gdf/lib/python3.6/site-packages/pygdf-0.1.0a2+208.gdff90c7-py3.6.egg/pygdf/dataframe.py\u001b[0m in \u001b[0;36m_sanitize_columns\u001b[0;34m(self, col)\u001b[0m\n\u001b[1;32m    340\u001b[0m             \u001b[0mself\u001b[0m\u001b[0;34m.\u001b[0m\u001b[0m_size\u001b[0m \u001b[0;34m=\u001b[0m \u001b[0mlen\u001b[0m\u001b[0;34m(\u001b[0m\u001b[0mseries\u001b[0m\u001b[0;34m)\u001b[0m\u001b[0;34m\u001b[0m\u001b[0m\n\u001b[1;32m    341\u001b[0m \u001b[0;34m\u001b[0m\u001b[0m\n\u001b[0;32m--> 342\u001b[0;31m         \u001b[0mcol\u001b[0m \u001b[0;34m=\u001b[0m \u001b[0mself\u001b[0m\u001b[0;34m.\u001b[0m\u001b[0m_sanitize_values\u001b[0m\u001b[0;34m(\u001b[0m\u001b[0mcol\u001b[0m\u001b[0;34m)\u001b[0m\u001b[0;34m\u001b[0m\u001b[0m\n\u001b[0m\u001b[1;32m    343\u001b[0m         \u001b[0;32mreturn\u001b[0m \u001b[0mcol\u001b[0m\u001b[0;34m\u001b[0m\u001b[0m\n\u001b[1;32m    344\u001b[0m \u001b[0;34m\u001b[0m\u001b[0m\n",
      "\u001b[0;32m/conda/envs/gdf/lib/python3.6/site-packages/pygdf-0.1.0a2+208.gdff90c7-py3.6.egg/pygdf/dataframe.py\u001b[0m in \u001b[0;36m_sanitize_values\u001b[0;34m(self, col)\u001b[0m\n\u001b[1;32m    357\u001b[0m             \u001b[0;32mreturn\u001b[0m \u001b[0mSeries\u001b[0m\u001b[0;34m(\u001b[0m\u001b[0marr\u001b[0m\u001b[0;34m)\u001b[0m\u001b[0;34m\u001b[0m\u001b[0m\n\u001b[1;32m    358\u001b[0m         \u001b[0;32melif\u001b[0m \u001b[0mlen\u001b[0m\u001b[0;34m(\u001b[0m\u001b[0mself\u001b[0m\u001b[0;34m)\u001b[0m \u001b[0;34m>\u001b[0m \u001b[0;36m0\u001b[0m \u001b[0;32mand\u001b[0m \u001b[0mlen\u001b[0m\u001b[0;34m(\u001b[0m\u001b[0msind\u001b[0m\u001b[0;34m)\u001b[0m \u001b[0;34m!=\u001b[0m \u001b[0mlen\u001b[0m\u001b[0;34m(\u001b[0m\u001b[0mindex\u001b[0m\u001b[0;34m)\u001b[0m\u001b[0;34m:\u001b[0m\u001b[0;34m\u001b[0m\u001b[0m\n\u001b[0;32m--> 359\u001b[0;31m             \u001b[0;32mraise\u001b[0m \u001b[0mValueError\u001b[0m\u001b[0;34m(\u001b[0m\u001b[0;34m'Length of values does not match index length'\u001b[0m\u001b[0;34m)\u001b[0m\u001b[0;34m\u001b[0m\u001b[0m\n\u001b[0m\u001b[1;32m    360\u001b[0m         \u001b[0;32mreturn\u001b[0m \u001b[0mcol\u001b[0m\u001b[0;34m\u001b[0m\u001b[0m\n\u001b[1;32m    361\u001b[0m \u001b[0;34m\u001b[0m\u001b[0m\n",
      "\u001b[0;31mValueError\u001b[0m: Length of values does not match index length"
     ]
    }
   ],
   "source": [
    "df = DataFrame(reader.to_dict().items())"
   ]
  },
  {
   "cell_type": "code",
   "execution_count": 30,
   "metadata": {},
   "outputs": [],
   "source": [
    "buffer = bytearray(df_buffer)"
   ]
  },
  {
   "cell_type": "code",
   "execution_count": 6,
   "metadata": {},
   "outputs": [],
   "source": [
    "def readArrow(source):\n",
    "    reader = pa.RecordBatchStreamReader(source)\n",
    "    return reader.read_all()"
   ]
  },
  {
   "cell_type": "code",
   "execution_count": 7,
   "metadata": {},
   "outputs": [],
   "source": [
    "df1 = readArrow(\"node-server/uploads/uber-dataset.arrow\")"
   ]
  },
  {
   "cell_type": "code",
   "execution_count": 9,
   "metadata": {},
   "outputs": [
    {
     "data": {
      "text/plain": [
       "pyarrow.Table\n",
       "sourceid: float\n",
       "dstid: float\n",
       "hod: float\n",
       "mean_travel_time: float\n",
       "standard_deviation_travel_time: float\n",
       "geometric_mean_travel_time: float\n",
       "geometric_standard_deviation_travel_time: float\n",
       "__index_level_0__: int64\n",
       "metadata\n",
       "--------\n",
       "{b'pandas': b'{\"index_columns\": [\"__index_level_0__\"], \"column_indexes\": [{\"na'\n",
       "            b'me\": null, \"field_name\": null, \"pandas_type\": \"unicode\", \"numpy_'\n",
       "            b'type\": \"object\", \"metadata\": {\"encoding\": \"UTF-8\"}}], \"columns\":'\n",
       "            b' [{\"name\": \"sourceid\", \"field_name\": \"sourceid\", \"pandas_type\": '\n",
       "            b'\"float32\", \"numpy_type\": \"float32\", \"metadata\": null}, {\"name\": '\n",
       "            b'\"dstid\", \"field_name\": \"dstid\", \"pandas_type\": \"float32\", \"numpy'\n",
       "            b'_type\": \"float32\", \"metadata\": null}, {\"name\": \"hod\", \"field_nam'\n",
       "            b'e\": \"hod\", \"pandas_type\": \"float32\", \"numpy_type\": \"float32\", \"m'\n",
       "            b'etadata\": null}, {\"name\": \"mean_travel_time\", \"field_name\": \"mea'\n",
       "            b'n_travel_time\", \"pandas_type\": \"float32\", \"numpy_type\": \"float32'\n",
       "            b'\", \"metadata\": null}, {\"name\": \"standard_deviation_travel_time\",'\n",
       "            b' \"field_name\": \"standard_deviation_travel_time\", \"pandas_type\": '\n",
       "            b'\"float32\", \"numpy_type\": \"float32\", \"metadata\": null}, {\"name\": '\n",
       "            b'\"geometric_mean_travel_time\", \"field_name\": \"geometric_mean_trav'\n",
       "            b'el_time\", \"pandas_type\": \"float32\", \"numpy_type\": \"float32\", \"me'\n",
       "            b'tadata\": null}, {\"name\": \"geometric_standard_deviation_travel_ti'\n",
       "            b'me\", \"field_name\": \"geometric_standard_deviation_travel_time\", \"'\n",
       "            b'pandas_type\": \"float32\", \"numpy_type\": \"float32\", \"metadata\": nu'\n",
       "            b'll}, {\"name\": null, \"field_name\": \"__index_level_0__\", \"pandas_t'\n",
       "            b'ype\": \"int64\", \"numpy_type\": \"int64\", \"metadata\": null}], \"panda'\n",
       "            b's_version\": \"0.23.3\"}'}"
      ]
     },
     "execution_count": 9,
     "metadata": {},
     "output_type": "execute_result"
    }
   ],
   "source": [
    "df1.to"
   ]
  },
  {
   "cell_type": "code",
   "execution_count": 5,
   "metadata": {},
   "outputs": [],
   "source": [
    "gpu_df = DataFrame.from_pandas(df)"
   ]
  },
  {
   "cell_type": "code",
   "execution_count": 19,
   "metadata": {},
   "outputs": [
    {
     "data": {
      "text/plain": [
       "<numba.cuda.cudadrv.devicearray.DeviceNDArray at 0x7f4245ece2e8>"
      ]
     },
     "execution_count": 19,
     "metadata": {},
     "output_type": "execute_result"
    }
   ],
   "source": [
    "gpu_df[gpu_df.columns[0]].to_gpu_array()"
   ]
  },
  {
   "cell_type": "code",
   "execution_count": 70,
   "metadata": {},
   "outputs": [
    {
     "name": "stdout",
     "output_type": "stream",
     "text": [
      "80.7 µs ± 671 ns per loop (mean ± std. dev. of 7 runs, 10000 loops each)\n"
     ]
    }
   ],
   "source": [
    "%timeit a = gpu_df.geometric_mean_travel_time.to_gpu_array()"
   ]
  },
  {
   "cell_type": "code",
   "execution_count": 69,
   "metadata": {},
   "outputs": [
    {
     "data": {
      "text/plain": [
       "<numba.cuda.cudadrv.devicearray.DeviceNDArray at 0x7f4752fccf28>"
      ]
     },
     "execution_count": 69,
     "metadata": {},
     "output_type": "execute_result"
    }
   ],
   "source": [
    "a"
   ]
  },
  {
   "cell_type": "code",
   "execution_count": 55,
   "metadata": {},
   "outputs": [
    {
     "name": "stderr",
     "output_type": "stream",
     "text": [
      "/conda/envs/gdf/lib/python3.6/site-packages/numba/cuda/compiler.py:236: UserWarning: Could not autotune, using default tpb of 128\n",
      "  warnings.warn('Could not autotune, using default tpb of 128')\n"
     ]
    },
    {
     "data": {
      "text/plain": [
       "  sourceid  dstid  hod mean_travel_time standard_deviation_travel_time geometric_mean_travel_time geometric_standard_deviation_travel_time\n",
       "1438470    234.0  729.0 15.0         10578.17                        1514.47                   10469.62                                     1.15\n",
       "4034052    234.0 1132.0 15.0         10531.17                        1517.13                   10421.73                                     1.16"
      ]
     },
     "execution_count": 55,
     "metadata": {},
     "output_type": "execute_result"
    }
   ],
   "source": [
    "gpu_df.nlargest(2,['mean_travel_time'])"
   ]
  },
  {
   "cell_type": "code",
   "execution_count": 23,
   "metadata": {},
   "outputs": [
    {
     "name": "stdout",
     "output_type": "stream",
     "text": [
      "63.2 µs ± 297 ns per loop (mean ± std. dev. of 7 runs, 10000 loops each)\n"
     ]
    }
   ],
   "source": [
    "%timeit df['hod'].head()"
   ]
  },
  {
   "cell_type": "code",
   "execution_count": 37,
   "metadata": {},
   "outputs": [
    {
     "name": "stdout",
     "output_type": "stream",
     "text": [
      "86.7 ms ± 31.2 µs per loop (mean ± std. dev. of 7 runs, 10 loops each)\n"
     ]
    }
   ],
   "source": [
    "%timeit gpu_df.loc[2:6]"
   ]
  },
  {
   "cell_type": "code",
   "execution_count": 41,
   "metadata": {},
   "outputs": [],
   "source": [
    "from numba import cuda"
   ]
  },
  {
   "cell_type": "code",
   "execution_count": 43,
   "metadata": {},
   "outputs": [],
   "source": [
    "a = cuda.to_device(gpu_df.to_pandas)"
   ]
  },
  {
   "cell_type": "code",
   "execution_count": 45,
   "metadata": {},
   "outputs": [
    {
     "ename": "AttributeError",
     "evalue": "'numpy.ndarray' object has no attribute 'head'",
     "output_type": "error",
     "traceback": [
      "\u001b[0;31m---------------------------------------------------------------------------\u001b[0m",
      "\u001b[0;31mAttributeError\u001b[0m                            Traceback (most recent call last)",
      "\u001b[0;32m<ipython-input-45-22f025941bc4>\u001b[0m in \u001b[0;36m<module>\u001b[0;34m()\u001b[0m\n\u001b[0;32m----> 1\u001b[0;31m \u001b[0ma\u001b[0m\u001b[0;34m.\u001b[0m\u001b[0mcopy_to_host\u001b[0m\u001b[0;34m(\u001b[0m\u001b[0;34m)\u001b[0m\u001b[0;34m.\u001b[0m\u001b[0mhead\u001b[0m\u001b[0;34m(\u001b[0m\u001b[0;34m)\u001b[0m\u001b[0;34m\u001b[0m\u001b[0m\n\u001b[0m",
      "\u001b[0;31mAttributeError\u001b[0m: 'numpy.ndarray' object has no attribute 'head'"
     ]
    }
   ],
   "source": [
    "a.copy_to_host().head()"
   ]
  },
  {
   "cell_type": "code",
   "execution_count": 28,
   "metadata": {},
   "outputs": [
    {
     "name": "stdout",
     "output_type": "stream",
     "text": [
      "8.98 ms ± 6.57 µs per loop (mean ± std. dev. of 7 runs, 100 loops each)\n"
     ]
    }
   ],
   "source": [
    "%timeit df.loc[df['mean_travel_time'] < 100]"
   ]
  },
  {
   "cell_type": "code",
   "execution_count": 8,
   "metadata": {},
   "outputs": [],
   "source": [
    "df = DataFrame()\n",
    "nelem = 10**6  # A million item\n",
    "df['key1'] = np.random.randint(0, 5, nelem)\n",
    "df['key2'] = np.random.randint(0, 3, nelem)\n",
    "df['val1'] = np.arange(1, 1 + nelem)\n",
    "df['val2'] = np.random.random(nelem)"
   ]
  },
  {
   "cell_type": "code",
   "execution_count": 4,
   "metadata": {},
   "outputs": [
    {
     "data": {
      "text/html": [
       "<div>\n",
       "<style scoped>\n",
       "    .dataframe tbody tr th:only-of-type {\n",
       "        vertical-align: middle;\n",
       "    }\n",
       "\n",
       "    .dataframe tbody tr th {\n",
       "        vertical-align: top;\n",
       "    }\n",
       "\n",
       "    .dataframe thead th {\n",
       "        text-align: right;\n",
       "    }\n",
       "</style>\n",
       "<table border=\"1\" class=\"dataframe\">\n",
       "  <thead>\n",
       "    <tr style=\"text-align: right;\">\n",
       "      <th></th>\n",
       "      <th>key1</th>\n",
       "      <th>key2</th>\n",
       "      <th>val1</th>\n",
       "      <th>val2</th>\n",
       "    </tr>\n",
       "  </thead>\n",
       "  <tbody>\n",
       "    <tr>\n",
       "      <th>0</th>\n",
       "      <td>1</td>\n",
       "      <td>0</td>\n",
       "      <td>1</td>\n",
       "      <td>0.832418</td>\n",
       "    </tr>\n",
       "    <tr>\n",
       "      <th>1</th>\n",
       "      <td>0</td>\n",
       "      <td>1</td>\n",
       "      <td>2</td>\n",
       "      <td>0.702720</td>\n",
       "    </tr>\n",
       "    <tr>\n",
       "      <th>2</th>\n",
       "      <td>2</td>\n",
       "      <td>1</td>\n",
       "      <td>3</td>\n",
       "      <td>0.814997</td>\n",
       "    </tr>\n",
       "    <tr>\n",
       "      <th>3</th>\n",
       "      <td>4</td>\n",
       "      <td>0</td>\n",
       "      <td>4</td>\n",
       "      <td>0.698803</td>\n",
       "    </tr>\n",
       "    <tr>\n",
       "      <th>4</th>\n",
       "      <td>2</td>\n",
       "      <td>2</td>\n",
       "      <td>5</td>\n",
       "      <td>0.632527</td>\n",
       "    </tr>\n",
       "  </tbody>\n",
       "</table>\n",
       "</div>"
      ],
      "text/plain": [
       "   key1  key2  val1      val2\n",
       "0     1     0     1  0.832418\n",
       "1     0     1     2  0.702720\n",
       "2     2     1     3  0.814997\n",
       "3     4     0     4  0.698803\n",
       "4     2     2     5  0.632527"
      ]
     },
     "execution_count": 4,
     "metadata": {},
     "output_type": "execute_result"
    }
   ],
   "source": [
    "df.head().to_pandas()"
   ]
  },
  {
   "cell_type": "code",
   "execution_count": 5,
   "metadata": {},
   "outputs": [
    {
     "name": "stderr",
     "output_type": "stream",
     "text": [
      "/conda/envs/gdf/lib/python3.6/site-packages/numba/cuda/compiler.py:236: UserWarning: Could not autotune, using default tpb of 128\n",
      "  warnings.warn('Could not autotune, using default tpb of 128')\n",
      "/conda/envs/gdf/lib/python3.6/site-packages/numba/cuda/compiler.py:236: UserWarning: Could not autotune, using default tpb of 128\n",
      "  warnings.warn('Could not autotune, using default tpb of 128')\n",
      "/conda/envs/gdf/lib/python3.6/site-packages/numba/cuda/compiler.py:236: UserWarning: Could not autotune, using default tpb of 128\n",
      "  warnings.warn('Could not autotune, using default tpb of 128')\n",
      "/conda/envs/gdf/lib/python3.6/site-packages/numba/cuda/compiler.py:236: UserWarning: Could not autotune, using default tpb of 128\n",
      "  warnings.warn('Could not autotune, using default tpb of 128')\n",
      "/conda/envs/gdf/lib/python3.6/site-packages/numba/cuda/compiler.py:236: UserWarning: Could not autotune, using default tpb of 128\n",
      "  warnings.warn('Could not autotune, using default tpb of 128')\n",
      "/conda/envs/gdf/lib/python3.6/site-packages/numba/cuda/compiler.py:236: UserWarning: Could not autotune, using default tpb of 128\n",
      "  warnings.warn('Could not autotune, using default tpb of 128')\n",
      "/conda/envs/gdf/lib/python3.6/site-packages/numba/cuda/compiler.py:236: UserWarning: Could not autotune, using default tpb of 128\n",
      "  warnings.warn('Could not autotune, using default tpb of 128')\n",
      "/conda/envs/gdf/lib/python3.6/site-packages/numba/cuda/compiler.py:236: UserWarning: Could not autotune, using default tpb of 128\n",
      "  warnings.warn('Could not autotune, using default tpb of 128')\n",
      "/conda/envs/gdf/lib/python3.6/site-packages/numba/cuda/compiler.py:236: UserWarning: Could not autotune, using default tpb of 128\n",
      "  warnings.warn('Could not autotune, using default tpb of 128')\n"
     ]
    },
    {
     "data": {
      "text/plain": [
       "   key1 key2               val1                val2\n",
       " 0    0    0 499991.13897751615   0.500500273341694\n",
       " 1    0    1 498149.71224435116 0.49915224768559957\n",
       " 2    0    2   500246.831658405 0.49932934396900014\n",
       " 3    1    0  499929.9718701189  0.4997970229389601\n",
       " 4    1    1  501476.9940390855  0.5006826483188622\n",
       " 5    1    2  500412.3009169631  0.5002174350180542\n",
       " 6    2    0  499810.1914909582  0.5017281713406735\n",
       " 7    2    1  500080.0818064206  0.5018919081998916\n",
       " 8    2    2  500726.5189073721 0.49894799193962097\n",
       " 9    3    0  500682.3600508145 0.49976123494834945\n",
       "10    3    1 499071.18907015416 0.49736679651401494\n",
       "11    3    2  500453.4085117837   0.500835048713539\n",
       "12    4    0 499907.88592142676  0.5009347385916217\n",
       "13    4    1 500420.31843726116  0.5011883284453145\n",
       "14    4    2  498677.7382152609 0.49821989306868103"
      ]
     },
     "execution_count": 5,
     "metadata": {},
     "output_type": "execute_result"
    }
   ],
   "source": [
    "df.groupby(by=['key1', 'key2']).mean()"
   ]
  },
  {
   "cell_type": "code",
   "execution_count": null,
   "metadata": {
    "collapsed": true
   },
   "outputs": [],
   "source": []
  }
 ],
 "metadata": {
  "anaconda-cloud": {},
  "kernelspec": {
   "display_name": "Python 3",
   "language": "python",
   "name": "python3"
  },
  "language_info": {
   "codemirror_mode": {
    "name": "ipython",
    "version": 3
   },
   "file_extension": ".py",
   "mimetype": "text/x-python",
   "name": "python",
   "nbconvert_exporter": "python",
   "pygments_lexer": "ipython3",
   "version": "3.6.5"
  },
  "widgets": {
   "application/vnd.jupyter.widget-state+json": {
    "state": {},
    "version_major": 2,
    "version_minor": 0
   }
  }
 },
 "nbformat": 4,
 "nbformat_minor": 1
}
