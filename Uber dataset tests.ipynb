{
 "cells": [
  {
   "cell_type": "markdown",
   "metadata": {},
   "source": [
    "## Import"
   ]
  },
  {
   "cell_type": "code",
   "execution_count": 2,
   "metadata": {},
   "outputs": [],
   "source": [
    "import pygdf\n",
    "import numpy as np\n",
    "from pygdf.dataframe import DataFrame\n",
    "from numba import cuda\n",
    "import json\n",
    "from pyarrow import RecordBatchStreamReader\n",
    "import sys, pandas as pd\n",
    "from pygdf.gpuarrow import GpuArrowReader\n",
    "import pygdf.gpuarrow as gpuarrow\n",
    "from python_scripts.numbaHistinMem import numba_gpu_histogram\n",
    "import matplotlib.pyplot as plt\n",
    "%matplotlib inline"
   ]
  },
  {
   "cell_type": "markdown",
   "metadata": {},
   "source": [
    "## Read dataframe from disk"
   ]
  },
  {
   "cell_type": "code",
   "execution_count": 3,
   "metadata": {},
   "outputs": [],
   "source": [
    "def readArrowToDF(source):\n",
    "    reader = RecordBatchStreamReader(source)\n",
    "    pa_df = reader.read_all()\n",
    "    return pa_df.to_pandas()\n",
    "gdf_df = DataFrame.from_pandas(readArrowToDF(\"node_server/uploads/uber-dataset-v1.arrow\"))"
   ]
  },
  {
   "cell_type": "markdown",
   "metadata": {},
   "source": [
    "## tests"
   ]
  },
  {
   "cell_type": "code",
   "execution_count": 4,
   "metadata": {},
   "outputs": [
    {
     "data": {
      "text/html": [
       "<div>\n",
       "<style scoped>\n",
       "    .dataframe tbody tr th:only-of-type {\n",
       "        vertical-align: middle;\n",
       "    }\n",
       "\n",
       "    .dataframe tbody tr th {\n",
       "        vertical-align: top;\n",
       "    }\n",
       "\n",
       "    .dataframe thead th {\n",
       "        text-align: right;\n",
       "    }\n",
       "</style>\n",
       "<table border=\"1\" class=\"dataframe\">\n",
       "  <thead>\n",
       "    <tr style=\"text-align: right;\">\n",
       "      <th></th>\n",
       "      <th>sourceid</th>\n",
       "      <th>dstid</th>\n",
       "      <th>hod</th>\n",
       "      <th>mean_travel_time</th>\n",
       "      <th>standard_deviation_travel_time</th>\n",
       "      <th>geometric_mean_travel_time</th>\n",
       "      <th>geometric_standard_deviation_travel_time</th>\n",
       "      <th>source_lat</th>\n",
       "      <th>source_long</th>\n",
       "      <th>dst_lat</th>\n",
       "      <th>dst_long</th>\n",
       "    </tr>\n",
       "  </thead>\n",
       "  <tbody>\n",
       "    <tr>\n",
       "      <th>0</th>\n",
       "      <td>6</td>\n",
       "      <td>5</td>\n",
       "      <td>17</td>\n",
       "      <td>2917.18</td>\n",
       "      <td>790.28</td>\n",
       "      <td>2810.98</td>\n",
       "      <td>1.32</td>\n",
       "      <td>-121.948433</td>\n",
       "      <td>38.366653</td>\n",
       "      <td>-121.361717</td>\n",
       "      <td>38.554436</td>\n",
       "    </tr>\n",
       "    <tr>\n",
       "      <th>1</th>\n",
       "      <td>3</td>\n",
       "      <td>38</td>\n",
       "      <td>20</td>\n",
       "      <td>339.74</td>\n",
       "      <td>254.41</td>\n",
       "      <td>287.54</td>\n",
       "      <td>1.67</td>\n",
       "      <td>-121.660217</td>\n",
       "      <td>37.150475</td>\n",
       "      <td>-121.481194</td>\n",
       "      <td>37.205841</td>\n",
       "    </tr>\n",
       "    <tr>\n",
       "      <th>2</th>\n",
       "      <td>2</td>\n",
       "      <td>61</td>\n",
       "      <td>7</td>\n",
       "      <td>1443.36</td>\n",
       "      <td>374.62</td>\n",
       "      <td>1397.73</td>\n",
       "      <td>1.29</td>\n",
       "      <td>-122.219406</td>\n",
       "      <td>37.469585</td>\n",
       "      <td>-122.050941</td>\n",
       "      <td>37.561699</td>\n",
       "    </tr>\n",
       "    <tr>\n",
       "      <th>3</th>\n",
       "      <td>7</td>\n",
       "      <td>25</td>\n",
       "      <td>2</td>\n",
       "      <td>152.00</td>\n",
       "      <td>180.40</td>\n",
       "      <td>95.34</td>\n",
       "      <td>2.61</td>\n",
       "      <td>-121.996101</td>\n",
       "      <td>38.325848</td>\n",
       "      <td>-121.979637</td>\n",
       "      <td>38.343208</td>\n",
       "    </tr>\n",
       "    <tr>\n",
       "      <th>4</th>\n",
       "      <td>2</td>\n",
       "      <td>79</td>\n",
       "      <td>22</td>\n",
       "      <td>2320.41</td>\n",
       "      <td>324.85</td>\n",
       "      <td>2299.22</td>\n",
       "      <td>1.14</td>\n",
       "      <td>-122.219406</td>\n",
       "      <td>37.469585</td>\n",
       "      <td>-122.419426</td>\n",
       "      <td>37.790886</td>\n",
       "    </tr>\n",
       "  </tbody>\n",
       "</table>\n",
       "</div>"
      ],
      "text/plain": [
       "   sourceid  dstid  hod  mean_travel_time  standard_deviation_travel_time  \\\n",
       "0         6      5   17           2917.18                          790.28   \n",
       "1         3     38   20            339.74                          254.41   \n",
       "2         2     61    7           1443.36                          374.62   \n",
       "3         7     25    2            152.00                          180.40   \n",
       "4         2     79   22           2320.41                          324.85   \n",
       "\n",
       "   geometric_mean_travel_time  geometric_standard_deviation_travel_time  \\\n",
       "0                     2810.98                                      1.32   \n",
       "1                      287.54                                      1.67   \n",
       "2                     1397.73                                      1.29   \n",
       "3                       95.34                                      2.61   \n",
       "4                     2299.22                                      1.14   \n",
       "\n",
       "   source_lat  source_long     dst_lat   dst_long  \n",
       "0 -121.948433    38.366653 -121.361717  38.554436  \n",
       "1 -121.660217    37.150475 -121.481194  37.205841  \n",
       "2 -122.219406    37.469585 -122.050941  37.561699  \n",
       "3 -121.996101    38.325848 -121.979637  38.343208  \n",
       "4 -122.219406    37.469585 -122.419426  37.790886  "
      ]
     },
     "execution_count": 4,
     "metadata": {},
     "output_type": "execute_result"
    }
   ],
   "source": [
    "gdf_df.head().to_pandas()"
   ]
  },
  {
   "cell_type": "code",
   "execution_count": 5,
   "metadata": {},
   "outputs": [],
   "source": [
    "def transform(source_lat,source_long,dst_lat,dst_long,direction):\n",
    "    for i, (w, x, y, z) in enumerate(zip(source_lat,source_long,dst_lat,dst_long)):\n",
    "        if y-w>0:\n",
    "            direction[i] = 1\n",
    "        elif y-w<0:\n",
    "            direction[i] = -1\n",
    "        if z-x>0:\n",
    "            direction[i] += 3\n",
    "        elif z-x<0:\n",
    "            direction[i] += 6\n",
    "#     if gdf['source_lat'] - gdf['dest_lat'] > 0:\n",
    "#         gdf['direction'] = North"
   ]
  },
  {
   "cell_type": "code",
   "execution_count": 6,
   "metadata": {},
   "outputs": [],
   "source": [
    "val = gdf_df['source_lat'] - gdf_df['dst_lat']"
   ]
  },
  {
   "cell_type": "code",
   "execution_count": 7,
   "metadata": {},
   "outputs": [
    {
     "name": "stderr",
     "output_type": "stream",
     "text": [
      "/conda/envs/gdf/lib/python3.6/site-packages/numba/cuda/compiler.py:236: UserWarning: Could not autotune, using default tpb of 128\n",
      "  warnings.warn('Could not autotune, using default tpb of 128')\n"
     ]
    }
   ],
   "source": [
    "a = gdf_df.apply_rows(transform,\n",
    "                       incols=['source_lat','source_long','dst_lat','dst_long'],\n",
    "                       outcols=dict(direction=np.float64),\n",
    "                       kwargs=dict())"
   ]
  },
  {
   "cell_type": "code",
   "execution_count": 8,
   "metadata": {},
   "outputs": [],
   "source": [
    "z = {1: 'north', -1: 'south', 3: 'west', 6: 'east', 4:'north east', 5: 'south west', 2: 'south east', 7:'north west'}"
   ]
  },
  {
   "cell_type": "code",
   "execution_count": 9,
   "metadata": {},
   "outputs": [],
   "source": [
    "pd_df = a.to_pandas()"
   ]
  },
  {
   "cell_type": "code",
   "execution_count": 54,
   "metadata": {},
   "outputs": [
    {
     "data": {
      "text/html": [
       "<div>\n",
       "<style scoped>\n",
       "    .dataframe tbody tr th:only-of-type {\n",
       "        vertical-align: middle;\n",
       "    }\n",
       "\n",
       "    .dataframe tbody tr th {\n",
       "        vertical-align: top;\n",
       "    }\n",
       "\n",
       "    .dataframe thead th {\n",
       "        text-align: right;\n",
       "    }\n",
       "</style>\n",
       "<table border=\"1\" class=\"dataframe\">\n",
       "  <thead>\n",
       "    <tr style=\"text-align: right;\">\n",
       "      <th></th>\n",
       "      <th>sourceid</th>\n",
       "      <th>dstid</th>\n",
       "      <th>hod</th>\n",
       "      <th>mean_travel_time</th>\n",
       "      <th>standard_deviation_travel_time</th>\n",
       "      <th>geometric_mean_travel_time</th>\n",
       "      <th>geometric_standard_deviation_travel_time</th>\n",
       "      <th>source_lat</th>\n",
       "      <th>source_long</th>\n",
       "      <th>dst_lat</th>\n",
       "      <th>dst_long</th>\n",
       "      <th>direction</th>\n",
       "    </tr>\n",
       "  </thead>\n",
       "  <tbody>\n",
       "    <tr>\n",
       "      <th>0</th>\n",
       "      <td>6</td>\n",
       "      <td>5</td>\n",
       "      <td>17</td>\n",
       "      <td>2917.18</td>\n",
       "      <td>790.28</td>\n",
       "      <td>2810.98</td>\n",
       "      <td>1.32</td>\n",
       "      <td>-121.948433</td>\n",
       "      <td>38.366653</td>\n",
       "      <td>-121.361717</td>\n",
       "      <td>38.554436</td>\n",
       "      <td>north east</td>\n",
       "    </tr>\n",
       "    <tr>\n",
       "      <th>1</th>\n",
       "      <td>3</td>\n",
       "      <td>38</td>\n",
       "      <td>20</td>\n",
       "      <td>339.74</td>\n",
       "      <td>254.41</td>\n",
       "      <td>287.54</td>\n",
       "      <td>1.67</td>\n",
       "      <td>-121.660217</td>\n",
       "      <td>37.150475</td>\n",
       "      <td>-121.481194</td>\n",
       "      <td>37.205841</td>\n",
       "      <td>north east</td>\n",
       "    </tr>\n",
       "    <tr>\n",
       "      <th>2</th>\n",
       "      <td>2</td>\n",
       "      <td>61</td>\n",
       "      <td>7</td>\n",
       "      <td>1443.36</td>\n",
       "      <td>374.62</td>\n",
       "      <td>1397.73</td>\n",
       "      <td>1.29</td>\n",
       "      <td>-122.219406</td>\n",
       "      <td>37.469585</td>\n",
       "      <td>-122.050941</td>\n",
       "      <td>37.561699</td>\n",
       "      <td>north east</td>\n",
       "    </tr>\n",
       "    <tr>\n",
       "      <th>3</th>\n",
       "      <td>7</td>\n",
       "      <td>25</td>\n",
       "      <td>2</td>\n",
       "      <td>152.00</td>\n",
       "      <td>180.40</td>\n",
       "      <td>95.34</td>\n",
       "      <td>2.61</td>\n",
       "      <td>-121.996101</td>\n",
       "      <td>38.325848</td>\n",
       "      <td>-121.979637</td>\n",
       "      <td>38.343208</td>\n",
       "      <td>north east</td>\n",
       "    </tr>\n",
       "    <tr>\n",
       "      <th>4</th>\n",
       "      <td>2</td>\n",
       "      <td>79</td>\n",
       "      <td>22</td>\n",
       "      <td>2320.41</td>\n",
       "      <td>324.85</td>\n",
       "      <td>2299.22</td>\n",
       "      <td>1.14</td>\n",
       "      <td>-122.219406</td>\n",
       "      <td>37.469585</td>\n",
       "      <td>-122.419426</td>\n",
       "      <td>37.790886</td>\n",
       "      <td>south east</td>\n",
       "    </tr>\n",
       "  </tbody>\n",
       "</table>\n",
       "</div>"
      ],
      "text/plain": [
       "   sourceid  dstid  hod  mean_travel_time  standard_deviation_travel_time  \\\n",
       "0         6      5   17           2917.18                          790.28   \n",
       "1         3     38   20            339.74                          254.41   \n",
       "2         2     61    7           1443.36                          374.62   \n",
       "3         7     25    2            152.00                          180.40   \n",
       "4         2     79   22           2320.41                          324.85   \n",
       "\n",
       "   geometric_mean_travel_time  geometric_standard_deviation_travel_time  \\\n",
       "0                     2810.98                                      1.32   \n",
       "1                      287.54                                      1.67   \n",
       "2                     1397.73                                      1.29   \n",
       "3                       95.34                                      2.61   \n",
       "4                     2299.22                                      1.14   \n",
       "\n",
       "   source_lat  source_long     dst_lat   dst_long   direction  \n",
       "0 -121.948433    38.366653 -121.361717  38.554436  north east  \n",
       "1 -121.660217    37.150475 -121.481194  37.205841  north east  \n",
       "2 -122.219406    37.469585 -122.050941  37.561699  north east  \n",
       "3 -121.996101    38.325848 -121.979637  38.343208  north east  \n",
       "4 -122.219406    37.469585 -122.419426  37.790886  south east  "
      ]
     },
     "execution_count": 54,
     "metadata": {},
     "output_type": "execute_result"
    }
   ],
   "source": [
    "pd_df.head()"
   ]
  },
  {
   "cell_type": "code",
   "execution_count": 10,
   "metadata": {},
   "outputs": [],
   "source": [
    "pd_df['direction'] = pd_df['direction'].map(z)"
   ]
  },
  {
   "cell_type": "code",
   "execution_count": 29,
   "metadata": {},
   "outputs": [],
   "source": [
    "result = pd_df.groupby(['hod','direction']).count()"
   ]
  },
  {
   "cell_type": "code",
   "execution_count": 34,
   "metadata": {},
   "outputs": [],
   "source": [
    "result = result['sourceid']"
   ]
  },
  {
   "cell_type": "code",
   "execution_count": 37,
   "metadata": {},
   "outputs": [
    {
     "data": {
      "text/plain": [
       "hod  direction \n",
       "0    east               4\n",
       "     north              5\n",
       "     north east     80739\n",
       "     north west    130584\n",
       "     south              5\n",
       "     south east    107804\n",
       "     south west     62498\n",
       "     west               3\n",
       "1    east               4\n",
       "     north              5\n",
       "     north east     75713\n",
       "     north west    121093\n",
       "     south              4\n",
       "     south east     95721\n",
       "     south west     56795\n",
       "     west               3\n",
       "2    east               4\n",
       "     north              5\n",
       "     north east     64905\n",
       "     north west    107398\n",
       "     south              4\n",
       "     south east     80409\n",
       "     south west     51812\n",
       "     west               3\n",
       "3    east               3\n",
       "     north              5\n",
       "     north east     54501\n",
       "     north west     91611\n",
       "     south              3\n",
       "     south east     75677\n",
       "                    ...  \n",
       "20   north east     92949\n",
       "     north west    155408\n",
       "     south              5\n",
       "     south east    148887\n",
       "     south west     81682\n",
       "     west               3\n",
       "21   east               4\n",
       "     north              5\n",
       "     north east     93294\n",
       "     north west    154757\n",
       "     south              5\n",
       "     south east    147191\n",
       "     south west     81070\n",
       "     west               3\n",
       "22   east               4\n",
       "     north              5\n",
       "     north east     91809\n",
       "     north west    150783\n",
       "     south              5\n",
       "     south east    140465\n",
       "     south west     78893\n",
       "     west               3\n",
       "23   east               4\n",
       "     north              5\n",
       "     north east     86385\n",
       "     north west    142069\n",
       "     south              5\n",
       "     south east    124625\n",
       "     south west     70591\n",
       "     west               3\n",
       "Name: sourceid, Length: 192, dtype: int64"
      ]
     },
     "execution_count": 37,
     "metadata": {},
     "output_type": "execute_result"
    }
   ],
   "source": [
    "result"
   ]
  },
  {
   "cell_type": "code",
   "execution_count": 53,
   "metadata": {},
   "outputs": [
    {
     "data": {
      "text/plain": [
       "<matplotlib.axes._subplots.AxesSubplot at 0x7f38dfce2550>"
      ]
     },
     "execution_count": 53,
     "metadata": {},
     "output_type": "execute_result"
    },
    {
     "data": {
      "image/png": "[encoded data removed]",
      "text/plain": [
       "<Figure size 432x288 with 1 Axes>"
      ]
     },
     "metadata": {},
     "output_type": "display_data"
    }
   ],
   "source": [
    "result.plot()\n",
    "#     plt.subplot(2, 1, 1)\n",
    "#     result[i]['direction'].plot(kind='bar')\n",
    "#     plt.show()\n"
   ]
  },
  {
   "cell_type": "code",
   "execution_count": null,
   "metadata": {},
   "outputs": [],
   "source": [
    "def transform_pandas(d):\n",
    "    temp_str = ''\n",
    "    if d['source_lat'] - d['dst_lat']>0:\n",
    "        temp_str = 'north'\n",
    "    elif d['source_lat'] - d['dst_lat']<0:\n",
    "        temp_str = 'south'\n",
    "    if d['source_long'] - d['dst_long']>0:\n",
    "        temp_str += ' east'\n",
    "    elif d['source_long'] - d['dst_long']<0:\n",
    "        temp_str = ' west'\n",
    "    return temp_str"
   ]
  },
  {
   "cell_type": "code",
   "execution_count": null,
   "metadata": {},
   "outputs": [],
   "source": [
    "pd_df['direction'] = pd_df.apply(transform_pandas,axis=1)"
   ]
  },
  {
   "cell_type": "code",
   "execution_count": null,
   "metadata": {},
   "outputs": [],
   "source": []
  }
 ],
 "metadata": {
  "kernelspec": {
   "display_name": "Python 3",
   "language": "python",
   "name": "python3"
  },
  "language_info": {
   "codemirror_mode": {
    "name": "ipython",
    "version": 3
   },
   "file_extension": ".py",
   "mimetype": "text/x-python",
   "name": "python",
   "nbconvert_exporter": "python",
   "pygments_lexer": "ipython3",
   "version": "3.6.5"
  }
 },
 "nbformat": 4,
 "nbformat_minor": 2
}
